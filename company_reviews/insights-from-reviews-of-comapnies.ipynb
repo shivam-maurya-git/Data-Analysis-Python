{
 "cells": [
  {
   "cell_type": "code",
   "execution_count": 1,
   "id": "0c5e284f",
   "metadata": {
    "_cell_guid": "b1076dfc-b9ad-4769-8c92-a6c4dae69d19",
    "_uuid": "8f2839f25d086af736a60e9eeb907d3b93b6e0e5",
    "execution": {
     "iopub.execute_input": "2023-07-08T11:39:47.648523Z",
     "iopub.status.busy": "2023-07-08T11:39:47.648134Z",
     "iopub.status.idle": "2023-07-08T11:39:47.688869Z",
     "shell.execute_reply": "2023-07-08T11:39:47.687691Z"
    },
    "papermill": {
     "duration": 0.057674,
     "end_time": "2023-07-08T11:39:47.692124",
     "exception": false,
     "start_time": "2023-07-08T11:39:47.634450",
     "status": "completed"
    },
    "tags": []
   },
   "outputs": [
    {
     "name": "stdout",
     "output_type": "stream",
     "text": [
      "/kaggle/input/9000-companies-and-its-ratings-dataset/company.csv\n"
     ]
    }
   ],
   "source": [
    "# This Python 3 environment comes with many helpful analytics libraries installed\n",
    "# It is defined by the kaggle/python Docker image: https://github.com/kaggle/docker-python\n",
    "# For example, here's several helpful packages to load\n",
    "\n",
    "import numpy as np # linear algebra\n",
    "import pandas as pd # data processing, CSV file I/O (e.g. pd.read_csv)\n",
    "\n",
    "# Input data files are available in the read-only \"../input/\" directory\n",
    "# For example, running this (by clicking run or pressing Shift+Enter) will list all files under the input directory\n",
    "\n",
    "import os\n",
    "for dirname, _, filenames in os.walk('/kaggle/input'):\n",
    "    for filename in filenames:\n",
    "        print(os.path.join(dirname, filename))\n",
    "\n",
    "# You can write up to 20GB to the current directory (/kaggle/working/) that gets preserved as output when you create a version using \"Save & Run All\" \n",
    "# You can also write temporary files to /kaggle/temp/, but they won't be saved outside of the current session"
   ]
  },
  {
   "cell_type": "markdown",
   "id": "7d3a9748",
   "metadata": {
    "papermill": {
     "duration": 0.00958,
     "end_time": "2023-07-08T11:39:47.711656",
     "exception": false,
     "start_time": "2023-07-08T11:39:47.702076",
     "status": "completed"
    },
    "tags": []
   },
   "source": [
    "## Importing Libraries"
   ]
  },
  {
   "cell_type": "code",
   "execution_count": 2,
   "id": "1c35f86c",
   "metadata": {
    "execution": {
     "iopub.execute_input": "2023-07-08T11:39:47.733152Z",
     "iopub.status.busy": "2023-07-08T11:39:47.732493Z",
     "iopub.status.idle": "2023-07-08T11:39:47.737892Z",
     "shell.execute_reply": "2023-07-08T11:39:47.736661Z"
    },
    "papermill": {
     "duration": 0.019007,
     "end_time": "2023-07-08T11:39:47.740362",
     "exception": false,
     "start_time": "2023-07-08T11:39:47.721355",
     "status": "completed"
    },
    "tags": []
   },
   "outputs": [],
   "source": [
    "import pandas as pd\n",
    "import matplotlib.pyplot as plt"
   ]
  },
  {
   "cell_type": "markdown",
   "id": "36c23024",
   "metadata": {
    "papermill": {
     "duration": 0.009579,
     "end_time": "2023-07-08T11:39:47.759820",
     "exception": false,
     "start_time": "2023-07-08T11:39:47.750241",
     "status": "completed"
    },
    "tags": []
   },
   "source": [
    "## Laoding Data"
   ]
  },
  {
   "cell_type": "code",
   "execution_count": 3,
   "id": "ab76f4d9",
   "metadata": {
    "execution": {
     "iopub.execute_input": "2023-07-08T11:39:47.780894Z",
     "iopub.status.busy": "2023-07-08T11:39:47.780463Z",
     "iopub.status.idle": "2023-07-08T11:39:47.916036Z",
     "shell.execute_reply": "2023-07-08T11:39:47.914898Z"
    },
    "papermill": {
     "duration": 0.149371,
     "end_time": "2023-07-08T11:39:47.918837",
     "exception": false,
     "start_time": "2023-07-08T11:39:47.769466",
     "status": "completed"
    },
    "tags": []
   },
   "outputs": [],
   "source": [
    "df = pd.read_csv('/kaggle/input/9000-companies-and-its-ratings-dataset/company.csv',index_col=0)"
   ]
  },
  {
   "cell_type": "code",
   "execution_count": 4,
   "id": "63b8dfbf",
   "metadata": {
    "execution": {
     "iopub.execute_input": "2023-07-08T11:39:47.940302Z",
     "iopub.status.busy": "2023-07-08T11:39:47.939502Z",
     "iopub.status.idle": "2023-07-08T11:39:47.979709Z",
     "shell.execute_reply": "2023-07-08T11:39:47.978592Z"
    },
    "papermill": {
     "duration": 0.053603,
     "end_time": "2023-07-08T11:39:47.982143",
     "exception": false,
     "start_time": "2023-07-08T11:39:47.928540",
     "status": "completed"
    },
    "tags": []
   },
   "outputs": [
    {
     "data": {
      "text/html": [
       "<div>\n",
       "<style scoped>\n",
       "    .dataframe tbody tr th:only-of-type {\n",
       "        vertical-align: middle;\n",
       "    }\n",
       "\n",
       "    .dataframe tbody tr th {\n",
       "        vertical-align: top;\n",
       "    }\n",
       "\n",
       "    .dataframe thead th {\n",
       "        text-align: right;\n",
       "    }\n",
       "</style>\n",
       "<table border=\"1\" class=\"dataframe\">\n",
       "  <thead>\n",
       "    <tr style=\"text-align: right;\">\n",
       "      <th></th>\n",
       "      <th>name</th>\n",
       "      <th>ratings</th>\n",
       "      <th>review_count</th>\n",
       "      <th>ctype</th>\n",
       "      <th>years</th>\n",
       "      <th>hq</th>\n",
       "      <th>employees</th>\n",
       "    </tr>\n",
       "  </thead>\n",
       "  <tbody>\n",
       "    <tr>\n",
       "      <th>0</th>\n",
       "      <td>TCS</td>\n",
       "      <td>3.8</td>\n",
       "      <td>(59.5k Reviews)</td>\n",
       "      <td>Public</td>\n",
       "      <td>55 years old</td>\n",
       "      <td>Mumbai,Maharashtra + 276 more</td>\n",
       "      <td>1 Lakh+ Employees (India)</td>\n",
       "    </tr>\n",
       "    <tr>\n",
       "      <th>1</th>\n",
       "      <td>Accenture</td>\n",
       "      <td>4.1</td>\n",
       "      <td>(38.1k Reviews)</td>\n",
       "      <td>Public</td>\n",
       "      <td>34 years old</td>\n",
       "      <td>Dublin + 139 more</td>\n",
       "      <td>1 Lakh+ Employees (India)</td>\n",
       "    </tr>\n",
       "    <tr>\n",
       "      <th>2</th>\n",
       "      <td>Cognizant</td>\n",
       "      <td>3.9</td>\n",
       "      <td>(34.7k Reviews)</td>\n",
       "      <td>Private</td>\n",
       "      <td>29 years old</td>\n",
       "      <td>Teaneck. New Jersey. + 109 more</td>\n",
       "      <td>1 Lakh+ Employees (India)</td>\n",
       "    </tr>\n",
       "    <tr>\n",
       "      <th>3</th>\n",
       "      <td>ICICI Bank</td>\n",
       "      <td>4.0</td>\n",
       "      <td>(28.4k Reviews)</td>\n",
       "      <td>Public</td>\n",
       "      <td>29 years old</td>\n",
       "      <td>Mumbai,Maharashtra + 1150 more</td>\n",
       "      <td>1 Lakh+ Employees (India)</td>\n",
       "    </tr>\n",
       "    <tr>\n",
       "      <th>4</th>\n",
       "      <td>Wipro</td>\n",
       "      <td>3.9</td>\n",
       "      <td>(28.1k Reviews)</td>\n",
       "      <td>Public</td>\n",
       "      <td>78 years old</td>\n",
       "      <td>Bangalore/Bengaluru,Karnataka + 235 more</td>\n",
       "      <td>1 Lakh+ Employees (India)</td>\n",
       "    </tr>\n",
       "    <tr>\n",
       "      <th>...</th>\n",
       "      <td>...</td>\n",
       "      <td>...</td>\n",
       "      <td>...</td>\n",
       "      <td>...</td>\n",
       "      <td>...</td>\n",
       "      <td>...</td>\n",
       "      <td>...</td>\n",
       "    </tr>\n",
       "    <tr>\n",
       "      <th>8995</th>\n",
       "      <td>Bharti Airtel</td>\n",
       "      <td>4.1</td>\n",
       "      <td>(10.3k Reviews)</td>\n",
       "      <td>Public</td>\n",
       "      <td>28 years old</td>\n",
       "      <td>Gurgaon/Gurugram,Haryana + 570 more</td>\n",
       "      <td>10k-50k Employees (India)</td>\n",
       "    </tr>\n",
       "    <tr>\n",
       "      <th>8996</th>\n",
       "      <td>Tata Motors</td>\n",
       "      <td>4.2</td>\n",
       "      <td>(9.6k Reviews)</td>\n",
       "      <td>Public</td>\n",
       "      <td>78 years old</td>\n",
       "      <td>Pune,Maharashtra + 401 more</td>\n",
       "      <td>50k-1 Lakh Employees (India)</td>\n",
       "    </tr>\n",
       "    <tr>\n",
       "      <th>8997</th>\n",
       "      <td>Flipkart</td>\n",
       "      <td>4.1</td>\n",
       "      <td>(8.3k Reviews)</td>\n",
       "      <td>Public</td>\n",
       "      <td>16 years old</td>\n",
       "      <td>Bangalore,Karnataka + 481 more</td>\n",
       "      <td>10k-50k Employees (India)</td>\n",
       "    </tr>\n",
       "    <tr>\n",
       "      <th>8998</th>\n",
       "      <td>WNS</td>\n",
       "      <td>3.6</td>\n",
       "      <td>(8k Reviews)</td>\n",
       "      <td>Private</td>\n",
       "      <td>27 years old</td>\n",
       "      <td>Mumbai,Maharashtra + 25 more</td>\n",
       "      <td>10k-50k Employees (India)</td>\n",
       "    </tr>\n",
       "    <tr>\n",
       "      <th>8999</th>\n",
       "      <td>Ernst &amp; Young</td>\n",
       "      <td>3.7</td>\n",
       "      <td>(8k Reviews)</td>\n",
       "      <td>Private</td>\n",
       "      <td>21 years old</td>\n",
       "      <td>London + 80 more</td>\n",
       "      <td>10k-50k Employees (India)</td>\n",
       "    </tr>\n",
       "  </tbody>\n",
       "</table>\n",
       "<p>9000 rows × 7 columns</p>\n",
       "</div>"
      ],
      "text/plain": [
       "               name  ratings     review_count    ctype         years  \\\n",
       "0               TCS      3.8  (59.5k Reviews)   Public  55 years old   \n",
       "1         Accenture      4.1  (38.1k Reviews)   Public  34 years old   \n",
       "2         Cognizant      3.9  (34.7k Reviews)  Private  29 years old   \n",
       "3        ICICI Bank      4.0  (28.4k Reviews)   Public  29 years old   \n",
       "4             Wipro      3.9  (28.1k Reviews)   Public  78 years old   \n",
       "...             ...      ...              ...      ...           ...   \n",
       "8995  Bharti Airtel      4.1  (10.3k Reviews)   Public  28 years old   \n",
       "8996    Tata Motors      4.2   (9.6k Reviews)   Public  78 years old   \n",
       "8997       Flipkart      4.1   (8.3k Reviews)   Public  16 years old   \n",
       "8998            WNS      3.6     (8k Reviews)  Private  27 years old   \n",
       "8999  Ernst & Young      3.7     (8k Reviews)  Private  21 years old   \n",
       "\n",
       "                                            hq                     employees  \n",
       "0                Mumbai,Maharashtra + 276 more     1 Lakh+ Employees (India)  \n",
       "1                            Dublin + 139 more     1 Lakh+ Employees (India)  \n",
       "2              Teaneck. New Jersey. + 109 more     1 Lakh+ Employees (India)  \n",
       "3               Mumbai,Maharashtra + 1150 more     1 Lakh+ Employees (India)  \n",
       "4     Bangalore/Bengaluru,Karnataka + 235 more     1 Lakh+ Employees (India)  \n",
       "...                                        ...                           ...  \n",
       "8995       Gurgaon/Gurugram,Haryana + 570 more     10k-50k Employees (India)  \n",
       "8996               Pune,Maharashtra + 401 more  50k-1 Lakh Employees (India)  \n",
       "8997            Bangalore,Karnataka + 481 more     10k-50k Employees (India)  \n",
       "8998              Mumbai,Maharashtra + 25 more     10k-50k Employees (India)  \n",
       "8999                          London + 80 more     10k-50k Employees (India)  \n",
       "\n",
       "[9000 rows x 7 columns]"
      ]
     },
     "execution_count": 4,
     "metadata": {},
     "output_type": "execute_result"
    }
   ],
   "source": [
    "df"
   ]
  },
  {
   "cell_type": "markdown",
   "id": "2a97d13d",
   "metadata": {
    "papermill": {
     "duration": 0.009852,
     "end_time": "2023-07-08T11:39:48.002618",
     "exception": false,
     "start_time": "2023-07-08T11:39:47.992766",
     "status": "completed"
    },
    "tags": []
   },
   "source": [
    "## Formatting Data"
   ]
  },
  {
   "cell_type": "code",
   "execution_count": 5,
   "id": "3b295e21",
   "metadata": {
    "execution": {
     "iopub.execute_input": "2023-07-08T11:39:48.025547Z",
     "iopub.status.busy": "2023-07-08T11:39:48.025111Z",
     "iopub.status.idle": "2023-07-08T11:39:48.055453Z",
     "shell.execute_reply": "2023-07-08T11:39:48.054519Z"
    },
    "papermill": {
     "duration": 0.044717,
     "end_time": "2023-07-08T11:39:48.058150",
     "exception": false,
     "start_time": "2023-07-08T11:39:48.013433",
     "status": "completed"
    },
    "tags": []
   },
   "outputs": [],
   "source": [
    "#Removing text 'years old' from column 'years'\n",
    "df['years_old'] = df['years'].str.split(' ',expand=True).iloc[:,0]"
   ]
  },
  {
   "cell_type": "code",
   "execution_count": 6,
   "id": "3b0443fb",
   "metadata": {
    "execution": {
     "iopub.execute_input": "2023-07-08T11:39:48.080737Z",
     "iopub.status.busy": "2023-07-08T11:39:48.079985Z",
     "iopub.status.idle": "2023-07-08T11:39:48.087175Z",
     "shell.execute_reply": "2023-07-08T11:39:48.085989Z"
    },
    "papermill": {
     "duration": 0.021515,
     "end_time": "2023-07-08T11:39:48.089984",
     "exception": false,
     "start_time": "2023-07-08T11:39:48.068469",
     "status": "completed"
    },
    "tags": []
   },
   "outputs": [],
   "source": [
    "df.drop('years',axis=1,inplace=True)"
   ]
  },
  {
   "cell_type": "code",
   "execution_count": 7,
   "id": "4469e976",
   "metadata": {
    "execution": {
     "iopub.execute_input": "2023-07-08T11:39:48.112611Z",
     "iopub.status.busy": "2023-07-08T11:39:48.112200Z",
     "iopub.status.idle": "2023-07-08T11:39:48.132038Z",
     "shell.execute_reply": "2023-07-08T11:39:48.130891Z"
    },
    "papermill": {
     "duration": 0.034265,
     "end_time": "2023-07-08T11:39:48.134367",
     "exception": false,
     "start_time": "2023-07-08T11:39:48.100102",
     "status": "completed"
    },
    "tags": []
   },
   "outputs": [
    {
     "data": {
      "text/html": [
       "<div>\n",
       "<style scoped>\n",
       "    .dataframe tbody tr th:only-of-type {\n",
       "        vertical-align: middle;\n",
       "    }\n",
       "\n",
       "    .dataframe tbody tr th {\n",
       "        vertical-align: top;\n",
       "    }\n",
       "\n",
       "    .dataframe thead th {\n",
       "        text-align: right;\n",
       "    }\n",
       "</style>\n",
       "<table border=\"1\" class=\"dataframe\">\n",
       "  <thead>\n",
       "    <tr style=\"text-align: right;\">\n",
       "      <th></th>\n",
       "      <th>name</th>\n",
       "      <th>ratings</th>\n",
       "      <th>review_count</th>\n",
       "      <th>ctype</th>\n",
       "      <th>hq</th>\n",
       "      <th>employees</th>\n",
       "      <th>years_old</th>\n",
       "    </tr>\n",
       "  </thead>\n",
       "  <tbody>\n",
       "    <tr>\n",
       "      <th>0</th>\n",
       "      <td>TCS</td>\n",
       "      <td>3.8</td>\n",
       "      <td>(59.5k Reviews)</td>\n",
       "      <td>Public</td>\n",
       "      <td>Mumbai,Maharashtra + 276 more</td>\n",
       "      <td>1 Lakh+ Employees (India)</td>\n",
       "      <td>55</td>\n",
       "    </tr>\n",
       "    <tr>\n",
       "      <th>1</th>\n",
       "      <td>Accenture</td>\n",
       "      <td>4.1</td>\n",
       "      <td>(38.1k Reviews)</td>\n",
       "      <td>Public</td>\n",
       "      <td>Dublin + 139 more</td>\n",
       "      <td>1 Lakh+ Employees (India)</td>\n",
       "      <td>34</td>\n",
       "    </tr>\n",
       "    <tr>\n",
       "      <th>2</th>\n",
       "      <td>Cognizant</td>\n",
       "      <td>3.9</td>\n",
       "      <td>(34.7k Reviews)</td>\n",
       "      <td>Private</td>\n",
       "      <td>Teaneck. New Jersey. + 109 more</td>\n",
       "      <td>1 Lakh+ Employees (India)</td>\n",
       "      <td>29</td>\n",
       "    </tr>\n",
       "    <tr>\n",
       "      <th>3</th>\n",
       "      <td>ICICI Bank</td>\n",
       "      <td>4.0</td>\n",
       "      <td>(28.4k Reviews)</td>\n",
       "      <td>Public</td>\n",
       "      <td>Mumbai,Maharashtra + 1150 more</td>\n",
       "      <td>1 Lakh+ Employees (India)</td>\n",
       "      <td>29</td>\n",
       "    </tr>\n",
       "    <tr>\n",
       "      <th>4</th>\n",
       "      <td>Wipro</td>\n",
       "      <td>3.9</td>\n",
       "      <td>(28.1k Reviews)</td>\n",
       "      <td>Public</td>\n",
       "      <td>Bangalore/Bengaluru,Karnataka + 235 more</td>\n",
       "      <td>1 Lakh+ Employees (India)</td>\n",
       "      <td>78</td>\n",
       "    </tr>\n",
       "    <tr>\n",
       "      <th>...</th>\n",
       "      <td>...</td>\n",
       "      <td>...</td>\n",
       "      <td>...</td>\n",
       "      <td>...</td>\n",
       "      <td>...</td>\n",
       "      <td>...</td>\n",
       "      <td>...</td>\n",
       "    </tr>\n",
       "    <tr>\n",
       "      <th>8995</th>\n",
       "      <td>Bharti Airtel</td>\n",
       "      <td>4.1</td>\n",
       "      <td>(10.3k Reviews)</td>\n",
       "      <td>Public</td>\n",
       "      <td>Gurgaon/Gurugram,Haryana + 570 more</td>\n",
       "      <td>10k-50k Employees (India)</td>\n",
       "      <td>28</td>\n",
       "    </tr>\n",
       "    <tr>\n",
       "      <th>8996</th>\n",
       "      <td>Tata Motors</td>\n",
       "      <td>4.2</td>\n",
       "      <td>(9.6k Reviews)</td>\n",
       "      <td>Public</td>\n",
       "      <td>Pune,Maharashtra + 401 more</td>\n",
       "      <td>50k-1 Lakh Employees (India)</td>\n",
       "      <td>78</td>\n",
       "    </tr>\n",
       "    <tr>\n",
       "      <th>8997</th>\n",
       "      <td>Flipkart</td>\n",
       "      <td>4.1</td>\n",
       "      <td>(8.3k Reviews)</td>\n",
       "      <td>Public</td>\n",
       "      <td>Bangalore,Karnataka + 481 more</td>\n",
       "      <td>10k-50k Employees (India)</td>\n",
       "      <td>16</td>\n",
       "    </tr>\n",
       "    <tr>\n",
       "      <th>8998</th>\n",
       "      <td>WNS</td>\n",
       "      <td>3.6</td>\n",
       "      <td>(8k Reviews)</td>\n",
       "      <td>Private</td>\n",
       "      <td>Mumbai,Maharashtra + 25 more</td>\n",
       "      <td>10k-50k Employees (India)</td>\n",
       "      <td>27</td>\n",
       "    </tr>\n",
       "    <tr>\n",
       "      <th>8999</th>\n",
       "      <td>Ernst &amp; Young</td>\n",
       "      <td>3.7</td>\n",
       "      <td>(8k Reviews)</td>\n",
       "      <td>Private</td>\n",
       "      <td>London + 80 more</td>\n",
       "      <td>10k-50k Employees (India)</td>\n",
       "      <td>21</td>\n",
       "    </tr>\n",
       "  </tbody>\n",
       "</table>\n",
       "<p>9000 rows × 7 columns</p>\n",
       "</div>"
      ],
      "text/plain": [
       "               name  ratings     review_count    ctype  \\\n",
       "0               TCS      3.8  (59.5k Reviews)   Public   \n",
       "1         Accenture      4.1  (38.1k Reviews)   Public   \n",
       "2         Cognizant      3.9  (34.7k Reviews)  Private   \n",
       "3        ICICI Bank      4.0  (28.4k Reviews)   Public   \n",
       "4             Wipro      3.9  (28.1k Reviews)   Public   \n",
       "...             ...      ...              ...      ...   \n",
       "8995  Bharti Airtel      4.1  (10.3k Reviews)   Public   \n",
       "8996    Tata Motors      4.2   (9.6k Reviews)   Public   \n",
       "8997       Flipkart      4.1   (8.3k Reviews)   Public   \n",
       "8998            WNS      3.6     (8k Reviews)  Private   \n",
       "8999  Ernst & Young      3.7     (8k Reviews)  Private   \n",
       "\n",
       "                                            hq                     employees  \\\n",
       "0                Mumbai,Maharashtra + 276 more     1 Lakh+ Employees (India)   \n",
       "1                            Dublin + 139 more     1 Lakh+ Employees (India)   \n",
       "2              Teaneck. New Jersey. + 109 more     1 Lakh+ Employees (India)   \n",
       "3               Mumbai,Maharashtra + 1150 more     1 Lakh+ Employees (India)   \n",
       "4     Bangalore/Bengaluru,Karnataka + 235 more     1 Lakh+ Employees (India)   \n",
       "...                                        ...                           ...   \n",
       "8995       Gurgaon/Gurugram,Haryana + 570 more     10k-50k Employees (India)   \n",
       "8996               Pune,Maharashtra + 401 more  50k-1 Lakh Employees (India)   \n",
       "8997            Bangalore,Karnataka + 481 more     10k-50k Employees (India)   \n",
       "8998              Mumbai,Maharashtra + 25 more     10k-50k Employees (India)   \n",
       "8999                          London + 80 more     10k-50k Employees (India)   \n",
       "\n",
       "     years_old  \n",
       "0           55  \n",
       "1           34  \n",
       "2           29  \n",
       "3           29  \n",
       "4           78  \n",
       "...        ...  \n",
       "8995        28  \n",
       "8996        78  \n",
       "8997        16  \n",
       "8998        27  \n",
       "8999        21  \n",
       "\n",
       "[9000 rows x 7 columns]"
      ]
     },
     "execution_count": 7,
     "metadata": {},
     "output_type": "execute_result"
    }
   ],
   "source": [
    "df"
   ]
  },
  {
   "cell_type": "code",
   "execution_count": 8,
   "id": "8261d4c9",
   "metadata": {
    "execution": {
     "iopub.execute_input": "2023-07-08T11:39:48.157464Z",
     "iopub.status.busy": "2023-07-08T11:39:48.156783Z",
     "iopub.status.idle": "2023-07-08T11:39:48.191296Z",
     "shell.execute_reply": "2023-07-08T11:39:48.190063Z"
    },
    "papermill": {
     "duration": 0.049293,
     "end_time": "2023-07-08T11:39:48.194272",
     "exception": false,
     "start_time": "2023-07-08T11:39:48.144979",
     "status": "completed"
    },
    "tags": []
   },
   "outputs": [],
   "source": [
    "#Removing 'k',(),'Reviews' in order to make count int data type\n",
    "replacements = [('k',''),('(',''),(')',''),('Reviews','')]\n",
    "for old,new in replacements:\n",
    "      df['review_count'] = df['review_count'].str.replace(old,new,regex=False)\n",
    "df.rename(columns={'review_count':'reviews(in thousands)'},inplace=True)"
   ]
  },
  {
   "cell_type": "code",
   "execution_count": 9,
   "id": "cf4c06f7",
   "metadata": {
    "execution": {
     "iopub.execute_input": "2023-07-08T11:39:48.218231Z",
     "iopub.status.busy": "2023-07-08T11:39:48.217792Z",
     "iopub.status.idle": "2023-07-08T11:39:48.237977Z",
     "shell.execute_reply": "2023-07-08T11:39:48.236922Z"
    },
    "papermill": {
     "duration": 0.034854,
     "end_time": "2023-07-08T11:39:48.240561",
     "exception": false,
     "start_time": "2023-07-08T11:39:48.205707",
     "status": "completed"
    },
    "tags": []
   },
   "outputs": [
    {
     "data": {
      "text/html": [
       "<div>\n",
       "<style scoped>\n",
       "    .dataframe tbody tr th:only-of-type {\n",
       "        vertical-align: middle;\n",
       "    }\n",
       "\n",
       "    .dataframe tbody tr th {\n",
       "        vertical-align: top;\n",
       "    }\n",
       "\n",
       "    .dataframe thead th {\n",
       "        text-align: right;\n",
       "    }\n",
       "</style>\n",
       "<table border=\"1\" class=\"dataframe\">\n",
       "  <thead>\n",
       "    <tr style=\"text-align: right;\">\n",
       "      <th></th>\n",
       "      <th>name</th>\n",
       "      <th>ratings</th>\n",
       "      <th>reviews(in thousands)</th>\n",
       "      <th>ctype</th>\n",
       "      <th>hq</th>\n",
       "      <th>employees</th>\n",
       "      <th>years_old</th>\n",
       "    </tr>\n",
       "  </thead>\n",
       "  <tbody>\n",
       "    <tr>\n",
       "      <th>0</th>\n",
       "      <td>TCS</td>\n",
       "      <td>3.8</td>\n",
       "      <td>59.5</td>\n",
       "      <td>Public</td>\n",
       "      <td>Mumbai,Maharashtra + 276 more</td>\n",
       "      <td>1 Lakh+ Employees (India)</td>\n",
       "      <td>55</td>\n",
       "    </tr>\n",
       "    <tr>\n",
       "      <th>1</th>\n",
       "      <td>Accenture</td>\n",
       "      <td>4.1</td>\n",
       "      <td>38.1</td>\n",
       "      <td>Public</td>\n",
       "      <td>Dublin + 139 more</td>\n",
       "      <td>1 Lakh+ Employees (India)</td>\n",
       "      <td>34</td>\n",
       "    </tr>\n",
       "    <tr>\n",
       "      <th>2</th>\n",
       "      <td>Cognizant</td>\n",
       "      <td>3.9</td>\n",
       "      <td>34.7</td>\n",
       "      <td>Private</td>\n",
       "      <td>Teaneck. New Jersey. + 109 more</td>\n",
       "      <td>1 Lakh+ Employees (India)</td>\n",
       "      <td>29</td>\n",
       "    </tr>\n",
       "    <tr>\n",
       "      <th>3</th>\n",
       "      <td>ICICI Bank</td>\n",
       "      <td>4.0</td>\n",
       "      <td>28.4</td>\n",
       "      <td>Public</td>\n",
       "      <td>Mumbai,Maharashtra + 1150 more</td>\n",
       "      <td>1 Lakh+ Employees (India)</td>\n",
       "      <td>29</td>\n",
       "    </tr>\n",
       "    <tr>\n",
       "      <th>4</th>\n",
       "      <td>Wipro</td>\n",
       "      <td>3.9</td>\n",
       "      <td>28.1</td>\n",
       "      <td>Public</td>\n",
       "      <td>Bangalore/Bengaluru,Karnataka + 235 more</td>\n",
       "      <td>1 Lakh+ Employees (India)</td>\n",
       "      <td>78</td>\n",
       "    </tr>\n",
       "    <tr>\n",
       "      <th>...</th>\n",
       "      <td>...</td>\n",
       "      <td>...</td>\n",
       "      <td>...</td>\n",
       "      <td>...</td>\n",
       "      <td>...</td>\n",
       "      <td>...</td>\n",
       "      <td>...</td>\n",
       "    </tr>\n",
       "    <tr>\n",
       "      <th>8995</th>\n",
       "      <td>Bharti Airtel</td>\n",
       "      <td>4.1</td>\n",
       "      <td>10.3</td>\n",
       "      <td>Public</td>\n",
       "      <td>Gurgaon/Gurugram,Haryana + 570 more</td>\n",
       "      <td>10k-50k Employees (India)</td>\n",
       "      <td>28</td>\n",
       "    </tr>\n",
       "    <tr>\n",
       "      <th>8996</th>\n",
       "      <td>Tata Motors</td>\n",
       "      <td>4.2</td>\n",
       "      <td>9.6</td>\n",
       "      <td>Public</td>\n",
       "      <td>Pune,Maharashtra + 401 more</td>\n",
       "      <td>50k-1 Lakh Employees (India)</td>\n",
       "      <td>78</td>\n",
       "    </tr>\n",
       "    <tr>\n",
       "      <th>8997</th>\n",
       "      <td>Flipkart</td>\n",
       "      <td>4.1</td>\n",
       "      <td>8.3</td>\n",
       "      <td>Public</td>\n",
       "      <td>Bangalore,Karnataka + 481 more</td>\n",
       "      <td>10k-50k Employees (India)</td>\n",
       "      <td>16</td>\n",
       "    </tr>\n",
       "    <tr>\n",
       "      <th>8998</th>\n",
       "      <td>WNS</td>\n",
       "      <td>3.6</td>\n",
       "      <td>8</td>\n",
       "      <td>Private</td>\n",
       "      <td>Mumbai,Maharashtra + 25 more</td>\n",
       "      <td>10k-50k Employees (India)</td>\n",
       "      <td>27</td>\n",
       "    </tr>\n",
       "    <tr>\n",
       "      <th>8999</th>\n",
       "      <td>Ernst &amp; Young</td>\n",
       "      <td>3.7</td>\n",
       "      <td>8</td>\n",
       "      <td>Private</td>\n",
       "      <td>London + 80 more</td>\n",
       "      <td>10k-50k Employees (India)</td>\n",
       "      <td>21</td>\n",
       "    </tr>\n",
       "  </tbody>\n",
       "</table>\n",
       "<p>9000 rows × 7 columns</p>\n",
       "</div>"
      ],
      "text/plain": [
       "               name  ratings reviews(in thousands)    ctype  \\\n",
       "0               TCS      3.8                 59.5    Public   \n",
       "1         Accenture      4.1                 38.1    Public   \n",
       "2         Cognizant      3.9                 34.7   Private   \n",
       "3        ICICI Bank      4.0                 28.4    Public   \n",
       "4             Wipro      3.9                 28.1    Public   \n",
       "...             ...      ...                   ...      ...   \n",
       "8995  Bharti Airtel      4.1                 10.3    Public   \n",
       "8996    Tata Motors      4.2                  9.6    Public   \n",
       "8997       Flipkart      4.1                  8.3    Public   \n",
       "8998            WNS      3.6                    8   Private   \n",
       "8999  Ernst & Young      3.7                    8   Private   \n",
       "\n",
       "                                            hq                     employees  \\\n",
       "0                Mumbai,Maharashtra + 276 more     1 Lakh+ Employees (India)   \n",
       "1                            Dublin + 139 more     1 Lakh+ Employees (India)   \n",
       "2              Teaneck. New Jersey. + 109 more     1 Lakh+ Employees (India)   \n",
       "3               Mumbai,Maharashtra + 1150 more     1 Lakh+ Employees (India)   \n",
       "4     Bangalore/Bengaluru,Karnataka + 235 more     1 Lakh+ Employees (India)   \n",
       "...                                        ...                           ...   \n",
       "8995       Gurgaon/Gurugram,Haryana + 570 more     10k-50k Employees (India)   \n",
       "8996               Pune,Maharashtra + 401 more  50k-1 Lakh Employees (India)   \n",
       "8997            Bangalore,Karnataka + 481 more     10k-50k Employees (India)   \n",
       "8998              Mumbai,Maharashtra + 25 more     10k-50k Employees (India)   \n",
       "8999                          London + 80 more     10k-50k Employees (India)   \n",
       "\n",
       "     years_old  \n",
       "0           55  \n",
       "1           34  \n",
       "2           29  \n",
       "3           29  \n",
       "4           78  \n",
       "...        ...  \n",
       "8995        28  \n",
       "8996        78  \n",
       "8997        16  \n",
       "8998        27  \n",
       "8999        21  \n",
       "\n",
       "[9000 rows x 7 columns]"
      ]
     },
     "execution_count": 9,
     "metadata": {},
     "output_type": "execute_result"
    }
   ],
   "source": [
    "df"
   ]
  },
  {
   "cell_type": "markdown",
   "id": "ba0d8f0e",
   "metadata": {
    "papermill": {
     "duration": 0.01062,
     "end_time": "2023-07-08T11:39:48.261940",
     "exception": false,
     "start_time": "2023-07-08T11:39:48.251320",
     "status": "completed"
    },
    "tags": []
   },
   "source": [
    "**Counting Total number of headquarters and listing main headquarter**"
   ]
  },
  {
   "cell_type": "code",
   "execution_count": 10,
   "id": "32c1aa69",
   "metadata": {
    "execution": {
     "iopub.execute_input": "2023-07-08T11:39:48.286002Z",
     "iopub.status.busy": "2023-07-08T11:39:48.285556Z",
     "iopub.status.idle": "2023-07-08T11:39:48.482778Z",
     "shell.execute_reply": "2023-07-08T11:39:48.481354Z"
    },
    "papermill": {
     "duration": 0.212556,
     "end_time": "2023-07-08T11:39:48.485285",
     "exception": false,
     "start_time": "2023-07-08T11:39:48.272729",
     "status": "completed"
    },
    "tags": []
   },
   "outputs": [],
   "source": [
    "df[['main_hq','hq_count']] = df['hq'].str.split('+',expand=True)"
   ]
  },
  {
   "cell_type": "code",
   "execution_count": 11,
   "id": "70c6bd11",
   "metadata": {
    "execution": {
     "iopub.execute_input": "2023-07-08T11:39:48.508878Z",
     "iopub.status.busy": "2023-07-08T11:39:48.508463Z",
     "iopub.status.idle": "2023-07-08T11:39:48.527531Z",
     "shell.execute_reply": "2023-07-08T11:39:48.526332Z"
    },
    "papermill": {
     "duration": 0.034034,
     "end_time": "2023-07-08T11:39:48.530292",
     "exception": false,
     "start_time": "2023-07-08T11:39:48.496258",
     "status": "completed"
    },
    "tags": []
   },
   "outputs": [],
   "source": [
    "df['hq_count'] = df['hq_count'].str.replace(' more','')"
   ]
  },
  {
   "cell_type": "code",
   "execution_count": 12,
   "id": "acccd45d",
   "metadata": {
    "execution": {
     "iopub.execute_input": "2023-07-08T11:39:48.554507Z",
     "iopub.status.busy": "2023-07-08T11:39:48.553414Z",
     "iopub.status.idle": "2023-07-08T11:39:48.562472Z",
     "shell.execute_reply": "2023-07-08T11:39:48.561221Z"
    },
    "papermill": {
     "duration": 0.023751,
     "end_time": "2023-07-08T11:39:48.564954",
     "exception": false,
     "start_time": "2023-07-08T11:39:48.541203",
     "status": "completed"
    },
    "tags": []
   },
   "outputs": [],
   "source": [
    "df.drop('hq',axis=1,inplace=True)"
   ]
  },
  {
   "cell_type": "code",
   "execution_count": 13,
   "id": "6f9f2f07",
   "metadata": {
    "execution": {
     "iopub.execute_input": "2023-07-08T11:39:48.588603Z",
     "iopub.status.busy": "2023-07-08T11:39:48.588131Z",
     "iopub.status.idle": "2023-07-08T11:39:48.610961Z",
     "shell.execute_reply": "2023-07-08T11:39:48.609801Z"
    },
    "papermill": {
     "duration": 0.037601,
     "end_time": "2023-07-08T11:39:48.613491",
     "exception": false,
     "start_time": "2023-07-08T11:39:48.575890",
     "status": "completed"
    },
    "tags": []
   },
   "outputs": [
    {
     "data": {
      "text/html": [
       "<div>\n",
       "<style scoped>\n",
       "    .dataframe tbody tr th:only-of-type {\n",
       "        vertical-align: middle;\n",
       "    }\n",
       "\n",
       "    .dataframe tbody tr th {\n",
       "        vertical-align: top;\n",
       "    }\n",
       "\n",
       "    .dataframe thead th {\n",
       "        text-align: right;\n",
       "    }\n",
       "</style>\n",
       "<table border=\"1\" class=\"dataframe\">\n",
       "  <thead>\n",
       "    <tr style=\"text-align: right;\">\n",
       "      <th></th>\n",
       "      <th>name</th>\n",
       "      <th>ratings</th>\n",
       "      <th>reviews(in thousands)</th>\n",
       "      <th>ctype</th>\n",
       "      <th>employees</th>\n",
       "      <th>years_old</th>\n",
       "      <th>main_hq</th>\n",
       "      <th>hq_count</th>\n",
       "    </tr>\n",
       "  </thead>\n",
       "  <tbody>\n",
       "    <tr>\n",
       "      <th>0</th>\n",
       "      <td>TCS</td>\n",
       "      <td>3.8</td>\n",
       "      <td>59.5</td>\n",
       "      <td>Public</td>\n",
       "      <td>1 Lakh+ Employees (India)</td>\n",
       "      <td>55</td>\n",
       "      <td>Mumbai,Maharashtra</td>\n",
       "      <td>276</td>\n",
       "    </tr>\n",
       "    <tr>\n",
       "      <th>1</th>\n",
       "      <td>Accenture</td>\n",
       "      <td>4.1</td>\n",
       "      <td>38.1</td>\n",
       "      <td>Public</td>\n",
       "      <td>1 Lakh+ Employees (India)</td>\n",
       "      <td>34</td>\n",
       "      <td>Dublin</td>\n",
       "      <td>139</td>\n",
       "    </tr>\n",
       "    <tr>\n",
       "      <th>2</th>\n",
       "      <td>Cognizant</td>\n",
       "      <td>3.9</td>\n",
       "      <td>34.7</td>\n",
       "      <td>Private</td>\n",
       "      <td>1 Lakh+ Employees (India)</td>\n",
       "      <td>29</td>\n",
       "      <td>Teaneck. New Jersey.</td>\n",
       "      <td>109</td>\n",
       "    </tr>\n",
       "    <tr>\n",
       "      <th>3</th>\n",
       "      <td>ICICI Bank</td>\n",
       "      <td>4.0</td>\n",
       "      <td>28.4</td>\n",
       "      <td>Public</td>\n",
       "      <td>1 Lakh+ Employees (India)</td>\n",
       "      <td>29</td>\n",
       "      <td>Mumbai,Maharashtra</td>\n",
       "      <td>1150</td>\n",
       "    </tr>\n",
       "    <tr>\n",
       "      <th>4</th>\n",
       "      <td>Wipro</td>\n",
       "      <td>3.9</td>\n",
       "      <td>28.1</td>\n",
       "      <td>Public</td>\n",
       "      <td>1 Lakh+ Employees (India)</td>\n",
       "      <td>78</td>\n",
       "      <td>Bangalore/Bengaluru,Karnataka</td>\n",
       "      <td>235</td>\n",
       "    </tr>\n",
       "    <tr>\n",
       "      <th>...</th>\n",
       "      <td>...</td>\n",
       "      <td>...</td>\n",
       "      <td>...</td>\n",
       "      <td>...</td>\n",
       "      <td>...</td>\n",
       "      <td>...</td>\n",
       "      <td>...</td>\n",
       "      <td>...</td>\n",
       "    </tr>\n",
       "    <tr>\n",
       "      <th>8995</th>\n",
       "      <td>Bharti Airtel</td>\n",
       "      <td>4.1</td>\n",
       "      <td>10.3</td>\n",
       "      <td>Public</td>\n",
       "      <td>10k-50k Employees (India)</td>\n",
       "      <td>28</td>\n",
       "      <td>Gurgaon/Gurugram,Haryana</td>\n",
       "      <td>570</td>\n",
       "    </tr>\n",
       "    <tr>\n",
       "      <th>8996</th>\n",
       "      <td>Tata Motors</td>\n",
       "      <td>4.2</td>\n",
       "      <td>9.6</td>\n",
       "      <td>Public</td>\n",
       "      <td>50k-1 Lakh Employees (India)</td>\n",
       "      <td>78</td>\n",
       "      <td>Pune,Maharashtra</td>\n",
       "      <td>401</td>\n",
       "    </tr>\n",
       "    <tr>\n",
       "      <th>8997</th>\n",
       "      <td>Flipkart</td>\n",
       "      <td>4.1</td>\n",
       "      <td>8.3</td>\n",
       "      <td>Public</td>\n",
       "      <td>10k-50k Employees (India)</td>\n",
       "      <td>16</td>\n",
       "      <td>Bangalore,Karnataka</td>\n",
       "      <td>481</td>\n",
       "    </tr>\n",
       "    <tr>\n",
       "      <th>8998</th>\n",
       "      <td>WNS</td>\n",
       "      <td>3.6</td>\n",
       "      <td>8</td>\n",
       "      <td>Private</td>\n",
       "      <td>10k-50k Employees (India)</td>\n",
       "      <td>27</td>\n",
       "      <td>Mumbai,Maharashtra</td>\n",
       "      <td>25</td>\n",
       "    </tr>\n",
       "    <tr>\n",
       "      <th>8999</th>\n",
       "      <td>Ernst &amp; Young</td>\n",
       "      <td>3.7</td>\n",
       "      <td>8</td>\n",
       "      <td>Private</td>\n",
       "      <td>10k-50k Employees (India)</td>\n",
       "      <td>21</td>\n",
       "      <td>London</td>\n",
       "      <td>80</td>\n",
       "    </tr>\n",
       "  </tbody>\n",
       "</table>\n",
       "<p>9000 rows × 8 columns</p>\n",
       "</div>"
      ],
      "text/plain": [
       "               name  ratings reviews(in thousands)    ctype  \\\n",
       "0               TCS      3.8                 59.5    Public   \n",
       "1         Accenture      4.1                 38.1    Public   \n",
       "2         Cognizant      3.9                 34.7   Private   \n",
       "3        ICICI Bank      4.0                 28.4    Public   \n",
       "4             Wipro      3.9                 28.1    Public   \n",
       "...             ...      ...                   ...      ...   \n",
       "8995  Bharti Airtel      4.1                 10.3    Public   \n",
       "8996    Tata Motors      4.2                  9.6    Public   \n",
       "8997       Flipkart      4.1                  8.3    Public   \n",
       "8998            WNS      3.6                    8   Private   \n",
       "8999  Ernst & Young      3.7                    8   Private   \n",
       "\n",
       "                         employees years_old                         main_hq  \\\n",
       "0        1 Lakh+ Employees (India)        55             Mumbai,Maharashtra    \n",
       "1        1 Lakh+ Employees (India)        34                         Dublin    \n",
       "2        1 Lakh+ Employees (India)        29           Teaneck. New Jersey.    \n",
       "3        1 Lakh+ Employees (India)        29             Mumbai,Maharashtra    \n",
       "4        1 Lakh+ Employees (India)        78  Bangalore/Bengaluru,Karnataka    \n",
       "...                            ...       ...                             ...   \n",
       "8995     10k-50k Employees (India)        28       Gurgaon/Gurugram,Haryana    \n",
       "8996  50k-1 Lakh Employees (India)        78               Pune,Maharashtra    \n",
       "8997     10k-50k Employees (India)        16            Bangalore,Karnataka    \n",
       "8998     10k-50k Employees (India)        27             Mumbai,Maharashtra    \n",
       "8999     10k-50k Employees (India)        21                         London    \n",
       "\n",
       "     hq_count  \n",
       "0         276  \n",
       "1         139  \n",
       "2         109  \n",
       "3        1150  \n",
       "4         235  \n",
       "...       ...  \n",
       "8995      570  \n",
       "8996      401  \n",
       "8997      481  \n",
       "8998       25  \n",
       "8999       80  \n",
       "\n",
       "[9000 rows x 8 columns]"
      ]
     },
     "execution_count": 13,
     "metadata": {},
     "output_type": "execute_result"
    }
   ],
   "source": [
    "df"
   ]
  },
  {
   "cell_type": "markdown",
   "id": "6ccb42a8",
   "metadata": {
    "papermill": {
     "duration": 0.010957,
     "end_time": "2023-07-08T11:39:48.636295",
     "exception": false,
     "start_time": "2023-07-08T11:39:48.625338",
     "status": "completed"
    },
    "tags": []
   },
   "source": [
    "## Checking Data Types"
   ]
  },
  {
   "cell_type": "code",
   "execution_count": 14,
   "id": "1af5f981",
   "metadata": {
    "execution": {
     "iopub.execute_input": "2023-07-08T11:39:48.660653Z",
     "iopub.status.busy": "2023-07-08T11:39:48.660195Z",
     "iopub.status.idle": "2023-07-08T11:39:48.668814Z",
     "shell.execute_reply": "2023-07-08T11:39:48.667843Z"
    },
    "papermill": {
     "duration": 0.023956,
     "end_time": "2023-07-08T11:39:48.671360",
     "exception": false,
     "start_time": "2023-07-08T11:39:48.647404",
     "status": "completed"
    },
    "tags": []
   },
   "outputs": [
    {
     "data": {
      "text/plain": [
       "name                      object\n",
       "ratings                  float64\n",
       "reviews(in thousands)     object\n",
       "ctype                     object\n",
       "employees                 object\n",
       "years_old                 object\n",
       "main_hq                   object\n",
       "hq_count                  object\n",
       "dtype: object"
      ]
     },
     "execution_count": 14,
     "metadata": {},
     "output_type": "execute_result"
    }
   ],
   "source": [
    "df.dtypes"
   ]
  },
  {
   "cell_type": "code",
   "execution_count": 15,
   "id": "5dd31fce",
   "metadata": {
    "execution": {
     "iopub.execute_input": "2023-07-08T11:39:48.696901Z",
     "iopub.status.busy": "2023-07-08T11:39:48.695841Z",
     "iopub.status.idle": "2023-07-08T11:39:48.705046Z",
     "shell.execute_reply": "2023-07-08T11:39:48.703893Z"
    },
    "papermill": {
     "duration": 0.025068,
     "end_time": "2023-07-08T11:39:48.708074",
     "exception": false,
     "start_time": "2023-07-08T11:39:48.683006",
     "status": "completed"
    },
    "tags": []
   },
   "outputs": [],
   "source": [
    "df['reviews(in thousands)'] = df['reviews(in thousands)'].astype('float')"
   ]
  },
  {
   "cell_type": "code",
   "execution_count": 16,
   "id": "dc62ed5e",
   "metadata": {
    "execution": {
     "iopub.execute_input": "2023-07-08T11:39:48.733645Z",
     "iopub.status.busy": "2023-07-08T11:39:48.733232Z",
     "iopub.status.idle": "2023-07-08T11:39:48.747843Z",
     "shell.execute_reply": "2023-07-08T11:39:48.746641Z"
    },
    "papermill": {
     "duration": 0.030325,
     "end_time": "2023-07-08T11:39:48.750556",
     "exception": false,
     "start_time": "2023-07-08T11:39:48.720231",
     "status": "completed"
    },
    "tags": []
   },
   "outputs": [],
   "source": [
    "df[['years_old','hq_count']] = df[['years_old','hq_count']].astype('int')"
   ]
  },
  {
   "cell_type": "markdown",
   "id": "50869d75",
   "metadata": {
    "papermill": {
     "duration": 0.011104,
     "end_time": "2023-07-08T11:39:48.773356",
     "exception": false,
     "start_time": "2023-07-08T11:39:48.762252",
     "status": "completed"
    },
    "tags": []
   },
   "source": [
    "## Analyzing Data"
   ]
  },
  {
   "cell_type": "code",
   "execution_count": 17,
   "id": "35eae160",
   "metadata": {
    "execution": {
     "iopub.execute_input": "2023-07-08T11:39:48.798137Z",
     "iopub.status.busy": "2023-07-08T11:39:48.797745Z",
     "iopub.status.idle": "2023-07-08T11:39:48.828122Z",
     "shell.execute_reply": "2023-07-08T11:39:48.826788Z"
    },
    "papermill": {
     "duration": 0.046229,
     "end_time": "2023-07-08T11:39:48.830862",
     "exception": false,
     "start_time": "2023-07-08T11:39:48.784633",
     "status": "completed"
    },
    "tags": []
   },
   "outputs": [
    {
     "data": {
      "text/html": [
       "<div>\n",
       "<style scoped>\n",
       "    .dataframe tbody tr th:only-of-type {\n",
       "        vertical-align: middle;\n",
       "    }\n",
       "\n",
       "    .dataframe tbody tr th {\n",
       "        vertical-align: top;\n",
       "    }\n",
       "\n",
       "    .dataframe thead th {\n",
       "        text-align: right;\n",
       "    }\n",
       "</style>\n",
       "<table border=\"1\" class=\"dataframe\">\n",
       "  <thead>\n",
       "    <tr style=\"text-align: right;\">\n",
       "      <th></th>\n",
       "      <th>avg_rating</th>\n",
       "    </tr>\n",
       "    <tr>\n",
       "      <th>name</th>\n",
       "      <th></th>\n",
       "    </tr>\n",
       "  </thead>\n",
       "  <tbody>\n",
       "    <tr>\n",
       "      <th>Vodafone Idea</th>\n",
       "      <td>4.2</td>\n",
       "    </tr>\n",
       "    <tr>\n",
       "      <th>Tata Motors</th>\n",
       "      <td>4.2</td>\n",
       "    </tr>\n",
       "    <tr>\n",
       "      <th>Amazon</th>\n",
       "      <td>4.2</td>\n",
       "    </tr>\n",
       "    <tr>\n",
       "      <th>Accenture</th>\n",
       "      <td>4.1</td>\n",
       "    </tr>\n",
       "    <tr>\n",
       "      <th>Flipkart</th>\n",
       "      <td>4.1</td>\n",
       "    </tr>\n",
       "    <tr>\n",
       "      <th>IBM</th>\n",
       "      <td>4.1</td>\n",
       "    </tr>\n",
       "    <tr>\n",
       "      <th>Bharti Airtel</th>\n",
       "      <td>4.1</td>\n",
       "    </tr>\n",
       "    <tr>\n",
       "      <th>Concentrix Corpo...</th>\n",
       "      <td>4.0</td>\n",
       "    </tr>\n",
       "    <tr>\n",
       "      <th>Deloitte</th>\n",
       "      <td>4.0</td>\n",
       "    </tr>\n",
       "    <tr>\n",
       "      <th>Reliance Retail</th>\n",
       "      <td>4.0</td>\n",
       "    </tr>\n",
       "    <tr>\n",
       "      <th>Genpact</th>\n",
       "      <td>4.0</td>\n",
       "    </tr>\n",
       "    <tr>\n",
       "      <th>Reliance Jio</th>\n",
       "      <td>4.0</td>\n",
       "    </tr>\n",
       "    <tr>\n",
       "      <th>HDB Financial Se...</th>\n",
       "      <td>4.0</td>\n",
       "    </tr>\n",
       "    <tr>\n",
       "      <th>Reliance Industr...</th>\n",
       "      <td>4.0</td>\n",
       "    </tr>\n",
       "    <tr>\n",
       "      <th>ICICI Bank</th>\n",
       "      <td>4.0</td>\n",
       "    </tr>\n",
       "    <tr>\n",
       "      <th>Larsen &amp; Toubro ...</th>\n",
       "      <td>4.0</td>\n",
       "    </tr>\n",
       "    <tr>\n",
       "      <th>Cognizant</th>\n",
       "      <td>3.9</td>\n",
       "    </tr>\n",
       "    <tr>\n",
       "      <th>Axis Bank</th>\n",
       "      <td>3.9</td>\n",
       "    </tr>\n",
       "    <tr>\n",
       "      <th>Wipro</th>\n",
       "      <td>3.9</td>\n",
       "    </tr>\n",
       "    <tr>\n",
       "      <th>Infosys</th>\n",
       "      <td>3.9</td>\n",
       "    </tr>\n",
       "    <tr>\n",
       "      <th>HDFC Bank</th>\n",
       "      <td>3.9</td>\n",
       "    </tr>\n",
       "    <tr>\n",
       "      <th>Capgemini</th>\n",
       "      <td>3.9</td>\n",
       "    </tr>\n",
       "    <tr>\n",
       "      <th>HCLTech</th>\n",
       "      <td>3.8</td>\n",
       "    </tr>\n",
       "    <tr>\n",
       "      <th>TCS</th>\n",
       "      <td>3.8</td>\n",
       "    </tr>\n",
       "    <tr>\n",
       "      <th>Kotak Mahindra B...</th>\n",
       "      <td>3.8</td>\n",
       "    </tr>\n",
       "    <tr>\n",
       "      <th>Tech Mahindra</th>\n",
       "      <td>3.7</td>\n",
       "    </tr>\n",
       "    <tr>\n",
       "      <th>Ernst &amp; Young</th>\n",
       "      <td>3.7</td>\n",
       "    </tr>\n",
       "    <tr>\n",
       "      <th>Teleperformance</th>\n",
       "      <td>3.6</td>\n",
       "    </tr>\n",
       "    <tr>\n",
       "      <th>WNS</th>\n",
       "      <td>3.6</td>\n",
       "    </tr>\n",
       "    <tr>\n",
       "      <th>BYJU'S</th>\n",
       "      <td>3.2</td>\n",
       "    </tr>\n",
       "  </tbody>\n",
       "</table>\n",
       "</div>"
      ],
      "text/plain": [
       "                     avg_rating\n",
       "name                           \n",
       "Vodafone Idea               4.2\n",
       "Tata Motors                 4.2\n",
       "Amazon                      4.2\n",
       "Accenture                   4.1\n",
       "Flipkart                    4.1\n",
       "IBM                         4.1\n",
       "Bharti Airtel               4.1\n",
       "Concentrix Corpo...         4.0\n",
       "Deloitte                    4.0\n",
       "Reliance Retail             4.0\n",
       "Genpact                     4.0\n",
       "Reliance Jio                4.0\n",
       "HDB Financial Se...         4.0\n",
       "Reliance Industr...         4.0\n",
       "ICICI Bank                  4.0\n",
       "Larsen & Toubro ...         4.0\n",
       "Cognizant                   3.9\n",
       "Axis Bank                   3.9\n",
       "Wipro                       3.9\n",
       "Infosys                     3.9\n",
       "HDFC Bank                   3.9\n",
       "Capgemini                   3.9\n",
       "HCLTech                     3.8\n",
       "TCS                         3.8\n",
       "Kotak Mahindra B...         3.8\n",
       "Tech Mahindra               3.7\n",
       "Ernst & Young               3.7\n",
       "Teleperformance             3.6\n",
       "WNS                         3.6\n",
       "BYJU'S                      3.2"
      ]
     },
     "execution_count": 17,
     "metadata": {},
     "output_type": "execute_result"
    }
   ],
   "source": [
    "avg_ratings = df.pivot_table(values='ratings',index='name',aggfunc=np.mean).sort_values('ratings',ascending=False)\n",
    "avg_ratings.rename(columns={'ratings':'avg_rating'})"
   ]
  },
  {
   "cell_type": "markdown",
   "id": "f40262ba",
   "metadata": {
    "papermill": {
     "duration": 0.011325,
     "end_time": "2023-07-08T11:39:48.853978",
     "exception": false,
     "start_time": "2023-07-08T11:39:48.842653",
     "status": "completed"
    },
    "tags": []
   },
   "source": [
    "<h3> Observation: </h3>\n",
    "* We found average rating, but we have need to check total number of reviews also, because more number of reviews gives better space for evaluation."
   ]
  },
  {
   "cell_type": "code",
   "execution_count": 18,
   "id": "f92a8809",
   "metadata": {
    "execution": {
     "iopub.execute_input": "2023-07-08T11:39:48.880022Z",
     "iopub.status.busy": "2023-07-08T11:39:48.879623Z",
     "iopub.status.idle": "2023-07-08T11:39:48.904360Z",
     "shell.execute_reply": "2023-07-08T11:39:48.903102Z"
    },
    "papermill": {
     "duration": 0.04127,
     "end_time": "2023-07-08T11:39:48.906961",
     "exception": false,
     "start_time": "2023-07-08T11:39:48.865691",
     "status": "completed"
    },
    "tags": []
   },
   "outputs": [
    {
     "data": {
      "text/html": [
       "<div>\n",
       "<style scoped>\n",
       "    .dataframe tbody tr th:only-of-type {\n",
       "        vertical-align: middle;\n",
       "    }\n",
       "\n",
       "    .dataframe tbody tr th {\n",
       "        vertical-align: top;\n",
       "    }\n",
       "\n",
       "    .dataframe thead th {\n",
       "        text-align: right;\n",
       "    }\n",
       "</style>\n",
       "<table border=\"1\" class=\"dataframe\">\n",
       "  <thead>\n",
       "    <tr style=\"text-align: right;\">\n",
       "      <th></th>\n",
       "      <th>reviews(in thousands)</th>\n",
       "    </tr>\n",
       "    <tr>\n",
       "      <th>name</th>\n",
       "      <th></th>\n",
       "    </tr>\n",
       "  </thead>\n",
       "  <tbody>\n",
       "    <tr>\n",
       "      <th>Accenture</th>\n",
       "      <td>300</td>\n",
       "    </tr>\n",
       "    <tr>\n",
       "      <th>Amazon</th>\n",
       "      <td>300</td>\n",
       "    </tr>\n",
       "    <tr>\n",
       "      <th>WNS</th>\n",
       "      <td>300</td>\n",
       "    </tr>\n",
       "    <tr>\n",
       "      <th>Vodafone Idea</th>\n",
       "      <td>300</td>\n",
       "    </tr>\n",
       "    <tr>\n",
       "      <th>Teleperformance</th>\n",
       "      <td>300</td>\n",
       "    </tr>\n",
       "    <tr>\n",
       "      <th>Tech Mahindra</th>\n",
       "      <td>300</td>\n",
       "    </tr>\n",
       "    <tr>\n",
       "      <th>Tata Motors</th>\n",
       "      <td>300</td>\n",
       "    </tr>\n",
       "    <tr>\n",
       "      <th>TCS</th>\n",
       "      <td>300</td>\n",
       "    </tr>\n",
       "    <tr>\n",
       "      <th>Reliance Retail</th>\n",
       "      <td>300</td>\n",
       "    </tr>\n",
       "    <tr>\n",
       "      <th>Reliance Jio</th>\n",
       "      <td>300</td>\n",
       "    </tr>\n",
       "    <tr>\n",
       "      <th>Reliance Industr...</th>\n",
       "      <td>300</td>\n",
       "    </tr>\n",
       "    <tr>\n",
       "      <th>Larsen &amp; Toubro ...</th>\n",
       "      <td>300</td>\n",
       "    </tr>\n",
       "    <tr>\n",
       "      <th>Kotak Mahindra B...</th>\n",
       "      <td>300</td>\n",
       "    </tr>\n",
       "    <tr>\n",
       "      <th>Infosys</th>\n",
       "      <td>300</td>\n",
       "    </tr>\n",
       "    <tr>\n",
       "      <th>ICICI Bank</th>\n",
       "      <td>300</td>\n",
       "    </tr>\n",
       "    <tr>\n",
       "      <th>IBM</th>\n",
       "      <td>300</td>\n",
       "    </tr>\n",
       "    <tr>\n",
       "      <th>HDFC Bank</th>\n",
       "      <td>300</td>\n",
       "    </tr>\n",
       "    <tr>\n",
       "      <th>HDB Financial Se...</th>\n",
       "      <td>300</td>\n",
       "    </tr>\n",
       "    <tr>\n",
       "      <th>HCLTech</th>\n",
       "      <td>300</td>\n",
       "    </tr>\n",
       "    <tr>\n",
       "      <th>Genpact</th>\n",
       "      <td>300</td>\n",
       "    </tr>\n",
       "    <tr>\n",
       "      <th>Flipkart</th>\n",
       "      <td>300</td>\n",
       "    </tr>\n",
       "    <tr>\n",
       "      <th>Ernst &amp; Young</th>\n",
       "      <td>300</td>\n",
       "    </tr>\n",
       "    <tr>\n",
       "      <th>Deloitte</th>\n",
       "      <td>300</td>\n",
       "    </tr>\n",
       "    <tr>\n",
       "      <th>Concentrix Corpo...</th>\n",
       "      <td>300</td>\n",
       "    </tr>\n",
       "    <tr>\n",
       "      <th>Cognizant</th>\n",
       "      <td>300</td>\n",
       "    </tr>\n",
       "    <tr>\n",
       "      <th>Capgemini</th>\n",
       "      <td>300</td>\n",
       "    </tr>\n",
       "    <tr>\n",
       "      <th>Bharti Airtel</th>\n",
       "      <td>300</td>\n",
       "    </tr>\n",
       "    <tr>\n",
       "      <th>BYJU'S</th>\n",
       "      <td>300</td>\n",
       "    </tr>\n",
       "    <tr>\n",
       "      <th>Axis Bank</th>\n",
       "      <td>300</td>\n",
       "    </tr>\n",
       "    <tr>\n",
       "      <th>Wipro</th>\n",
       "      <td>300</td>\n",
       "    </tr>\n",
       "  </tbody>\n",
       "</table>\n",
       "</div>"
      ],
      "text/plain": [
       "                     reviews(in thousands)\n",
       "name                                      \n",
       "Accenture                              300\n",
       "Amazon                                 300\n",
       "WNS                                    300\n",
       "Vodafone Idea                          300\n",
       "Teleperformance                        300\n",
       "Tech Mahindra                          300\n",
       "Tata Motors                            300\n",
       "TCS                                    300\n",
       "Reliance Retail                        300\n",
       "Reliance Jio                           300\n",
       "Reliance Industr...                    300\n",
       "Larsen & Toubro ...                    300\n",
       "Kotak Mahindra B...                    300\n",
       "Infosys                                300\n",
       "ICICI Bank                             300\n",
       "IBM                                    300\n",
       "HDFC Bank                              300\n",
       "HDB Financial Se...                    300\n",
       "HCLTech                                300\n",
       "Genpact                                300\n",
       "Flipkart                               300\n",
       "Ernst & Young                          300\n",
       "Deloitte                               300\n",
       "Concentrix Corpo...                    300\n",
       "Cognizant                              300\n",
       "Capgemini                              300\n",
       "Bharti Airtel                          300\n",
       "BYJU'S                                 300\n",
       "Axis Bank                              300\n",
       "Wipro                                  300"
      ]
     },
     "execution_count": 18,
     "metadata": {},
     "output_type": "execute_result"
    }
   ],
   "source": [
    "reviews_count = df.pivot_table(values='reviews(in thousands)',index='name',aggfunc=np.count_nonzero).sort_values('reviews(in thousands)',ascending=False)\n",
    "reviews_count"
   ]
  },
  {
   "cell_type": "markdown",
   "id": "2db85e38",
   "metadata": {
    "papermill": {
     "duration": 0.011673,
     "end_time": "2023-07-08T11:39:48.931239",
     "exception": false,
     "start_time": "2023-07-08T11:39:48.919566",
     "status": "completed"
    },
    "tags": []
   },
   "source": [
    "**Since, number of reviews is same, so we can go ahead with avg_rating.**"
   ]
  },
  {
   "cell_type": "code",
   "execution_count": 19,
   "id": "f8c844a7",
   "metadata": {
    "execution": {
     "iopub.execute_input": "2023-07-08T11:39:48.957231Z",
     "iopub.status.busy": "2023-07-08T11:39:48.956835Z",
     "iopub.status.idle": "2023-07-08T11:39:49.670734Z",
     "shell.execute_reply": "2023-07-08T11:39:49.669373Z"
    },
    "papermill": {
     "duration": 0.730572,
     "end_time": "2023-07-08T11:39:49.673867",
     "exception": false,
     "start_time": "2023-07-08T11:39:48.943295",
     "status": "completed"
    },
    "tags": []
   },
   "outputs": [
    {
     "data": {
      "image/png": "[encoded data removed]",
      "text/plain": [
       "<Figure size 1000x600 with 1 Axes>"
      ]
     },
     "metadata": {},
     "output_type": "display_data"
    }
   ],
   "source": [
    "avg_ratings.plot(kind='bar',figsize=(10,6),title='Average rating of comapnies',xlabel='company name',ylabel='average rating',grid=True)\n",
    "plt.show()"
   ]
  },
  {
   "cell_type": "markdown",
   "id": "5732c8a5",
   "metadata": {
    "papermill": {
     "duration": 0.013828,
     "end_time": "2023-07-08T11:39:49.701762",
     "exception": false,
     "start_time": "2023-07-08T11:39:49.687934",
     "status": "completed"
    },
    "tags": []
   },
   "source": [
    "**Age of Comapnies**"
   ]
  },
  {
   "cell_type": "code",
   "execution_count": 20,
   "id": "bdbe8aa5",
   "metadata": {
    "execution": {
     "iopub.execute_input": "2023-07-08T11:39:49.730142Z",
     "iopub.status.busy": "2023-07-08T11:39:49.729753Z",
     "iopub.status.idle": "2023-07-08T11:39:49.735689Z",
     "shell.execute_reply": "2023-07-08T11:39:49.734781Z"
    },
    "papermill": {
     "duration": 0.022688,
     "end_time": "2023-07-08T11:39:49.737846",
     "exception": false,
     "start_time": "2023-07-08T11:39:49.715158",
     "status": "completed"
    },
    "tags": []
   },
   "outputs": [],
   "source": [
    "#Creating Copy of dataframe, in order to get value of ages\n",
    "df_copy = df.copy()"
   ]
  },
  {
   "cell_type": "code",
   "execution_count": 21,
   "id": "a1d292ec",
   "metadata": {
    "execution": {
     "iopub.execute_input": "2023-07-08T11:39:49.766765Z",
     "iopub.status.busy": "2023-07-08T11:39:49.766317Z",
     "iopub.status.idle": "2023-07-08T11:39:49.775304Z",
     "shell.execute_reply": "2023-07-08T11:39:49.773754Z"
    },
    "papermill": {
     "duration": 0.026521,
     "end_time": "2023-07-08T11:39:49.777930",
     "exception": false,
     "start_time": "2023-07-08T11:39:49.751409",
     "status": "completed"
    },
    "tags": []
   },
   "outputs": [],
   "source": [
    "df_copy.drop_duplicates('name',inplace=True)"
   ]
  },
  {
   "cell_type": "code",
   "execution_count": 22,
   "id": "10f8c2c9",
   "metadata": {
    "execution": {
     "iopub.execute_input": "2023-07-08T11:39:49.806913Z",
     "iopub.status.busy": "2023-07-08T11:39:49.806467Z",
     "iopub.status.idle": "2023-07-08T11:39:49.815162Z",
     "shell.execute_reply": "2023-07-08T11:39:49.813852Z"
    },
    "papermill": {
     "duration": 0.026199,
     "end_time": "2023-07-08T11:39:49.817655",
     "exception": false,
     "start_time": "2023-07-08T11:39:49.791456",
     "status": "completed"
    },
    "tags": []
   },
   "outputs": [],
   "source": [
    "company_age = df_copy.loc[:,['name','years_old']].sort_values('years_old',ascending=False)"
   ]
  },
  {
   "cell_type": "code",
   "execution_count": 23,
   "id": "3c556c55",
   "metadata": {
    "execution": {
     "iopub.execute_input": "2023-07-08T11:39:49.847672Z",
     "iopub.status.busy": "2023-07-08T11:39:49.846894Z",
     "iopub.status.idle": "2023-07-08T11:39:50.435634Z",
     "shell.execute_reply": "2023-07-08T11:39:50.434414Z"
    },
    "papermill": {
     "duration": 0.606421,
     "end_time": "2023-07-08T11:39:50.438255",
     "exception": false,
     "start_time": "2023-07-08T11:39:49.831834",
     "status": "completed"
    },
    "tags": []
   },
   "outputs": [
    {
     "data": {
      "image/png": "[encoded data removed]",
      "text/plain": [
       "<Figure size 1500x600 with 1 Axes>"
      ]
     },
     "metadata": {},
     "output_type": "display_data"
    }
   ],
   "source": [
    "plt.figure(figsize=(15,6))\n",
    "plt.bar(x=company_age['name'],height=company_age['years_old'])\n",
    "plt.xticks(rotation=90)\n",
    "plt.xlabel('Name of Comapnies')\n",
    "plt.ylabel('Age of Comapnies')\n",
    "plt.title('Age of Comapnies in Years')\n",
    "plt.grid(True)\n",
    "plt.show()"
   ]
  }
 ],
 "metadata": {
  "kernelspec": {
   "display_name": "Python 3",
   "language": "python",
   "name": "python3"
  },
  "language_info": {
   "codemirror_mode": {
    "name": "ipython",
    "version": 3
   },
   "file_extension": ".py",
   "mimetype": "text/x-python",
   "name": "python",
   "nbconvert_exporter": "python",
   "pygments_lexer": "ipython3",
   "version": "3.10.10"
  },
  "papermill": {
   "default_parameters": {},
   "duration": 17.208773,
   "end_time": "2023-07-08T11:39:51.678271",
   "environment_variables": {},
   "exception": null,
   "input_path": "__notebook__.ipynb",
   "output_path": "__notebook__.ipynb",
   "parameters": {},
   "start_time": "2023-07-08T11:39:34.469498",
   "version": "2.4.0"
  }
 },
 "nbformat": 4,
 "nbformat_minor": 5
}
