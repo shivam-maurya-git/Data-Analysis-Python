{
 "cells": [
  {
   "cell_type": "code",
   "execution_count": 1,
   "id": "56ed4fc6",
   "metadata": {
    "_cell_guid": "b1076dfc-b9ad-4769-8c92-a6c4dae69d19",
    "_uuid": "8f2839f25d086af736a60e9eeb907d3b93b6e0e5",
    "execution": {
     "iopub.execute_input": "2023-07-09T06:41:27.634424Z",
     "iopub.status.busy": "2023-07-09T06:41:27.633506Z",
     "iopub.status.idle": "2023-07-09T06:41:27.654492Z",
     "shell.execute_reply": "2023-07-09T06:41:27.653356Z"
    },
    "papermill": {
     "duration": 0.039601,
     "end_time": "2023-07-09T06:41:27.657185",
     "exception": false,
     "start_time": "2023-07-09T06:41:27.617584",
     "status": "completed"
    },
    "tags": []
   },
   "outputs": [
    {
     "name": "stdout",
     "output_type": "stream",
     "text": [
      "/kaggle/input/largest-art-museums/Largest-art-museums.csv\n"
     ]
    }
   ],
   "source": [
    "# This Python 3 environment comes with many helpful analytics libraries installed\n",
    "# It is defined by the kaggle/python Docker image: https://github.com/kaggle/docker-python\n",
    "# For example, here's several helpful packages to load\n",
    "\n",
    "import numpy as np # linear algebra\n",
    "import pandas as pd # data processing, CSV file I/O (e.g. pd.read_csv)\n",
    "\n",
    "# Input data files are available in the read-only \"../input/\" directory\n",
    "# For example, running this (by clicking run or pressing Shift+Enter) will list all files under the input directory\n",
    "\n",
    "import os\n",
    "for dirname, _, filenames in os.walk('/kaggle/input'):\n",
    "    for filename in filenames:\n",
    "        print(os.path.join(dirname, filename))\n",
    "\n",
    "# You can write up to 20GB to the current directory (/kaggle/working/) that gets preserved as output when you create a version using \"Save & Run All\" \n",
    "# You can also write temporary files to /kaggle/temp/, but they won't be saved outside of the current session"
   ]
  },
  {
   "cell_type": "markdown",
   "id": "f3b135f6",
   "metadata": {
    "papermill": {
     "duration": 0.010992,
     "end_time": "2023-07-09T06:41:27.679641",
     "exception": false,
     "start_time": "2023-07-09T06:41:27.668649",
     "status": "completed"
    },
    "tags": []
   },
   "source": [
    "## Imporitng Libraries"
   ]
  },
  {
   "cell_type": "code",
   "execution_count": 2,
   "id": "3627d3d8",
   "metadata": {
    "execution": {
     "iopub.execute_input": "2023-07-09T06:41:27.704707Z",
     "iopub.status.busy": "2023-07-09T06:41:27.703670Z",
     "iopub.status.idle": "2023-07-09T06:41:27.708156Z",
     "shell.execute_reply": "2023-07-09T06:41:27.707362Z"
    },
    "papermill": {
     "duration": 0.019364,
     "end_time": "2023-07-09T06:41:27.710399",
     "exception": false,
     "start_time": "2023-07-09T06:41:27.691035",
     "status": "completed"
    },
    "tags": []
   },
   "outputs": [],
   "source": [
    "import pandas as pd\n",
    "import matplotlib.pyplot as plt"
   ]
  },
  {
   "cell_type": "markdown",
   "id": "35f18a95",
   "metadata": {
    "papermill": {
     "duration": 0.010793,
     "end_time": "2023-07-09T06:41:27.732540",
     "exception": false,
     "start_time": "2023-07-09T06:41:27.721747",
     "status": "completed"
    },
    "tags": []
   },
   "source": [
    "## Loading Dataset"
   ]
  },
  {
   "cell_type": "code",
   "execution_count": 3,
   "id": "ce1b3b23",
   "metadata": {
    "execution": {
     "iopub.execute_input": "2023-07-09T06:41:27.758017Z",
     "iopub.status.busy": "2023-07-09T06:41:27.757023Z",
     "iopub.status.idle": "2023-07-09T06:41:27.779066Z",
     "shell.execute_reply": "2023-07-09T06:41:27.778189Z"
    },
    "papermill": {
     "duration": 0.037398,
     "end_time": "2023-07-09T06:41:27.781601",
     "exception": false,
     "start_time": "2023-07-09T06:41:27.744203",
     "status": "completed"
    },
    "tags": []
   },
   "outputs": [],
   "source": [
    "df = pd.read_csv('/kaggle/input/largest-art-museums/Largest-art-museums.csv')"
   ]
  },
  {
   "cell_type": "code",
   "execution_count": 4,
   "id": "644e0ccd",
   "metadata": {
    "execution": {
     "iopub.execute_input": "2023-07-09T06:41:27.805881Z",
     "iopub.status.busy": "2023-07-09T06:41:27.805453Z",
     "iopub.status.idle": "2023-07-09T06:41:27.838617Z",
     "shell.execute_reply": "2023-07-09T06:41:27.837815Z"
    },
    "papermill": {
     "duration": 0.048061,
     "end_time": "2023-07-09T06:41:27.840951",
     "exception": false,
     "start_time": "2023-07-09T06:41:27.792890",
     "status": "completed"
    },
    "tags": []
   },
   "outputs": [
    {
     "data": {
      "text/html": [
       "<div>\n",
       "<style scoped>\n",
       "    .dataframe tbody tr th:only-of-type {\n",
       "        vertical-align: middle;\n",
       "    }\n",
       "\n",
       "    .dataframe tbody tr th {\n",
       "        vertical-align: top;\n",
       "    }\n",
       "\n",
       "    .dataframe thead th {\n",
       "        text-align: right;\n",
       "    }\n",
       "</style>\n",
       "<table border=\"1\" class=\"dataframe\">\n",
       "  <thead>\n",
       "    <tr style=\"text-align: right;\">\n",
       "      <th></th>\n",
       "      <th>Name</th>\n",
       "      <th>City</th>\n",
       "      <th>Country</th>\n",
       "      <th>Gallery space in m2 (sq ft)</th>\n",
       "      <th>Gallery space in sq ft</th>\n",
       "      <th>Year established</th>\n",
       "    </tr>\n",
       "  </thead>\n",
       "  <tbody>\n",
       "    <tr>\n",
       "      <th>0</th>\n",
       "      <td>British Museum</td>\n",
       "      <td>London</td>\n",
       "      <td>United Kingdom</td>\n",
       "      <td>92,000</td>\n",
       "      <td>92,000 (990,000)</td>\n",
       "      <td>1753</td>\n",
       "    </tr>\n",
       "    <tr>\n",
       "      <th>1</th>\n",
       "      <td>Louvre</td>\n",
       "      <td>Paris</td>\n",
       "      <td>France</td>\n",
       "      <td>72,735\\r\\n(782,910)</td>\n",
       "      <td>72,735\\r\\n(782,910)</td>\n",
       "      <td>1792</td>\n",
       "    </tr>\n",
       "    <tr>\n",
       "      <th>2</th>\n",
       "      <td>State Hermitage Museum</td>\n",
       "      <td>St. Petersburg</td>\n",
       "      <td>Russia</td>\n",
       "      <td>66,842\\r\\n(719,480)</td>\n",
       "      <td>66,842\\r\\n(719,480)</td>\n",
       "      <td>1764</td>\n",
       "    </tr>\n",
       "    <tr>\n",
       "      <th>3</th>\n",
       "      <td>National Museum of China</td>\n",
       "      <td>Beijing</td>\n",
       "      <td>China</td>\n",
       "      <td>65,000\\r\\n(700,000)</td>\n",
       "      <td>65,000\\r\\n(700,000)</td>\n",
       "      <td>1959</td>\n",
       "    </tr>\n",
       "    <tr>\n",
       "      <th>4</th>\n",
       "      <td>Metropolitan Museum of Art</td>\n",
       "      <td>New York City</td>\n",
       "      <td>United States</td>\n",
       "      <td>58,820\\r\\n(633,100)</td>\n",
       "      <td>58,820\\r\\n(633,100)</td>\n",
       "      <td>1870</td>\n",
       "    </tr>\n",
       "    <tr>\n",
       "      <th>...</th>\n",
       "      <td>...</td>\n",
       "      <td>...</td>\n",
       "      <td>...</td>\n",
       "      <td>...</td>\n",
       "      <td>...</td>\n",
       "      <td>...</td>\n",
       "    </tr>\n",
       "    <tr>\n",
       "      <th>107</th>\n",
       "      <td>Museum Ludwig</td>\n",
       "      <td>Cologne</td>\n",
       "      <td>Germany</td>\n",
       "      <td>8,000\\r\\n(86,000)</td>\n",
       "      <td>8,000\\r\\n(86,000)</td>\n",
       "      <td>1976</td>\n",
       "    </tr>\n",
       "    <tr>\n",
       "      <th>108</th>\n",
       "      <td>National Archaeological Museum</td>\n",
       "      <td>Athens</td>\n",
       "      <td>Greece</td>\n",
       "      <td>8,000\\r\\n(86,000)</td>\n",
       "      <td>8,000\\r\\n(86,000)</td>\n",
       "      <td>1866</td>\n",
       "    </tr>\n",
       "    <tr>\n",
       "      <th>109</th>\n",
       "      <td>Neues Museum</td>\n",
       "      <td>Berlin</td>\n",
       "      <td>Germany</td>\n",
       "      <td>8,000\\r\\n(86,000)</td>\n",
       "      <td>8,000\\r\\n(86,000)</td>\n",
       "      <td>1855</td>\n",
       "    </tr>\n",
       "    <tr>\n",
       "      <th>110</th>\n",
       "      <td>Petit Palais</td>\n",
       "      <td>Paris</td>\n",
       "      <td>France</td>\n",
       "      <td>8,000\\r\\n(86,000)</td>\n",
       "      <td>8,000\\r\\n(86,000)</td>\n",
       "      <td>1902</td>\n",
       "    </tr>\n",
       "    <tr>\n",
       "      <th>111</th>\n",
       "      <td>Stedelijk Museum</td>\n",
       "      <td>Amsterdam</td>\n",
       "      <td>Netherlands</td>\n",
       "      <td>8,000\\r\\n(86,000)</td>\n",
       "      <td>8,000\\r\\n(86,000)</td>\n",
       "      <td>1874</td>\n",
       "    </tr>\n",
       "  </tbody>\n",
       "</table>\n",
       "<p>112 rows × 6 columns</p>\n",
       "</div>"
      ],
      "text/plain": [
       "                               Name            City         Country  \\\n",
       "0                    British Museum          London  United Kingdom   \n",
       "1                            Louvre           Paris          France   \n",
       "2            State Hermitage Museum  St. Petersburg          Russia   \n",
       "3          National Museum of China         Beijing           China   \n",
       "4        Metropolitan Museum of Art   New York City   United States   \n",
       "..                              ...             ...             ...   \n",
       "107                   Museum Ludwig         Cologne         Germany   \n",
       "108  National Archaeological Museum          Athens          Greece   \n",
       "109                    Neues Museum          Berlin         Germany   \n",
       "110                    Petit Palais           Paris          France   \n",
       "111                Stedelijk Museum       Amsterdam     Netherlands   \n",
       "\n",
       "    Gallery space in m2 (sq ft) Gallery space in sq ft Year established  \n",
       "0                        92,000       92,000 (990,000)             1753  \n",
       "1           72,735\\r\\n(782,910)    72,735\\r\\n(782,910)             1792  \n",
       "2           66,842\\r\\n(719,480)    66,842\\r\\n(719,480)             1764  \n",
       "3           65,000\\r\\n(700,000)    65,000\\r\\n(700,000)             1959  \n",
       "4           58,820\\r\\n(633,100)    58,820\\r\\n(633,100)             1870  \n",
       "..                          ...                    ...              ...  \n",
       "107           8,000\\r\\n(86,000)      8,000\\r\\n(86,000)             1976  \n",
       "108           8,000\\r\\n(86,000)      8,000\\r\\n(86,000)             1866  \n",
       "109           8,000\\r\\n(86,000)      8,000\\r\\n(86,000)             1855  \n",
       "110           8,000\\r\\n(86,000)      8,000\\r\\n(86,000)             1902  \n",
       "111           8,000\\r\\n(86,000)      8,000\\r\\n(86,000)             1874  \n",
       "\n",
       "[112 rows x 6 columns]"
      ]
     },
     "execution_count": 4,
     "metadata": {},
     "output_type": "execute_result"
    }
   ],
   "source": [
    "df"
   ]
  },
  {
   "cell_type": "markdown",
   "id": "9f89815d",
   "metadata": {
    "papermill": {
     "duration": 0.011218,
     "end_time": "2023-07-09T06:41:27.863940",
     "exception": false,
     "start_time": "2023-07-09T06:41:27.852722",
     "status": "completed"
    },
    "tags": []
   },
   "source": [
    "## Data Cleaning"
   ]
  },
  {
   "cell_type": "code",
   "execution_count": 5,
   "id": "342c5307",
   "metadata": {
    "execution": {
     "iopub.execute_input": "2023-07-09T06:41:27.889424Z",
     "iopub.status.busy": "2023-07-09T06:41:27.888491Z",
     "iopub.status.idle": "2023-07-09T06:41:27.897742Z",
     "shell.execute_reply": "2023-07-09T06:41:27.896595Z"
    },
    "papermill": {
     "duration": 0.024655,
     "end_time": "2023-07-09T06:41:27.900248",
     "exception": false,
     "start_time": "2023-07-09T06:41:27.875593",
     "status": "completed"
    },
    "tags": []
   },
   "outputs": [],
   "source": [
    "#Splitting Column 'Gallery space in m2'\n",
    "df['Gallery space in m2'] = df['Gallery space in m2 (sq ft)'].str.split('(',expand=True)[0]"
   ]
  },
  {
   "cell_type": "code",
   "execution_count": 6,
   "id": "96df70ef",
   "metadata": {
    "execution": {
     "iopub.execute_input": "2023-07-09T06:41:27.925249Z",
     "iopub.status.busy": "2023-07-09T06:41:27.924790Z",
     "iopub.status.idle": "2023-07-09T06:41:27.932112Z",
     "shell.execute_reply": "2023-07-09T06:41:27.930989Z"
    },
    "papermill": {
     "duration": 0.022646,
     "end_time": "2023-07-09T06:41:27.934396",
     "exception": false,
     "start_time": "2023-07-09T06:41:27.911750",
     "status": "completed"
    },
    "tags": []
   },
   "outputs": [],
   "source": [
    "# Removing non-required characters 'Gallery space in m2'\n",
    "replacements = [(',',\"\"),('\\r\\n',\"\")]\n",
    "for old,new in replacements:\n",
    "    df['Gallery space in m2'] = df['Gallery space in m2'].str.replace(old,new,regex=False)"
   ]
  },
  {
   "cell_type": "code",
   "execution_count": 7,
   "id": "8cdfcdc4",
   "metadata": {
    "execution": {
     "iopub.execute_input": "2023-07-09T06:41:27.959591Z",
     "iopub.status.busy": "2023-07-09T06:41:27.959162Z",
     "iopub.status.idle": "2023-07-09T06:41:27.970707Z",
     "shell.execute_reply": "2023-07-09T06:41:27.969587Z"
    },
    "papermill": {
     "duration": 0.026683,
     "end_time": "2023-07-09T06:41:27.973126",
     "exception": false,
     "start_time": "2023-07-09T06:41:27.946443",
     "status": "completed"
    },
    "tags": []
   },
   "outputs": [],
   "source": [
    "df.drop('Gallery space in m2 (sq ft)',axis=1,inplace=True)"
   ]
  },
  {
   "cell_type": "code",
   "execution_count": 8,
   "id": "5a740fd5",
   "metadata": {
    "execution": {
     "iopub.execute_input": "2023-07-09T06:41:27.998686Z",
     "iopub.status.busy": "2023-07-09T06:41:27.997958Z",
     "iopub.status.idle": "2023-07-09T06:41:28.004503Z",
     "shell.execute_reply": "2023-07-09T06:41:28.003657Z"
    },
    "papermill": {
     "duration": 0.021783,
     "end_time": "2023-07-09T06:41:28.006812",
     "exception": false,
     "start_time": "2023-07-09T06:41:27.985029",
     "status": "completed"
    },
    "tags": []
   },
   "outputs": [],
   "source": [
    "#Spiltting column 'Gallery space in sq ft'\n",
    "df['Gallery space in sq ft'] = df['Gallery space in sq ft'].str.split('(',expand=True)[1]"
   ]
  },
  {
   "cell_type": "code",
   "execution_count": 9,
   "id": "135c2cc5",
   "metadata": {
    "execution": {
     "iopub.execute_input": "2023-07-09T06:41:28.033287Z",
     "iopub.status.busy": "2023-07-09T06:41:28.032606Z",
     "iopub.status.idle": "2023-07-09T06:41:28.039410Z",
     "shell.execute_reply": "2023-07-09T06:41:28.038325Z"
    },
    "papermill": {
     "duration": 0.023135,
     "end_time": "2023-07-09T06:41:28.042164",
     "exception": false,
     "start_time": "2023-07-09T06:41:28.019029",
     "status": "completed"
    },
    "tags": []
   },
   "outputs": [],
   "source": [
    "#Removing non-required Characters in 'Gallery space in sq ft'\n",
    "replacements = [(',',\"\"),(')',\"\")]\n",
    "for old,new in replacements:\n",
    "    df['Gallery space in sq ft'] = df['Gallery space in sq ft'].str.replace(old,new,regex=False)"
   ]
  },
  {
   "cell_type": "code",
   "execution_count": 10,
   "id": "fc32d2cd",
   "metadata": {
    "execution": {
     "iopub.execute_input": "2023-07-09T06:41:28.067036Z",
     "iopub.status.busy": "2023-07-09T06:41:28.066612Z",
     "iopub.status.idle": "2023-07-09T06:41:28.083836Z",
     "shell.execute_reply": "2023-07-09T06:41:28.082772Z"
    },
    "papermill": {
     "duration": 0.032529,
     "end_time": "2023-07-09T06:41:28.086299",
     "exception": false,
     "start_time": "2023-07-09T06:41:28.053770",
     "status": "completed"
    },
    "tags": []
   },
   "outputs": [
    {
     "data": {
      "text/html": [
       "<div>\n",
       "<style scoped>\n",
       "    .dataframe tbody tr th:only-of-type {\n",
       "        vertical-align: middle;\n",
       "    }\n",
       "\n",
       "    .dataframe tbody tr th {\n",
       "        vertical-align: top;\n",
       "    }\n",
       "\n",
       "    .dataframe thead th {\n",
       "        text-align: right;\n",
       "    }\n",
       "</style>\n",
       "<table border=\"1\" class=\"dataframe\">\n",
       "  <thead>\n",
       "    <tr style=\"text-align: right;\">\n",
       "      <th></th>\n",
       "      <th>Name</th>\n",
       "      <th>City</th>\n",
       "      <th>Country</th>\n",
       "      <th>Gallery space in sq ft</th>\n",
       "      <th>Year established</th>\n",
       "      <th>Gallery space in m2</th>\n",
       "    </tr>\n",
       "  </thead>\n",
       "  <tbody>\n",
       "    <tr>\n",
       "      <th>0</th>\n",
       "      <td>British Museum</td>\n",
       "      <td>London</td>\n",
       "      <td>United Kingdom</td>\n",
       "      <td>990000</td>\n",
       "      <td>1753</td>\n",
       "      <td>92000</td>\n",
       "    </tr>\n",
       "    <tr>\n",
       "      <th>1</th>\n",
       "      <td>Louvre</td>\n",
       "      <td>Paris</td>\n",
       "      <td>France</td>\n",
       "      <td>782910</td>\n",
       "      <td>1792</td>\n",
       "      <td>72735</td>\n",
       "    </tr>\n",
       "    <tr>\n",
       "      <th>2</th>\n",
       "      <td>State Hermitage Museum</td>\n",
       "      <td>St. Petersburg</td>\n",
       "      <td>Russia</td>\n",
       "      <td>719480</td>\n",
       "      <td>1764</td>\n",
       "      <td>66842</td>\n",
       "    </tr>\n",
       "    <tr>\n",
       "      <th>3</th>\n",
       "      <td>National Museum of China</td>\n",
       "      <td>Beijing</td>\n",
       "      <td>China</td>\n",
       "      <td>700000</td>\n",
       "      <td>1959</td>\n",
       "      <td>65000</td>\n",
       "    </tr>\n",
       "    <tr>\n",
       "      <th>4</th>\n",
       "      <td>Metropolitan Museum of Art</td>\n",
       "      <td>New York City</td>\n",
       "      <td>United States</td>\n",
       "      <td>633100</td>\n",
       "      <td>1870</td>\n",
       "      <td>58820</td>\n",
       "    </tr>\n",
       "    <tr>\n",
       "      <th>...</th>\n",
       "      <td>...</td>\n",
       "      <td>...</td>\n",
       "      <td>...</td>\n",
       "      <td>...</td>\n",
       "      <td>...</td>\n",
       "      <td>...</td>\n",
       "    </tr>\n",
       "    <tr>\n",
       "      <th>107</th>\n",
       "      <td>Museum Ludwig</td>\n",
       "      <td>Cologne</td>\n",
       "      <td>Germany</td>\n",
       "      <td>86000</td>\n",
       "      <td>1976</td>\n",
       "      <td>8000</td>\n",
       "    </tr>\n",
       "    <tr>\n",
       "      <th>108</th>\n",
       "      <td>National Archaeological Museum</td>\n",
       "      <td>Athens</td>\n",
       "      <td>Greece</td>\n",
       "      <td>86000</td>\n",
       "      <td>1866</td>\n",
       "      <td>8000</td>\n",
       "    </tr>\n",
       "    <tr>\n",
       "      <th>109</th>\n",
       "      <td>Neues Museum</td>\n",
       "      <td>Berlin</td>\n",
       "      <td>Germany</td>\n",
       "      <td>86000</td>\n",
       "      <td>1855</td>\n",
       "      <td>8000</td>\n",
       "    </tr>\n",
       "    <tr>\n",
       "      <th>110</th>\n",
       "      <td>Petit Palais</td>\n",
       "      <td>Paris</td>\n",
       "      <td>France</td>\n",
       "      <td>86000</td>\n",
       "      <td>1902</td>\n",
       "      <td>8000</td>\n",
       "    </tr>\n",
       "    <tr>\n",
       "      <th>111</th>\n",
       "      <td>Stedelijk Museum</td>\n",
       "      <td>Amsterdam</td>\n",
       "      <td>Netherlands</td>\n",
       "      <td>86000</td>\n",
       "      <td>1874</td>\n",
       "      <td>8000</td>\n",
       "    </tr>\n",
       "  </tbody>\n",
       "</table>\n",
       "<p>112 rows × 6 columns</p>\n",
       "</div>"
      ],
      "text/plain": [
       "                               Name            City         Country  \\\n",
       "0                    British Museum          London  United Kingdom   \n",
       "1                            Louvre           Paris          France   \n",
       "2            State Hermitage Museum  St. Petersburg          Russia   \n",
       "3          National Museum of China         Beijing           China   \n",
       "4        Metropolitan Museum of Art   New York City   United States   \n",
       "..                              ...             ...             ...   \n",
       "107                   Museum Ludwig         Cologne         Germany   \n",
       "108  National Archaeological Museum          Athens          Greece   \n",
       "109                    Neues Museum          Berlin         Germany   \n",
       "110                    Petit Palais           Paris          France   \n",
       "111                Stedelijk Museum       Amsterdam     Netherlands   \n",
       "\n",
       "    Gallery space in sq ft Year established Gallery space in m2  \n",
       "0                   990000             1753               92000  \n",
       "1                   782910             1792               72735  \n",
       "2                   719480             1764               66842  \n",
       "3                   700000             1959               65000  \n",
       "4                   633100             1870               58820  \n",
       "..                     ...              ...                 ...  \n",
       "107                  86000             1976                8000  \n",
       "108                  86000             1866                8000  \n",
       "109                  86000             1855                8000  \n",
       "110                  86000             1902                8000  \n",
       "111                  86000             1874                8000  \n",
       "\n",
       "[112 rows x 6 columns]"
      ]
     },
     "execution_count": 10,
     "metadata": {},
     "output_type": "execute_result"
    }
   ],
   "source": [
    "df"
   ]
  },
  {
   "cell_type": "markdown",
   "id": "ae792315",
   "metadata": {
    "papermill": {
     "duration": 0.01174,
     "end_time": "2023-07-09T06:41:28.110208",
     "exception": false,
     "start_time": "2023-07-09T06:41:28.098468",
     "status": "completed"
    },
    "tags": []
   },
   "source": [
    "**Removing Vakue with \"/\" in year.**"
   ]
  },
  {
   "cell_type": "code",
   "execution_count": 11,
   "id": "68d570a8",
   "metadata": {
    "execution": {
     "iopub.execute_input": "2023-07-09T06:41:28.136183Z",
     "iopub.status.busy": "2023-07-09T06:41:28.135424Z",
     "iopub.status.idle": "2023-07-09T06:41:28.144384Z",
     "shell.execute_reply": "2023-07-09T06:41:28.143296Z"
    },
    "papermill": {
     "duration": 0.024736,
     "end_time": "2023-07-09T06:41:28.146866",
     "exception": false,
     "start_time": "2023-07-09T06:41:28.122130",
     "status": "completed"
    },
    "tags": []
   },
   "outputs": [
    {
     "data": {
      "text/plain": [
       "array(['1753', '1792', '1764', '1959', '1870', '1819', '1506', '1872',\n",
       "       '1964', '1852', '2020', '1891', '1900', '1909', '1879', '2006',\n",
       "       '1937', '1999', '1835', '1912', '1977', '1965', '2015', '1883',\n",
       "       '1806/1908', '2002', '2021', '1951', '1895', '1947', '1986',\n",
       "       '1935', '1929', '1757', '1918', '1902', '2003', '1903', '1992',\n",
       "       '1969', '1885', '2007', '1988', '1796', '1882', '1855', '1981',\n",
       "       '1860', '1824', '1861', '2001', '1777', '1934', '2000', '1913',\n",
       "       '1880', '1869', '1849', '1954', '1809', '1800', '1985', '1983',\n",
       "       '1910', '1874', '1471', '1993', '1997', '1991', '2012', '1892',\n",
       "       '1906', '1866', '1896', '1996', '1936', '2010', '2013', '1881',\n",
       "       '1932', '1925', '1867', '1828', '1905', '1888', '1842', '1829',\n",
       "       '1949', '2011', '1958', '1830', '2017', '1976'], dtype=object)"
      ]
     },
     "execution_count": 11,
     "metadata": {},
     "output_type": "execute_result"
    }
   ],
   "source": [
    "df['Year established'].unique()"
   ]
  },
  {
   "cell_type": "code",
   "execution_count": 12,
   "id": "aa3e1fa9",
   "metadata": {
    "execution": {
     "iopub.execute_input": "2023-07-09T06:41:28.173489Z",
     "iopub.status.busy": "2023-07-09T06:41:28.172632Z",
     "iopub.status.idle": "2023-07-09T06:41:28.184524Z",
     "shell.execute_reply": "2023-07-09T06:41:28.183351Z"
    },
    "papermill": {
     "duration": 0.027913,
     "end_time": "2023-07-09T06:41:28.187015",
     "exception": false,
     "start_time": "2023-07-09T06:41:28.159102",
     "status": "completed"
    },
    "tags": []
   },
   "outputs": [
    {
     "data": {
      "text/plain": [
       "25    Interdisciplinary Regional Museum of Messina\n",
       "Name: Name, dtype: object"
      ]
     },
     "execution_count": 12,
     "metadata": {},
     "output_type": "execute_result"
    }
   ],
   "source": [
    "df[df['Year established']=='1806/1908']['Name']"
   ]
  },
  {
   "cell_type": "markdown",
   "id": "52090de9",
   "metadata": {
    "papermill": {
     "duration": 0.011865,
     "end_time": "2023-07-09T06:41:28.211085",
     "exception": false,
     "start_time": "2023-07-09T06:41:28.199220",
     "status": "completed"
    },
    "tags": []
   },
   "source": [
    "**Interdisciplinary Regional Museum of Messina first established in 1806.**"
   ]
  },
  {
   "cell_type": "code",
   "execution_count": 13,
   "id": "1e173a22",
   "metadata": {
    "execution": {
     "iopub.execute_input": "2023-07-09T06:41:28.238277Z",
     "iopub.status.busy": "2023-07-09T06:41:28.237540Z",
     "iopub.status.idle": "2023-07-09T06:41:28.243604Z",
     "shell.execute_reply": "2023-07-09T06:41:28.242797Z"
    },
    "papermill": {
     "duration": 0.022079,
     "end_time": "2023-07-09T06:41:28.245994",
     "exception": false,
     "start_time": "2023-07-09T06:41:28.223915",
     "status": "completed"
    },
    "tags": []
   },
   "outputs": [],
   "source": [
    "df['Year established'] = df['Year established'].replace( '1806/1908','1806')"
   ]
  },
  {
   "cell_type": "code",
   "execution_count": 14,
   "id": "3fb4e329",
   "metadata": {
    "execution": {
     "iopub.execute_input": "2023-07-09T06:41:28.272577Z",
     "iopub.status.busy": "2023-07-09T06:41:28.271742Z",
     "iopub.status.idle": "2023-07-09T06:41:28.278205Z",
     "shell.execute_reply": "2023-07-09T06:41:28.277231Z"
    },
    "papermill": {
     "duration": 0.022451,
     "end_time": "2023-07-09T06:41:28.280590",
     "exception": false,
     "start_time": "2023-07-09T06:41:28.258139",
     "status": "completed"
    },
    "tags": []
   },
   "outputs": [],
   "source": [
    "df['Gallery space in m2'] = df['Gallery space in m2'].astype('float')"
   ]
  },
  {
   "cell_type": "markdown",
   "id": "b987fefc",
   "metadata": {
    "papermill": {
     "duration": 0.011821,
     "end_time": "2023-07-09T06:41:28.306648",
     "exception": false,
     "start_time": "2023-07-09T06:41:28.294827",
     "status": "completed"
    },
    "tags": []
   },
   "source": [
    "**Replacing None in dataframe.**"
   ]
  },
  {
   "cell_type": "code",
   "execution_count": 15,
   "id": "f073702a",
   "metadata": {
    "execution": {
     "iopub.execute_input": "2023-07-09T06:41:28.332615Z",
     "iopub.status.busy": "2023-07-09T06:41:28.332215Z",
     "iopub.status.idle": "2023-07-09T06:41:28.339547Z",
     "shell.execute_reply": "2023-07-09T06:41:28.338400Z"
    },
    "papermill": {
     "duration": 0.023132,
     "end_time": "2023-07-09T06:41:28.341950",
     "exception": false,
     "start_time": "2023-07-09T06:41:28.318818",
     "status": "completed"
    },
    "tags": []
   },
   "outputs": [
    {
     "data": {
      "text/plain": [
       "array(['990000', '782910', '719480', '700000', '633100', '513000',\n",
       "       '460000', '410000', '360000', '330000', '317500', '312153',\n",
       "       '300000', '291600', '280000', '260000', '271000', '249990',\n",
       "       '240000', '221000', '214000', '212000', '199000', '190000',\n",
       "       '188000', None, '183000', '180000', '181400', '170000', '166000',\n",
       "       '160000', '159000', '158830', '152240', '150000', '146000',\n",
       "       '145000', '143000', '142045', '140000', '211000', '136200',\n",
       "       '135000', '133760', '133000', '129000', '130000', '126000',\n",
       "       '120000', '117000', '113000', '112000', '111000', '110000',\n",
       "       '103470', '100000', '98080', '97000', '96000', '95000', '94200',\n",
       "       '93800', '91000', '89000', '86000'], dtype=object)"
      ]
     },
     "execution_count": 15,
     "metadata": {},
     "output_type": "execute_result"
    }
   ],
   "source": [
    "df['Gallery space in sq ft'].unique()"
   ]
  },
  {
   "cell_type": "code",
   "execution_count": 16,
   "id": "3aea6c47",
   "metadata": {
    "execution": {
     "iopub.execute_input": "2023-07-09T06:41:28.370094Z",
     "iopub.status.busy": "2023-07-09T06:41:28.369258Z",
     "iopub.status.idle": "2023-07-09T06:41:28.375294Z",
     "shell.execute_reply": "2023-07-09T06:41:28.374461Z"
    },
    "papermill": {
     "duration": 0.022408,
     "end_time": "2023-07-09T06:41:28.377701",
     "exception": false,
     "start_time": "2023-07-09T06:41:28.355293",
     "status": "completed"
    },
    "tags": []
   },
   "outputs": [],
   "source": [
    "df.fillna(0,inplace=True)"
   ]
  },
  {
   "cell_type": "code",
   "execution_count": 17,
   "id": "7ad61e42",
   "metadata": {
    "execution": {
     "iopub.execute_input": "2023-07-09T06:41:28.404503Z",
     "iopub.status.busy": "2023-07-09T06:41:28.404100Z",
     "iopub.status.idle": "2023-07-09T06:41:28.409376Z",
     "shell.execute_reply": "2023-07-09T06:41:28.408349Z"
    },
    "papermill": {
     "duration": 0.021365,
     "end_time": "2023-07-09T06:41:28.411626",
     "exception": false,
     "start_time": "2023-07-09T06:41:28.390261",
     "status": "completed"
    },
    "tags": []
   },
   "outputs": [],
   "source": [
    "df['Gallery space in sq ft'] = df['Gallery space in sq ft'].astype('float')"
   ]
  },
  {
   "cell_type": "markdown",
   "id": "6f1df1a3",
   "metadata": {
    "papermill": {
     "duration": 0.012124,
     "end_time": "2023-07-09T06:41:28.436159",
     "exception": false,
     "start_time": "2023-07-09T06:41:28.424035",
     "status": "completed"
    },
    "tags": []
   },
   "source": [
    "## Analyzing Data : Top Performing "
   ]
  },
  {
   "cell_type": "code",
   "execution_count": 18,
   "id": "84f6a555",
   "metadata": {
    "execution": {
     "iopub.execute_input": "2023-07-09T06:41:28.463178Z",
     "iopub.status.busy": "2023-07-09T06:41:28.462757Z",
     "iopub.status.idle": "2023-07-09T06:41:28.483350Z",
     "shell.execute_reply": "2023-07-09T06:41:28.482558Z"
    },
    "papermill": {
     "duration": 0.036858,
     "end_time": "2023-07-09T06:41:28.485530",
     "exception": false,
     "start_time": "2023-07-09T06:41:28.448672",
     "status": "completed"
    },
    "tags": []
   },
   "outputs": [
    {
     "data": {
      "text/html": [
       "<div>\n",
       "<style scoped>\n",
       "    .dataframe tbody tr th:only-of-type {\n",
       "        vertical-align: middle;\n",
       "    }\n",
       "\n",
       "    .dataframe tbody tr th {\n",
       "        vertical-align: top;\n",
       "    }\n",
       "\n",
       "    .dataframe thead th {\n",
       "        text-align: right;\n",
       "    }\n",
       "</style>\n",
       "<table border=\"1\" class=\"dataframe\">\n",
       "  <thead>\n",
       "    <tr style=\"text-align: right;\">\n",
       "      <th></th>\n",
       "      <th>Name</th>\n",
       "      <th>City</th>\n",
       "      <th>Country</th>\n",
       "      <th>Gallery space in sq ft</th>\n",
       "      <th>Year established</th>\n",
       "      <th>Gallery space in m2</th>\n",
       "    </tr>\n",
       "  </thead>\n",
       "  <tbody>\n",
       "    <tr>\n",
       "      <th>0</th>\n",
       "      <td>British Museum</td>\n",
       "      <td>London</td>\n",
       "      <td>United Kingdom</td>\n",
       "      <td>990000.0</td>\n",
       "      <td>1753</td>\n",
       "      <td>92000.0</td>\n",
       "    </tr>\n",
       "    <tr>\n",
       "      <th>1</th>\n",
       "      <td>Louvre</td>\n",
       "      <td>Paris</td>\n",
       "      <td>France</td>\n",
       "      <td>782910.0</td>\n",
       "      <td>1792</td>\n",
       "      <td>72735.0</td>\n",
       "    </tr>\n",
       "    <tr>\n",
       "      <th>2</th>\n",
       "      <td>State Hermitage Museum</td>\n",
       "      <td>St. Petersburg</td>\n",
       "      <td>Russia</td>\n",
       "      <td>719480.0</td>\n",
       "      <td>1764</td>\n",
       "      <td>66842.0</td>\n",
       "    </tr>\n",
       "    <tr>\n",
       "      <th>3</th>\n",
       "      <td>National Museum of China</td>\n",
       "      <td>Beijing</td>\n",
       "      <td>China</td>\n",
       "      <td>700000.0</td>\n",
       "      <td>1959</td>\n",
       "      <td>65000.0</td>\n",
       "    </tr>\n",
       "    <tr>\n",
       "      <th>4</th>\n",
       "      <td>Metropolitan Museum of Art</td>\n",
       "      <td>New York City</td>\n",
       "      <td>United States</td>\n",
       "      <td>633100.0</td>\n",
       "      <td>1870</td>\n",
       "      <td>58820.0</td>\n",
       "    </tr>\n",
       "    <tr>\n",
       "      <th>...</th>\n",
       "      <td>...</td>\n",
       "      <td>...</td>\n",
       "      <td>...</td>\n",
       "      <td>...</td>\n",
       "      <td>...</td>\n",
       "      <td>...</td>\n",
       "    </tr>\n",
       "    <tr>\n",
       "      <th>107</th>\n",
       "      <td>Museum Ludwig</td>\n",
       "      <td>Cologne</td>\n",
       "      <td>Germany</td>\n",
       "      <td>86000.0</td>\n",
       "      <td>1976</td>\n",
       "      <td>8000.0</td>\n",
       "    </tr>\n",
       "    <tr>\n",
       "      <th>108</th>\n",
       "      <td>National Archaeological Museum</td>\n",
       "      <td>Athens</td>\n",
       "      <td>Greece</td>\n",
       "      <td>86000.0</td>\n",
       "      <td>1866</td>\n",
       "      <td>8000.0</td>\n",
       "    </tr>\n",
       "    <tr>\n",
       "      <th>109</th>\n",
       "      <td>Neues Museum</td>\n",
       "      <td>Berlin</td>\n",
       "      <td>Germany</td>\n",
       "      <td>86000.0</td>\n",
       "      <td>1855</td>\n",
       "      <td>8000.0</td>\n",
       "    </tr>\n",
       "    <tr>\n",
       "      <th>110</th>\n",
       "      <td>Petit Palais</td>\n",
       "      <td>Paris</td>\n",
       "      <td>France</td>\n",
       "      <td>86000.0</td>\n",
       "      <td>1902</td>\n",
       "      <td>8000.0</td>\n",
       "    </tr>\n",
       "    <tr>\n",
       "      <th>111</th>\n",
       "      <td>Stedelijk Museum</td>\n",
       "      <td>Amsterdam</td>\n",
       "      <td>Netherlands</td>\n",
       "      <td>86000.0</td>\n",
       "      <td>1874</td>\n",
       "      <td>8000.0</td>\n",
       "    </tr>\n",
       "  </tbody>\n",
       "</table>\n",
       "<p>112 rows × 6 columns</p>\n",
       "</div>"
      ],
      "text/plain": [
       "                               Name            City         Country  \\\n",
       "0                    British Museum          London  United Kingdom   \n",
       "1                            Louvre           Paris          France   \n",
       "2            State Hermitage Museum  St. Petersburg          Russia   \n",
       "3          National Museum of China         Beijing           China   \n",
       "4        Metropolitan Museum of Art   New York City   United States   \n",
       "..                              ...             ...             ...   \n",
       "107                   Museum Ludwig         Cologne         Germany   \n",
       "108  National Archaeological Museum          Athens          Greece   \n",
       "109                    Neues Museum          Berlin         Germany   \n",
       "110                    Petit Palais           Paris          France   \n",
       "111                Stedelijk Museum       Amsterdam     Netherlands   \n",
       "\n",
       "     Gallery space in sq ft Year established  Gallery space in m2  \n",
       "0                  990000.0             1753              92000.0  \n",
       "1                  782910.0             1792              72735.0  \n",
       "2                  719480.0             1764              66842.0  \n",
       "3                  700000.0             1959              65000.0  \n",
       "4                  633100.0             1870              58820.0  \n",
       "..                      ...              ...                  ...  \n",
       "107                 86000.0             1976               8000.0  \n",
       "108                 86000.0             1866               8000.0  \n",
       "109                 86000.0             1855               8000.0  \n",
       "110                 86000.0             1902               8000.0  \n",
       "111                 86000.0             1874               8000.0  \n",
       "\n",
       "[112 rows x 6 columns]"
      ]
     },
     "execution_count": 18,
     "metadata": {},
     "output_type": "execute_result"
    }
   ],
   "source": [
    "top_museums = df.sort_values('Gallery space in m2',ascending=False)\n",
    "top_museums"
   ]
  },
  {
   "cell_type": "code",
   "execution_count": 19,
   "id": "1a313d08",
   "metadata": {
    "execution": {
     "iopub.execute_input": "2023-07-09T06:41:28.513232Z",
     "iopub.status.busy": "2023-07-09T06:41:28.512556Z",
     "iopub.status.idle": "2023-07-09T06:41:28.534665Z",
     "shell.execute_reply": "2023-07-09T06:41:28.533888Z"
    },
    "papermill": {
     "duration": 0.038568,
     "end_time": "2023-07-09T06:41:28.536915",
     "exception": false,
     "start_time": "2023-07-09T06:41:28.498347",
     "status": "completed"
    },
    "tags": []
   },
   "outputs": [
    {
     "data": {
      "text/html": [
       "<div>\n",
       "<style scoped>\n",
       "    .dataframe tbody tr th:only-of-type {\n",
       "        vertical-align: middle;\n",
       "    }\n",
       "\n",
       "    .dataframe tbody tr th {\n",
       "        vertical-align: top;\n",
       "    }\n",
       "\n",
       "    .dataframe thead th {\n",
       "        text-align: right;\n",
       "    }\n",
       "</style>\n",
       "<table border=\"1\" class=\"dataframe\">\n",
       "  <thead>\n",
       "    <tr style=\"text-align: right;\">\n",
       "      <th></th>\n",
       "      <th>Gallery space in m2</th>\n",
       "    </tr>\n",
       "    <tr>\n",
       "      <th>Country</th>\n",
       "      <th></th>\n",
       "    </tr>\n",
       "  </thead>\n",
       "  <tbody>\n",
       "    <tr>\n",
       "      <th>Vatican City</th>\n",
       "      <td>43000.000000</td>\n",
       "    </tr>\n",
       "    <tr>\n",
       "      <th>Russia</th>\n",
       "      <td>39421.000000</td>\n",
       "    </tr>\n",
       "    <tr>\n",
       "      <th>United Kingdom</th>\n",
       "      <td>37021.250000</td>\n",
       "    </tr>\n",
       "    <tr>\n",
       "      <th>Mexico</th>\n",
       "      <td>33000.000000</td>\n",
       "    </tr>\n",
       "    <tr>\n",
       "      <th>Austria</th>\n",
       "      <td>29000.000000</td>\n",
       "    </tr>\n",
       "    <tr>\n",
       "      <th>Japan</th>\n",
       "      <td>26000.000000</td>\n",
       "    </tr>\n",
       "    <tr>\n",
       "      <th>Ukraine</th>\n",
       "      <td>24000.000000</td>\n",
       "    </tr>\n",
       "    <tr>\n",
       "      <th>Belgium</th>\n",
       "      <td>22000.000000</td>\n",
       "    </tr>\n",
       "    <tr>\n",
       "      <th>Spain</th>\n",
       "      <td>18651.200000</td>\n",
       "    </tr>\n",
       "    <tr>\n",
       "      <th>France</th>\n",
       "      <td>18515.333333</td>\n",
       "    </tr>\n",
       "    <tr>\n",
       "      <th>China</th>\n",
       "      <td>18125.000000</td>\n",
       "    </tr>\n",
       "    <tr>\n",
       "      <th>Singapore</th>\n",
       "      <td>18000.000000</td>\n",
       "    </tr>\n",
       "    <tr>\n",
       "      <th>South Korea</th>\n",
       "      <td>17078.000000</td>\n",
       "    </tr>\n",
       "    <tr>\n",
       "      <th>United States</th>\n",
       "      <td>17014.976000</td>\n",
       "    </tr>\n",
       "    <tr>\n",
       "      <th>Brazil</th>\n",
       "      <td>17000.000000</td>\n",
       "    </tr>\n",
       "    <tr>\n",
       "      <th>Hong Kong</th>\n",
       "      <td>17000.000000</td>\n",
       "    </tr>\n",
       "    <tr>\n",
       "      <th>Australia</th>\n",
       "      <td>15300.000000</td>\n",
       "    </tr>\n",
       "    <tr>\n",
       "      <th>Egypt</th>\n",
       "      <td>15000.000000</td>\n",
       "    </tr>\n",
       "    <tr>\n",
       "      <th>Canada</th>\n",
       "      <td>14325.000000</td>\n",
       "    </tr>\n",
       "    <tr>\n",
       "      <th>Israel</th>\n",
       "      <td>14250.000000</td>\n",
       "    </tr>\n",
       "    <tr>\n",
       "      <th>Czech Republic</th>\n",
       "      <td>13500.000000</td>\n",
       "    </tr>\n",
       "    <tr>\n",
       "      <th>India</th>\n",
       "      <td>12500.000000</td>\n",
       "    </tr>\n",
       "    <tr>\n",
       "      <th>Germany</th>\n",
       "      <td>12277.777778</td>\n",
       "    </tr>\n",
       "    <tr>\n",
       "      <th>Italy</th>\n",
       "      <td>12077.272727</td>\n",
       "    </tr>\n",
       "    <tr>\n",
       "      <th>Taiwan</th>\n",
       "      <td>11637.666667</td>\n",
       "    </tr>\n",
       "    <tr>\n",
       "      <th>Switzerland</th>\n",
       "      <td>10750.000000</td>\n",
       "    </tr>\n",
       "    <tr>\n",
       "      <th>Netherlands</th>\n",
       "      <td>10666.666667</td>\n",
       "    </tr>\n",
       "    <tr>\n",
       "      <th>Hungary</th>\n",
       "      <td>10300.000000</td>\n",
       "    </tr>\n",
       "    <tr>\n",
       "      <th>Brasil</th>\n",
       "      <td>9112.000000</td>\n",
       "    </tr>\n",
       "    <tr>\n",
       "      <th>Norway</th>\n",
       "      <td>9000.000000</td>\n",
       "    </tr>\n",
       "    <tr>\n",
       "      <th>Tunisia</th>\n",
       "      <td>9000.000000</td>\n",
       "    </tr>\n",
       "    <tr>\n",
       "      <th>Greece</th>\n",
       "      <td>8000.000000</td>\n",
       "    </tr>\n",
       "    <tr>\n",
       "      <th>UAE</th>\n",
       "      <td>8000.000000</td>\n",
       "    </tr>\n",
       "  </tbody>\n",
       "</table>\n",
       "</div>"
      ],
      "text/plain": [
       "                Gallery space in m2\n",
       "Country                            \n",
       "Vatican City           43000.000000\n",
       "Russia                 39421.000000\n",
       "United Kingdom         37021.250000\n",
       "Mexico                 33000.000000\n",
       "Austria                29000.000000\n",
       "Japan                  26000.000000\n",
       "Ukraine                24000.000000\n",
       "Belgium                22000.000000\n",
       "Spain                  18651.200000\n",
       "France                 18515.333333\n",
       "China                  18125.000000\n",
       "Singapore              18000.000000\n",
       "South Korea            17078.000000\n",
       "United States          17014.976000\n",
       "Brazil                 17000.000000\n",
       "Hong Kong              17000.000000\n",
       "Australia              15300.000000\n",
       "Egypt                  15000.000000\n",
       "Canada                 14325.000000\n",
       "Israel                 14250.000000\n",
       "Czech Republic         13500.000000\n",
       "India                  12500.000000\n",
       "Germany                12277.777778\n",
       "Italy                  12077.272727\n",
       "Taiwan                 11637.666667\n",
       "Switzerland            10750.000000\n",
       "Netherlands            10666.666667\n",
       "Hungary                10300.000000\n",
       "Brasil                  9112.000000\n",
       "Norway                  9000.000000\n",
       "Tunisia                 9000.000000\n",
       "Greece                  8000.000000\n",
       "UAE                     8000.000000"
      ]
     },
     "execution_count": 19,
     "metadata": {},
     "output_type": "execute_result"
    }
   ],
   "source": [
    "top_counrty_gallery_area = top_museums.pivot_table(index='Country',values='Gallery space in m2',aggfunc=np.mean).sort_values('Gallery space in m2',ascending=False)\n",
    "top_counrty_gallery_area"
   ]
  },
  {
   "cell_type": "code",
   "execution_count": 20,
   "id": "e6899d26",
   "metadata": {
    "execution": {
     "iopub.execute_input": "2023-07-09T06:41:28.565392Z",
     "iopub.status.busy": "2023-07-09T06:41:28.564957Z",
     "iopub.status.idle": "2023-07-09T06:41:29.263183Z",
     "shell.execute_reply": "2023-07-09T06:41:29.262297Z"
    },
    "papermill": {
     "duration": 0.717554,
     "end_time": "2023-07-09T06:41:29.267789",
     "exception": false,
     "start_time": "2023-07-09T06:41:28.550235",
     "status": "completed"
    },
    "tags": []
   },
   "outputs": [
    {
     "data": {
      "image/png": "[encoded data removed]",
      "text/plain": [
       "<Figure size 1000x600 with 1 Axes>"
      ]
     },
     "metadata": {},
     "output_type": "display_data"
    }
   ],
   "source": [
    "top_counrty_gallery_area.plot(kind = 'bar', xlabel = 'Countries', ylabel = 'Avg area of gallery space in m2', title = 'Avg area of Gallery space in m2 Country Wise', grid=True,figsize=(10,6))\n",
    "plt.show()"
   ]
  },
  {
   "cell_type": "markdown",
   "id": "eb42d1b3",
   "metadata": {
    "papermill": {
     "duration": 0.016261,
     "end_time": "2023-07-09T06:41:29.300740",
     "exception": false,
     "start_time": "2023-07-09T06:41:29.284479",
     "status": "completed"
    },
    "tags": []
   },
   "source": [
    "<h3> Observation 1: <h3>\n",
    "**Top perorming country according to mean area of museums is Vatican City, Russia, United Kingdom, Mexico, Austria , Japan,Ukraine, Belgium.**"
   ]
  },
  {
   "cell_type": "code",
   "execution_count": 21,
   "id": "61111bf2",
   "metadata": {
    "execution": {
     "iopub.execute_input": "2023-07-09T06:41:29.330758Z",
     "iopub.status.busy": "2023-07-09T06:41:29.330331Z",
     "iopub.status.idle": "2023-07-09T06:41:29.495881Z",
     "shell.execute_reply": "2023-07-09T06:41:29.494939Z"
    },
    "papermill": {
     "duration": 0.183983,
     "end_time": "2023-07-09T06:41:29.498998",
     "exception": false,
     "start_time": "2023-07-09T06:41:29.315015",
     "status": "completed"
    },
    "tags": []
   },
   "outputs": [
    {
     "data": {
      "text/html": [
       "<div>\n",
       "<style scoped>\n",
       "    .dataframe tbody tr th:only-of-type {\n",
       "        vertical-align: middle;\n",
       "    }\n",
       "\n",
       "    .dataframe tbody tr th {\n",
       "        vertical-align: top;\n",
       "    }\n",
       "\n",
       "    .dataframe thead th {\n",
       "        text-align: right;\n",
       "    }\n",
       "</style>\n",
       "<table border=\"1\" class=\"dataframe\">\n",
       "  <thead>\n",
       "    <tr style=\"text-align: right;\">\n",
       "      <th></th>\n",
       "      <th>Number of Museums</th>\n",
       "    </tr>\n",
       "    <tr>\n",
       "      <th>Country</th>\n",
       "      <th></th>\n",
       "    </tr>\n",
       "  </thead>\n",
       "  <tbody>\n",
       "    <tr>\n",
       "      <th>United States</th>\n",
       "      <td>25</td>\n",
       "    </tr>\n",
       "    <tr>\n",
       "      <th>Italy</th>\n",
       "      <td>11</td>\n",
       "    </tr>\n",
       "    <tr>\n",
       "      <th>France</th>\n",
       "      <td>9</td>\n",
       "    </tr>\n",
       "    <tr>\n",
       "      <th>Germany</th>\n",
       "      <td>9</td>\n",
       "    </tr>\n",
       "    <tr>\n",
       "      <th>China</th>\n",
       "      <td>8</td>\n",
       "    </tr>\n",
       "    <tr>\n",
       "      <th>Spain</th>\n",
       "      <td>5</td>\n",
       "    </tr>\n",
       "    <tr>\n",
       "      <th>United Kingdom</th>\n",
       "      <td>4</td>\n",
       "    </tr>\n",
       "    <tr>\n",
       "      <th>Canada</th>\n",
       "      <td>4</td>\n",
       "    </tr>\n",
       "    <tr>\n",
       "      <th>Taiwan</th>\n",
       "      <td>3</td>\n",
       "    </tr>\n",
       "    <tr>\n",
       "      <th>South Korea</th>\n",
       "      <td>3</td>\n",
       "    </tr>\n",
       "    <tr>\n",
       "      <th>Netherlands</th>\n",
       "      <td>3</td>\n",
       "    </tr>\n",
       "    <tr>\n",
       "      <th>Israel</th>\n",
       "      <td>2</td>\n",
       "    </tr>\n",
       "    <tr>\n",
       "      <th>Switzerland</th>\n",
       "      <td>2</td>\n",
       "    </tr>\n",
       "    <tr>\n",
       "      <th>Russia</th>\n",
       "      <td>2</td>\n",
       "    </tr>\n",
       "    <tr>\n",
       "      <th>Japan</th>\n",
       "      <td>2</td>\n",
       "    </tr>\n",
       "    <tr>\n",
       "      <th>Australia</th>\n",
       "      <td>2</td>\n",
       "    </tr>\n",
       "    <tr>\n",
       "      <th>India</th>\n",
       "      <td>2</td>\n",
       "    </tr>\n",
       "    <tr>\n",
       "      <th>Austria</th>\n",
       "      <td>1</td>\n",
       "    </tr>\n",
       "    <tr>\n",
       "      <th>Czech Republic</th>\n",
       "      <td>1</td>\n",
       "    </tr>\n",
       "    <tr>\n",
       "      <th>Belgium</th>\n",
       "      <td>1</td>\n",
       "    </tr>\n",
       "    <tr>\n",
       "      <th>Brasil</th>\n",
       "      <td>1</td>\n",
       "    </tr>\n",
       "    <tr>\n",
       "      <th>Ukraine</th>\n",
       "      <td>1</td>\n",
       "    </tr>\n",
       "    <tr>\n",
       "      <th>UAE</th>\n",
       "      <td>1</td>\n",
       "    </tr>\n",
       "    <tr>\n",
       "      <th>Tunisia</th>\n",
       "      <td>1</td>\n",
       "    </tr>\n",
       "    <tr>\n",
       "      <th>Brazil</th>\n",
       "      <td>1</td>\n",
       "    </tr>\n",
       "    <tr>\n",
       "      <th>Egypt</th>\n",
       "      <td>1</td>\n",
       "    </tr>\n",
       "    <tr>\n",
       "      <th>Greece</th>\n",
       "      <td>1</td>\n",
       "    </tr>\n",
       "    <tr>\n",
       "      <th>Singapore</th>\n",
       "      <td>1</td>\n",
       "    </tr>\n",
       "    <tr>\n",
       "      <th>Hong Kong</th>\n",
       "      <td>1</td>\n",
       "    </tr>\n",
       "    <tr>\n",
       "      <th>Norway</th>\n",
       "      <td>1</td>\n",
       "    </tr>\n",
       "    <tr>\n",
       "      <th>Hungary</th>\n",
       "      <td>1</td>\n",
       "    </tr>\n",
       "    <tr>\n",
       "      <th>Mexico</th>\n",
       "      <td>1</td>\n",
       "    </tr>\n",
       "    <tr>\n",
       "      <th>Vatican City</th>\n",
       "      <td>1</td>\n",
       "    </tr>\n",
       "  </tbody>\n",
       "</table>\n",
       "</div>"
      ],
      "text/plain": [
       "                Number of Museums\n",
       "Country                          \n",
       "United States                  25\n",
       "Italy                          11\n",
       "France                          9\n",
       "Germany                         9\n",
       "China                           8\n",
       "Spain                           5\n",
       "United Kingdom                  4\n",
       "Canada                          4\n",
       "Taiwan                          3\n",
       "South Korea                     3\n",
       "Netherlands                     3\n",
       "Israel                          2\n",
       "Switzerland                     2\n",
       "Russia                          2\n",
       "Japan                           2\n",
       "Australia                       2\n",
       "India                           2\n",
       "Austria                         1\n",
       "Czech Republic                  1\n",
       "Belgium                         1\n",
       "Brasil                          1\n",
       "Ukraine                         1\n",
       "UAE                             1\n",
       "Tunisia                         1\n",
       "Brazil                          1\n",
       "Egypt                           1\n",
       "Greece                          1\n",
       "Singapore                       1\n",
       "Hong Kong                       1\n",
       "Norway                          1\n",
       "Hungary                         1\n",
       "Mexico                          1\n",
       "Vatican City                    1"
      ]
     },
     "execution_count": 21,
     "metadata": {},
     "output_type": "execute_result"
    }
   ],
   "source": [
    "top_country_museum_count = top_museums.pivot_table(index='Country',values='City',aggfunc=np.count_nonzero).sort_values('City',ascending=False)\n",
    "top_country_museum_count.rename(columns={'City':'Number of Museums'},inplace = True)\n",
    "top_country_museum_count"
   ]
  },
  {
   "cell_type": "code",
   "execution_count": 22,
   "id": "70da7c21",
   "metadata": {
    "execution": {
     "iopub.execute_input": "2023-07-09T06:41:29.535141Z",
     "iopub.status.busy": "2023-07-09T06:41:29.534135Z",
     "iopub.status.idle": "2023-07-09T06:41:30.100479Z",
     "shell.execute_reply": "2023-07-09T06:41:30.099433Z"
    },
    "papermill": {
     "duration": 0.585722,
     "end_time": "2023-07-09T06:41:30.103179",
     "exception": false,
     "start_time": "2023-07-09T06:41:29.517457",
     "status": "completed"
    },
    "tags": []
   },
   "outputs": [
    {
     "data": {
      "image/png": "[encoded data removed]",
      "text/plain": [
       "<Figure size 1000x600 with 1 Axes>"
      ]
     },
     "metadata": {},
     "output_type": "display_data"
    }
   ],
   "source": [
    "top_country_museum_count.plot(kind = 'bar', xlabel = 'Countries', ylabel = 'Number of Museum', title = 'Number of Museums Country Wise', grid=True,figsize=(10,6))\n",
    "plt.show()"
   ]
  },
  {
   "cell_type": "markdown",
   "id": "3a9df04b",
   "metadata": {
    "papermill": {
     "duration": 0.01579,
     "end_time": "2023-07-09T06:41:30.134716",
     "exception": false,
     "start_time": "2023-07-09T06:41:30.118926",
     "status": "completed"
    },
    "tags": []
   },
   "source": [
    "<h3> Observation 2: <h3>\n",
    "<h4>Top perorming country according to number of museums is United States, Italy, France, Germany, China , Spain, United Kingdom, Canada.</h4>"
   ]
  },
  {
   "cell_type": "markdown",
   "id": "d529dad4",
   "metadata": {
    "papermill": {
     "duration": 0.015095,
     "end_time": "2023-07-09T06:41:30.165941",
     "exception": false,
     "start_time": "2023-07-09T06:41:30.150846",
     "status": "completed"
    },
    "tags": []
   },
   "source": [
    "<h3>Top perfomring Country : United Kingdom</h3>\n",
    "<h4>United Kindom 7th in number of museum and ranked 1st in mean area.</h4>"
   ]
  },
  {
   "cell_type": "code",
   "execution_count": 23,
   "id": "e6be3b51",
   "metadata": {
    "execution": {
     "iopub.execute_input": "2023-07-09T06:41:30.199397Z",
     "iopub.status.busy": "2023-07-09T06:41:30.198665Z",
     "iopub.status.idle": "2023-07-09T06:41:30.219577Z",
     "shell.execute_reply": "2023-07-09T06:41:30.218678Z"
    },
    "papermill": {
     "duration": 0.040424,
     "end_time": "2023-07-09T06:41:30.222010",
     "exception": false,
     "start_time": "2023-07-09T06:41:30.181586",
     "status": "completed"
    },
    "tags": []
   },
   "outputs": [
    {
     "data": {
      "text/html": [
       "<div>\n",
       "<style scoped>\n",
       "    .dataframe tbody tr th:only-of-type {\n",
       "        vertical-align: middle;\n",
       "    }\n",
       "\n",
       "    .dataframe tbody tr th {\n",
       "        vertical-align: top;\n",
       "    }\n",
       "\n",
       "    .dataframe thead th {\n",
       "        text-align: right;\n",
       "    }\n",
       "</style>\n",
       "<table border=\"1\" class=\"dataframe\">\n",
       "  <thead>\n",
       "    <tr style=\"text-align: right;\">\n",
       "      <th></th>\n",
       "      <th>Name</th>\n",
       "    </tr>\n",
       "    <tr>\n",
       "      <th>City</th>\n",
       "      <th></th>\n",
       "    </tr>\n",
       "  </thead>\n",
       "  <tbody>\n",
       "    <tr>\n",
       "      <th>Paris</th>\n",
       "      <td>7</td>\n",
       "    </tr>\n",
       "    <tr>\n",
       "      <th>London</th>\n",
       "      <td>4</td>\n",
       "    </tr>\n",
       "    <tr>\n",
       "      <th>Berlin</th>\n",
       "      <td>4</td>\n",
       "    </tr>\n",
       "    <tr>\n",
       "      <th>Madrid</th>\n",
       "      <td>3</td>\n",
       "    </tr>\n",
       "    <tr>\n",
       "      <th>Milan</th>\n",
       "      <td>3</td>\n",
       "    </tr>\n",
       "    <tr>\n",
       "      <th>...</th>\n",
       "      <td>...</td>\n",
       "    </tr>\n",
       "    <tr>\n",
       "      <th>Indianapolis</th>\n",
       "      <td>1</td>\n",
       "    </tr>\n",
       "    <tr>\n",
       "      <th>Hyderabad</th>\n",
       "      <td>1</td>\n",
       "    </tr>\n",
       "    <tr>\n",
       "      <th>Houston</th>\n",
       "      <td>1</td>\n",
       "    </tr>\n",
       "    <tr>\n",
       "      <th>Hamburg</th>\n",
       "      <td>1</td>\n",
       "    </tr>\n",
       "    <tr>\n",
       "      <th>Zürich</th>\n",
       "      <td>1</td>\n",
       "    </tr>\n",
       "  </tbody>\n",
       "</table>\n",
       "<p>83 rows × 1 columns</p>\n",
       "</div>"
      ],
      "text/plain": [
       "              Name\n",
       "City              \n",
       "Paris            7\n",
       "London           4\n",
       "Berlin           4\n",
       "Madrid           3\n",
       "Milan            3\n",
       "...            ...\n",
       "Indianapolis     1\n",
       "Hyderabad        1\n",
       "Houston          1\n",
       "Hamburg          1\n",
       "Zürich           1\n",
       "\n",
       "[83 rows x 1 columns]"
      ]
     },
     "execution_count": 23,
     "metadata": {},
     "output_type": "execute_result"
    }
   ],
   "source": [
    "top_city_museum_count = top_museums.pivot_table(index='City',values='Name',aggfunc=np.count_nonzero).sort_values('Name',ascending=False)\n",
    "top_city_museum_count"
   ]
  },
  {
   "cell_type": "markdown",
   "id": "dd250f86",
   "metadata": {
    "papermill": {
     "duration": 0.015621,
     "end_time": "2023-07-09T06:41:30.253430",
     "exception": false,
     "start_time": "2023-07-09T06:41:30.237809",
     "status": "completed"
    },
    "tags": []
   },
   "source": [
    "<h3> Observation 3 </h3>\n",
    "<h4>Peris is top city with most number of largest museums.<h4>"
   ]
  },
  {
   "cell_type": "code",
   "execution_count": 24,
   "id": "393ad84e",
   "metadata": {
    "execution": {
     "iopub.execute_input": "2023-07-09T06:41:30.287218Z",
     "iopub.status.busy": "2023-07-09T06:41:30.286806Z",
     "iopub.status.idle": "2023-07-09T06:41:30.307480Z",
     "shell.execute_reply": "2023-07-09T06:41:30.306186Z"
    },
    "papermill": {
     "duration": 0.040262,
     "end_time": "2023-07-09T06:41:30.310081",
     "exception": false,
     "start_time": "2023-07-09T06:41:30.269819",
     "status": "completed"
    },
    "tags": []
   },
   "outputs": [
    {
     "data": {
      "text/html": [
       "<div>\n",
       "<style scoped>\n",
       "    .dataframe tbody tr th:only-of-type {\n",
       "        vertical-align: middle;\n",
       "    }\n",
       "\n",
       "    .dataframe tbody tr th {\n",
       "        vertical-align: top;\n",
       "    }\n",
       "\n",
       "    .dataframe thead th {\n",
       "        text-align: right;\n",
       "    }\n",
       "</style>\n",
       "<table border=\"1\" class=\"dataframe\">\n",
       "  <thead>\n",
       "    <tr style=\"text-align: right;\">\n",
       "      <th></th>\n",
       "      <th>Gallery space in m2</th>\n",
       "    </tr>\n",
       "    <tr>\n",
       "      <th>City</th>\n",
       "      <th></th>\n",
       "    </tr>\n",
       "  </thead>\n",
       "  <tbody>\n",
       "    <tr>\n",
       "      <th>St. Petersburg</th>\n",
       "      <td>66842.00</td>\n",
       "    </tr>\n",
       "    <tr>\n",
       "      <th>Vatican City (Rome)</th>\n",
       "      <td>43000.00</td>\n",
       "    </tr>\n",
       "    <tr>\n",
       "      <th>New York City</th>\n",
       "      <td>37110.00</td>\n",
       "    </tr>\n",
       "    <tr>\n",
       "      <th>London</th>\n",
       "      <td>37021.25</td>\n",
       "    </tr>\n",
       "    <tr>\n",
       "      <th>Mexico City</th>\n",
       "      <td>33000.00</td>\n",
       "    </tr>\n",
       "    <tr>\n",
       "      <th>...</th>\n",
       "      <td>...</td>\n",
       "    </tr>\n",
       "    <tr>\n",
       "      <th>Atlanta</th>\n",
       "      <td>8714.00</td>\n",
       "    </tr>\n",
       "    <tr>\n",
       "      <th>Shenyang</th>\n",
       "      <td>8500.00</td>\n",
       "    </tr>\n",
       "    <tr>\n",
       "      <th>Cologne</th>\n",
       "      <td>8000.00</td>\n",
       "    </tr>\n",
       "    <tr>\n",
       "      <th>Athens</th>\n",
       "      <td>8000.00</td>\n",
       "    </tr>\n",
       "    <tr>\n",
       "      <th>Abu Dhabi</th>\n",
       "      <td>8000.00</td>\n",
       "    </tr>\n",
       "  </tbody>\n",
       "</table>\n",
       "<p>83 rows × 1 columns</p>\n",
       "</div>"
      ],
      "text/plain": [
       "                     Gallery space in m2\n",
       "City                                    \n",
       "St. Petersburg                  66842.00\n",
       "Vatican City (Rome)             43000.00\n",
       "New York City                   37110.00\n",
       "London                          37021.25\n",
       "Mexico City                     33000.00\n",
       "...                                  ...\n",
       "Atlanta                          8714.00\n",
       "Shenyang                         8500.00\n",
       "Cologne                          8000.00\n",
       "Athens                           8000.00\n",
       "Abu Dhabi                        8000.00\n",
       "\n",
       "[83 rows x 1 columns]"
      ]
     },
     "execution_count": 24,
     "metadata": {},
     "output_type": "execute_result"
    }
   ],
   "source": [
    "top_city_museum_area = top_museums.pivot_table(index='City',values='Gallery space in m2',aggfunc=np.mean).sort_values('Gallery space in m2',ascending=False)\n",
    "top_city_museum_area"
   ]
  },
  {
   "cell_type": "markdown",
   "id": "aa4794fa",
   "metadata": {
    "papermill": {
     "duration": 0.016153,
     "end_time": "2023-07-09T06:41:30.342519",
     "exception": false,
     "start_time": "2023-07-09T06:41:30.326366",
     "status": "completed"
    },
    "tags": []
   },
   "source": [
    "<h3> Observation 3 </h3>\n",
    "<h4>St. Petersburg  is top city with higest mean area of largest museums.<h4>"
   ]
  },
  {
   "cell_type": "code",
   "execution_count": 25,
   "id": "08fd4840",
   "metadata": {
    "execution": {
     "iopub.execute_input": "2023-07-09T06:41:30.376274Z",
     "iopub.status.busy": "2023-07-09T06:41:30.375889Z",
     "iopub.status.idle": "2023-07-09T06:41:30.396217Z",
     "shell.execute_reply": "2023-07-09T06:41:30.395154Z"
    },
    "papermill": {
     "duration": 0.040014,
     "end_time": "2023-07-09T06:41:30.398602",
     "exception": false,
     "start_time": "2023-07-09T06:41:30.358588",
     "status": "completed"
    },
    "tags": []
   },
   "outputs": [
    {
     "data": {
      "text/html": [
       "<div>\n",
       "<style scoped>\n",
       "    .dataframe tbody tr th:only-of-type {\n",
       "        vertical-align: middle;\n",
       "    }\n",
       "\n",
       "    .dataframe tbody tr th {\n",
       "        vertical-align: top;\n",
       "    }\n",
       "\n",
       "    .dataframe thead th {\n",
       "        text-align: right;\n",
       "    }\n",
       "</style>\n",
       "<table border=\"1\" class=\"dataframe\">\n",
       "  <thead>\n",
       "    <tr style=\"text-align: right;\">\n",
       "      <th></th>\n",
       "      <th>Name</th>\n",
       "      <th>City</th>\n",
       "      <th>Country</th>\n",
       "      <th>Gallery space in sq ft</th>\n",
       "      <th>Year established</th>\n",
       "      <th>Gallery space in m2</th>\n",
       "    </tr>\n",
       "  </thead>\n",
       "  <tbody>\n",
       "    <tr>\n",
       "      <th>0</th>\n",
       "      <td>Capitoline Museums</td>\n",
       "      <td>Rome</td>\n",
       "      <td>Italy</td>\n",
       "      <td>120000.0</td>\n",
       "      <td>1471</td>\n",
       "      <td>11000.0</td>\n",
       "    </tr>\n",
       "    <tr>\n",
       "      <th>1</th>\n",
       "      <td>Vatican Museums</td>\n",
       "      <td>Vatican City (Rome)</td>\n",
       "      <td>Vatican City</td>\n",
       "      <td>460000.0</td>\n",
       "      <td>1506</td>\n",
       "      <td>43000.0</td>\n",
       "    </tr>\n",
       "    <tr>\n",
       "      <th>2</th>\n",
       "      <td>British Museum</td>\n",
       "      <td>London</td>\n",
       "      <td>United Kingdom</td>\n",
       "      <td>990000.0</td>\n",
       "      <td>1753</td>\n",
       "      <td>92000.0</td>\n",
       "    </tr>\n",
       "    <tr>\n",
       "      <th>3</th>\n",
       "      <td>Museo di Capodimonte</td>\n",
       "      <td>Naples</td>\n",
       "      <td>Italy</td>\n",
       "      <td>0.0</td>\n",
       "      <td>1757</td>\n",
       "      <td>15000.0</td>\n",
       "    </tr>\n",
       "    <tr>\n",
       "      <th>4</th>\n",
       "      <td>State Hermitage Museum</td>\n",
       "      <td>St. Petersburg</td>\n",
       "      <td>Russia</td>\n",
       "      <td>719480.0</td>\n",
       "      <td>1764</td>\n",
       "      <td>66842.0</td>\n",
       "    </tr>\n",
       "    <tr>\n",
       "      <th>...</th>\n",
       "      <td>...</td>\n",
       "      <td>...</td>\n",
       "      <td>...</td>\n",
       "      <td>...</td>\n",
       "      <td>...</td>\n",
       "      <td>...</td>\n",
       "    </tr>\n",
       "    <tr>\n",
       "      <th>107</th>\n",
       "      <td>MMCA, Seoul</td>\n",
       "      <td>Seoul</td>\n",
       "      <td>South Korea</td>\n",
       "      <td>110000.0</td>\n",
       "      <td>2013</td>\n",
       "      <td>10000.0</td>\n",
       "    </tr>\n",
       "    <tr>\n",
       "      <th>108</th>\n",
       "      <td>National Gallery Singapore</td>\n",
       "      <td>Singapore</td>\n",
       "      <td>Singapore</td>\n",
       "      <td>190000.0</td>\n",
       "      <td>2015</td>\n",
       "      <td>18000.0</td>\n",
       "    </tr>\n",
       "    <tr>\n",
       "      <th>109</th>\n",
       "      <td>Louvre Abu Dhabi</td>\n",
       "      <td>Abu Dhabi</td>\n",
       "      <td>UAE</td>\n",
       "      <td>86000.0</td>\n",
       "      <td>2017</td>\n",
       "      <td>8000.0</td>\n",
       "    </tr>\n",
       "    <tr>\n",
       "      <th>110</th>\n",
       "      <td>Humboldt Forum</td>\n",
       "      <td>Berlin</td>\n",
       "      <td>Germany</td>\n",
       "      <td>317500.0</td>\n",
       "      <td>2020</td>\n",
       "      <td>29500.0</td>\n",
       "    </tr>\n",
       "    <tr>\n",
       "      <th>111</th>\n",
       "      <td>M+</td>\n",
       "      <td>Kowloon</td>\n",
       "      <td>Hong Kong</td>\n",
       "      <td>183000.0</td>\n",
       "      <td>2021</td>\n",
       "      <td>17000.0</td>\n",
       "    </tr>\n",
       "  </tbody>\n",
       "</table>\n",
       "<p>112 rows × 6 columns</p>\n",
       "</div>"
      ],
      "text/plain": [
       "                           Name                 City         Country  \\\n",
       "0            Capitoline Museums                 Rome           Italy   \n",
       "1               Vatican Museums  Vatican City (Rome)    Vatican City   \n",
       "2                British Museum               London  United Kingdom   \n",
       "3          Museo di Capodimonte               Naples           Italy   \n",
       "4        State Hermitage Museum       St. Petersburg          Russia   \n",
       "..                          ...                  ...             ...   \n",
       "107                 MMCA, Seoul                Seoul     South Korea   \n",
       "108  National Gallery Singapore            Singapore       Singapore   \n",
       "109            Louvre Abu Dhabi            Abu Dhabi             UAE   \n",
       "110              Humboldt Forum               Berlin         Germany   \n",
       "111                          M+              Kowloon       Hong Kong   \n",
       "\n",
       "     Gallery space in sq ft Year established  Gallery space in m2  \n",
       "0                  120000.0             1471              11000.0  \n",
       "1                  460000.0             1506              43000.0  \n",
       "2                  990000.0             1753              92000.0  \n",
       "3                       0.0             1757              15000.0  \n",
       "4                  719480.0             1764              66842.0  \n",
       "..                      ...              ...                  ...  \n",
       "107                110000.0             2013              10000.0  \n",
       "108                190000.0             2015              18000.0  \n",
       "109                 86000.0             2017               8000.0  \n",
       "110                317500.0             2020              29500.0  \n",
       "111                183000.0             2021              17000.0  \n",
       "\n",
       "[112 rows x 6 columns]"
      ]
     },
     "execution_count": 25,
     "metadata": {},
     "output_type": "execute_result"
    }
   ],
   "source": [
    "oldest_museums = df.sort_values('Year established')\n",
    "oldest_museums.reset_index(drop = True,inplace = True)\n",
    "oldest_museums"
   ]
  },
  {
   "cell_type": "markdown",
   "id": "74039eda",
   "metadata": {
    "papermill": {
     "duration": 0.016585,
     "end_time": "2023-07-09T06:41:30.431748",
     "exception": false,
     "start_time": "2023-07-09T06:41:30.415163",
     "status": "completed"
    },
    "tags": []
   },
   "source": [
    "**Oldest and Largest Museums**"
   ]
  },
  {
   "cell_type": "code",
   "execution_count": 26,
   "id": "1d247d4a",
   "metadata": {
    "execution": {
     "iopub.execute_input": "2023-07-09T06:41:30.466701Z",
     "iopub.status.busy": "2023-07-09T06:41:30.466265Z",
     "iopub.status.idle": "2023-07-09T06:41:30.491831Z",
     "shell.execute_reply": "2023-07-09T06:41:30.490716Z"
    },
    "papermill": {
     "duration": 0.046041,
     "end_time": "2023-07-09T06:41:30.494405",
     "exception": false,
     "start_time": "2023-07-09T06:41:30.448364",
     "status": "completed"
    },
    "tags": []
   },
   "outputs": [
    {
     "data": {
      "text/html": [
       "<div>\n",
       "<style scoped>\n",
       "    .dataframe tbody tr th:only-of-type {\n",
       "        vertical-align: middle;\n",
       "    }\n",
       "\n",
       "    .dataframe tbody tr th {\n",
       "        vertical-align: top;\n",
       "    }\n",
       "\n",
       "    .dataframe thead th {\n",
       "        text-align: right;\n",
       "    }\n",
       "</style>\n",
       "<table border=\"1\" class=\"dataframe\">\n",
       "  <thead>\n",
       "    <tr style=\"text-align: right;\">\n",
       "      <th></th>\n",
       "      <th>Name</th>\n",
       "      <th>City</th>\n",
       "      <th>Country</th>\n",
       "      <th>Gallery space in sq ft</th>\n",
       "      <th>Year established</th>\n",
       "      <th>Gallery space in m2</th>\n",
       "    </tr>\n",
       "  </thead>\n",
       "  <tbody>\n",
       "    <tr>\n",
       "      <th>0</th>\n",
       "      <td>Capitoline Museums</td>\n",
       "      <td>Rome</td>\n",
       "      <td>Italy</td>\n",
       "      <td>120000.0</td>\n",
       "      <td>1471</td>\n",
       "      <td>11000.0</td>\n",
       "    </tr>\n",
       "    <tr>\n",
       "      <th>1</th>\n",
       "      <td>Vatican Museums</td>\n",
       "      <td>Vatican City (Rome)</td>\n",
       "      <td>Vatican City</td>\n",
       "      <td>460000.0</td>\n",
       "      <td>1506</td>\n",
       "      <td>43000.0</td>\n",
       "    </tr>\n",
       "    <tr>\n",
       "      <th>2</th>\n",
       "      <td>British Museum</td>\n",
       "      <td>London</td>\n",
       "      <td>United Kingdom</td>\n",
       "      <td>990000.0</td>\n",
       "      <td>1753</td>\n",
       "      <td>92000.0</td>\n",
       "    </tr>\n",
       "    <tr>\n",
       "      <th>3</th>\n",
       "      <td>Museo di Capodimonte</td>\n",
       "      <td>Naples</td>\n",
       "      <td>Italy</td>\n",
       "      <td>0.0</td>\n",
       "      <td>1757</td>\n",
       "      <td>15000.0</td>\n",
       "    </tr>\n",
       "    <tr>\n",
       "      <th>4</th>\n",
       "      <td>State Hermitage Museum</td>\n",
       "      <td>St. Petersburg</td>\n",
       "      <td>Russia</td>\n",
       "      <td>719480.0</td>\n",
       "      <td>1764</td>\n",
       "      <td>66842.0</td>\n",
       "    </tr>\n",
       "    <tr>\n",
       "      <th>...</th>\n",
       "      <td>...</td>\n",
       "      <td>...</td>\n",
       "      <td>...</td>\n",
       "      <td>...</td>\n",
       "      <td>...</td>\n",
       "      <td>...</td>\n",
       "    </tr>\n",
       "    <tr>\n",
       "      <th>107</th>\n",
       "      <td>MMCA, Seoul</td>\n",
       "      <td>Seoul</td>\n",
       "      <td>South Korea</td>\n",
       "      <td>110000.0</td>\n",
       "      <td>2013</td>\n",
       "      <td>10000.0</td>\n",
       "    </tr>\n",
       "    <tr>\n",
       "      <th>108</th>\n",
       "      <td>National Gallery Singapore</td>\n",
       "      <td>Singapore</td>\n",
       "      <td>Singapore</td>\n",
       "      <td>190000.0</td>\n",
       "      <td>2015</td>\n",
       "      <td>18000.0</td>\n",
       "    </tr>\n",
       "    <tr>\n",
       "      <th>109</th>\n",
       "      <td>Louvre Abu Dhabi</td>\n",
       "      <td>Abu Dhabi</td>\n",
       "      <td>UAE</td>\n",
       "      <td>86000.0</td>\n",
       "      <td>2017</td>\n",
       "      <td>8000.0</td>\n",
       "    </tr>\n",
       "    <tr>\n",
       "      <th>110</th>\n",
       "      <td>Humboldt Forum</td>\n",
       "      <td>Berlin</td>\n",
       "      <td>Germany</td>\n",
       "      <td>317500.0</td>\n",
       "      <td>2020</td>\n",
       "      <td>29500.0</td>\n",
       "    </tr>\n",
       "    <tr>\n",
       "      <th>111</th>\n",
       "      <td>M+</td>\n",
       "      <td>Kowloon</td>\n",
       "      <td>Hong Kong</td>\n",
       "      <td>183000.0</td>\n",
       "      <td>2021</td>\n",
       "      <td>17000.0</td>\n",
       "    </tr>\n",
       "  </tbody>\n",
       "</table>\n",
       "<p>112 rows × 6 columns</p>\n",
       "</div>"
      ],
      "text/plain": [
       "                           Name                 City         Country  \\\n",
       "0            Capitoline Museums                 Rome           Italy   \n",
       "1               Vatican Museums  Vatican City (Rome)    Vatican City   \n",
       "2                British Museum               London  United Kingdom   \n",
       "3          Museo di Capodimonte               Naples           Italy   \n",
       "4        State Hermitage Museum       St. Petersburg          Russia   \n",
       "..                          ...                  ...             ...   \n",
       "107                 MMCA, Seoul                Seoul     South Korea   \n",
       "108  National Gallery Singapore            Singapore       Singapore   \n",
       "109            Louvre Abu Dhabi            Abu Dhabi             UAE   \n",
       "110              Humboldt Forum               Berlin         Germany   \n",
       "111                          M+              Kowloon       Hong Kong   \n",
       "\n",
       "     Gallery space in sq ft Year established  Gallery space in m2  \n",
       "0                  120000.0             1471              11000.0  \n",
       "1                  460000.0             1506              43000.0  \n",
       "2                  990000.0             1753              92000.0  \n",
       "3                       0.0             1757              15000.0  \n",
       "4                  719480.0             1764              66842.0  \n",
       "..                      ...              ...                  ...  \n",
       "107                110000.0             2013              10000.0  \n",
       "108                190000.0             2015              18000.0  \n",
       "109                 86000.0             2017               8000.0  \n",
       "110                317500.0             2020              29500.0  \n",
       "111                183000.0             2021              17000.0  \n",
       "\n",
       "[112 rows x 6 columns]"
      ]
     },
     "execution_count": 26,
     "metadata": {},
     "output_type": "execute_result"
    }
   ],
   "source": [
    "oldestAndLargest_museums = df.sort_values(['Year established','Gallery space in m2'],ascending = [True,False])\n",
    "oldestAndLargest_museums.reset_index(drop = True, inplace = True)\n",
    "oldestAndLargest_museums"
   ]
  }
 ],
 "metadata": {
  "kernelspec": {
   "display_name": "Python 3",
   "language": "python",
   "name": "python3"
  },
  "language_info": {
   "codemirror_mode": {
    "name": "ipython",
    "version": 3
   },
   "file_extension": ".py",
   "mimetype": "text/x-python",
   "name": "python",
   "nbconvert_exporter": "python",
   "pygments_lexer": "ipython3",
   "version": "3.10.10"
  },
  "papermill": {
   "default_parameters": {},
   "duration": 15.933317,
   "end_time": "2023-07-09T06:41:31.433109",
   "environment_variables": {},
   "exception": null,
   "input_path": "__notebook__.ipynb",
   "output_path": "__notebook__.ipynb",
   "parameters": {},
   "start_time": "2023-07-09T06:41:15.499792",
   "version": "2.4.0"
  }
 },
 "nbformat": 4,
 "nbformat_minor": 5
}
