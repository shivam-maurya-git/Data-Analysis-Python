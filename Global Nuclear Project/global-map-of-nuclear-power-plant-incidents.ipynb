{
 "cells": [
  {
   "cell_type": "code",
   "execution_count": 1,
   "id": "8c20eead",
   "metadata": {
    "_cell_guid": "b1076dfc-b9ad-4769-8c92-a6c4dae69d19",
    "_uuid": "8f2839f25d086af736a60e9eeb907d3b93b6e0e5",
    "execution": {
     "iopub.execute_input": "2023-11-25T14:06:06.946028Z",
     "iopub.status.busy": "2023-11-25T14:06:06.945526Z",
     "iopub.status.idle": "2023-11-25T14:06:07.459353Z",
     "shell.execute_reply": "2023-11-25T14:06:07.457855Z"
    },
    "papermill": {
     "duration": 0.524776,
     "end_time": "2023-11-25T14:06:07.462265",
     "exception": false,
     "start_time": "2023-11-25T14:06:06.937489",
     "status": "completed"
    },
    "tags": []
   },
   "outputs": [
    {
     "name": "stdout",
     "output_type": "stream",
     "text": [
      "/kaggle/input/major-nuclear-plant-incidents-1957-2011/Nuclear Incidents - Sheet3.csv\n"
     ]
    }
   ],
   "source": [
    "# This Python 3 environment comes with many helpful analytics libraries installed\n",
    "# It is defined by the kaggle/python Docker image: https://github.com/kaggle/docker-python\n",
    "# For example, here's several helpful packages to load\n",
    "\n",
    "import numpy as np # linear algebra\n",
    "import pandas as pd # data processing, CSV file I/O (e.g. pd.read_csv)\n",
    "\n",
    "# Input data files are available in the read-only \"../input/\" directory\n",
    "# For example, running this (by clicking run or pressing Shift+Enter) will list all files under the input directory\n",
    "\n",
    "import os\n",
    "for dirname, _, filenames in os.walk('/kaggle/input'):\n",
    "    for filename in filenames:\n",
    "        print(os.path.join(dirname, filename))\n",
    "\n",
    "# You can write up to 20GB to the current directory (/kaggle/working/) that gets preserved as output when you create a version using \"Save & Run All\" \n",
    "# You can also write temporary files to /kaggle/temp/, but they won't be saved outside of the current session"
   ]
  },
  {
   "cell_type": "markdown",
   "id": "3eb42161",
   "metadata": {
    "papermill": {
     "duration": 0.004621,
     "end_time": "2023-11-25T14:06:07.474798",
     "exception": false,
     "start_time": "2023-11-25T14:06:07.470177",
     "status": "completed"
    },
    "tags": []
   },
   "source": [
    "## Importing Libraries"
   ]
  },
  {
   "cell_type": "code",
   "execution_count": 2,
   "id": "8a20d75e",
   "metadata": {
    "execution": {
     "iopub.execute_input": "2023-11-25T14:06:07.487329Z",
     "iopub.status.busy": "2023-11-25T14:06:07.486207Z",
     "iopub.status.idle": "2023-11-25T14:06:08.470719Z",
     "shell.execute_reply": "2023-11-25T14:06:08.469485Z"
    },
    "papermill": {
     "duration": 0.99448,
     "end_time": "2023-11-25T14:06:08.474191",
     "exception": false,
     "start_time": "2023-11-25T14:06:07.479711",
     "status": "completed"
    },
    "tags": []
   },
   "outputs": [],
   "source": [
    "import pandas as pd\n",
    "import matplotlib.pyplot as plt\n",
    "import plotly.express as px"
   ]
  },
  {
   "cell_type": "markdown",
   "id": "fab63fef",
   "metadata": {
    "papermill": {
     "duration": 0.004711,
     "end_time": "2023-11-25T14:06:08.484001",
     "exception": false,
     "start_time": "2023-11-25T14:06:08.479290",
     "status": "completed"
    },
    "tags": []
   },
   "source": [
    "## Loading Dataset"
   ]
  },
  {
   "cell_type": "code",
   "execution_count": 3,
   "id": "e82f6cb6",
   "metadata": {
    "execution": {
     "iopub.execute_input": "2023-11-25T14:06:08.497177Z",
     "iopub.status.busy": "2023-11-25T14:06:08.495562Z",
     "iopub.status.idle": "2023-11-25T14:06:08.521995Z",
     "shell.execute_reply": "2023-11-25T14:06:08.520494Z"
    },
    "papermill": {
     "duration": 0.036321,
     "end_time": "2023-11-25T14:06:08.525266",
     "exception": false,
     "start_time": "2023-11-25T14:06:08.488945",
     "status": "completed"
    },
    "tags": []
   },
   "outputs": [],
   "source": [
    "df = pd.read_csv('/kaggle/input/major-nuclear-plant-incidents-1957-2011/Nuclear Incidents - Sheet3.csv')"
   ]
  },
  {
   "cell_type": "code",
   "execution_count": 4,
   "id": "8e49b8b5",
   "metadata": {
    "execution": {
     "iopub.execute_input": "2023-11-25T14:06:08.537722Z",
     "iopub.status.busy": "2023-11-25T14:06:08.537198Z",
     "iopub.status.idle": "2023-11-25T14:06:08.569973Z",
     "shell.execute_reply": "2023-11-25T14:06:08.568791Z"
    },
    "papermill": {
     "duration": 0.043388,
     "end_time": "2023-11-25T14:06:08.573905",
     "exception": false,
     "start_time": "2023-11-25T14:06:08.530517",
     "status": "completed"
    },
    "tags": []
   },
   "outputs": [
    {
     "data": {
      "text/html": [
       "<div>\n",
       "<style scoped>\n",
       "    .dataframe tbody tr th:only-of-type {\n",
       "        vertical-align: middle;\n",
       "    }\n",
       "\n",
       "    .dataframe tbody tr th {\n",
       "        vertical-align: top;\n",
       "    }\n",
       "\n",
       "    .dataframe thead th {\n",
       "        text-align: right;\n",
       "    }\n",
       "</style>\n",
       "<table border=\"1\" class=\"dataframe\">\n",
       "  <thead>\n",
       "    <tr style=\"text-align: right;\">\n",
       "      <th></th>\n",
       "      <th>Date</th>\n",
       "      <th>Location</th>\n",
       "      <th>Incident</th>\n",
       "      <th>Category</th>\n",
       "      <th>Numbers of Direct Deaths</th>\n",
       "      <th>Numbers of InDirect Deaths</th>\n",
       "      <th>INES\\nlevel</th>\n",
       "      <th>Latitude</th>\n",
       "      <th>Longitude</th>\n",
       "    </tr>\n",
       "  </thead>\n",
       "  <tbody>\n",
       "    <tr>\n",
       "      <th>0</th>\n",
       "      <td>29/09/1957</td>\n",
       "      <td>Mayak, Kyshtym, Soviet Union</td>\n",
       "      <td>Kyshtym disaster</td>\n",
       "      <td>Storage/Handling</td>\n",
       "      <td>NaN</td>\n",
       "      <td>200</td>\n",
       "      <td>6.0</td>\n",
       "      <td>55.7131</td>\n",
       "      <td>60.8526</td>\n",
       "    </tr>\n",
       "    <tr>\n",
       "      <th>1</th>\n",
       "      <td>10/10/1957</td>\n",
       "      <td>Sellafield, Cumberland, United Kingdom</td>\n",
       "      <td>Windscale fire</td>\n",
       "      <td>Operational/Safety Measures</td>\n",
       "      <td>0.0</td>\n",
       "      <td>240</td>\n",
       "      <td>5.0</td>\n",
       "      <td>54.4167</td>\n",
       "      <td>-3.4833</td>\n",
       "    </tr>\n",
       "    <tr>\n",
       "      <th>2</th>\n",
       "      <td>03/01/1961</td>\n",
       "      <td>Idaho Falls, Idaho, United States</td>\n",
       "      <td>SL-1 prototype explosion</td>\n",
       "      <td>Operator Error</td>\n",
       "      <td>3.0</td>\n",
       "      <td>NaN</td>\n",
       "      <td>4.0</td>\n",
       "      <td>43.4920</td>\n",
       "      <td>-112.0401</td>\n",
       "    </tr>\n",
       "    <tr>\n",
       "      <th>3</th>\n",
       "      <td>05/10/1966</td>\n",
       "      <td>Frenchtown Charter Township, Michigan, United ...</td>\n",
       "      <td>Fermi 1 Reactor meltdown</td>\n",
       "      <td>Technical Flaws</td>\n",
       "      <td>0.0</td>\n",
       "      <td>NaN</td>\n",
       "      <td>4.0</td>\n",
       "      <td>41.9562</td>\n",
       "      <td>-83.6639</td>\n",
       "    </tr>\n",
       "    <tr>\n",
       "      <th>4</th>\n",
       "      <td>21/01/1969</td>\n",
       "      <td>Lucens reactor, Vaud, Switzerland</td>\n",
       "      <td>Loss-of-Coolant Accident (January 21, 1969)</td>\n",
       "      <td>Operator Error</td>\n",
       "      <td>0.0</td>\n",
       "      <td>NaN</td>\n",
       "      <td>4.0</td>\n",
       "      <td>46.6772</td>\n",
       "      <td>6.8750</td>\n",
       "    </tr>\n",
       "  </tbody>\n",
       "</table>\n",
       "</div>"
      ],
      "text/plain": [
       "         Date                                          Location   \\\n",
       "0  29/09/1957                       Mayak, Kyshtym, Soviet Union   \n",
       "1  10/10/1957             Sellafield, Cumberland, United Kingdom   \n",
       "2  03/01/1961                  Idaho Falls, Idaho, United States   \n",
       "3  05/10/1966  Frenchtown Charter Township, Michigan, United ...   \n",
       "4  21/01/1969                  Lucens reactor, Vaud, Switzerland   \n",
       "\n",
       "                                      Incident                     Category  \\\n",
       "0                             Kyshtym disaster             Storage/Handling   \n",
       "1                               Windscale fire  Operational/Safety Measures   \n",
       "2                     SL-1 prototype explosion               Operator Error   \n",
       "3                     Fermi 1 Reactor meltdown              Technical Flaws   \n",
       "4  Loss-of-Coolant Accident (January 21, 1969)               Operator Error   \n",
       "\n",
       "   Numbers of Direct Deaths Numbers of InDirect Deaths  INES\\nlevel  Latitude  \\\n",
       "0                       NaN                        200          6.0   55.7131   \n",
       "1                       0.0                        240          5.0   54.4167   \n",
       "2                       3.0                        NaN          4.0   43.4920   \n",
       "3                       0.0                        NaN          4.0   41.9562   \n",
       "4                       0.0                        NaN          4.0   46.6772   \n",
       "\n",
       "   Longitude  \n",
       "0    60.8526  \n",
       "1    -3.4833  \n",
       "2  -112.0401  \n",
       "3   -83.6639  \n",
       "4     6.8750  "
      ]
     },
     "execution_count": 4,
     "metadata": {},
     "output_type": "execute_result"
    }
   ],
   "source": [
    "df.head()"
   ]
  },
  {
   "cell_type": "markdown",
   "id": "d0b0b640",
   "metadata": {
    "papermill": {
     "duration": 0.005028,
     "end_time": "2023-11-25T14:06:08.584204",
     "exception": false,
     "start_time": "2023-11-25T14:06:08.579176",
     "status": "completed"
    },
    "tags": []
   },
   "source": [
    "## Formatting Dataset"
   ]
  },
  {
   "cell_type": "code",
   "execution_count": 5,
   "id": "ee59d86f",
   "metadata": {
    "execution": {
     "iopub.execute_input": "2023-11-25T14:06:08.597312Z",
     "iopub.status.busy": "2023-11-25T14:06:08.596378Z",
     "iopub.status.idle": "2023-11-25T14:06:08.605280Z",
     "shell.execute_reply": "2023-11-25T14:06:08.604081Z"
    },
    "papermill": {
     "duration": 0.018553,
     "end_time": "2023-11-25T14:06:08.607847",
     "exception": false,
     "start_time": "2023-11-25T14:06:08.589294",
     "status": "completed"
    },
    "tags": []
   },
   "outputs": [
    {
     "data": {
      "text/plain": [
       "Date                           object\n",
       "Location                       object\n",
       "Incident                       object\n",
       "Category                       object\n",
       "Numbers of Direct Deaths      float64\n",
       "Numbers of InDirect Deaths     object\n",
       "INES\\nlevel                   float64\n",
       "Latitude                      float64\n",
       "Longitude                     float64\n",
       "dtype: object"
      ]
     },
     "execution_count": 5,
     "metadata": {},
     "output_type": "execute_result"
    }
   ],
   "source": [
    "df.dtypes"
   ]
  },
  {
   "cell_type": "code",
   "execution_count": 6,
   "id": "90f937d1",
   "metadata": {
    "execution": {
     "iopub.execute_input": "2023-11-25T14:06:08.621826Z",
     "iopub.status.busy": "2023-11-25T14:06:08.620576Z",
     "iopub.status.idle": "2023-11-25T14:06:08.643562Z",
     "shell.execute_reply": "2023-11-25T14:06:08.642320Z"
    },
    "papermill": {
     "duration": 0.03271,
     "end_time": "2023-11-25T14:06:08.646219",
     "exception": false,
     "start_time": "2023-11-25T14:06:08.613509",
     "status": "completed"
    },
    "tags": []
   },
   "outputs": [
    {
     "data": {
      "text/html": [
       "<div>\n",
       "<style scoped>\n",
       "    .dataframe tbody tr th:only-of-type {\n",
       "        vertical-align: middle;\n",
       "    }\n",
       "\n",
       "    .dataframe tbody tr th {\n",
       "        vertical-align: top;\n",
       "    }\n",
       "\n",
       "    .dataframe thead th {\n",
       "        text-align: right;\n",
       "    }\n",
       "</style>\n",
       "<table border=\"1\" class=\"dataframe\">\n",
       "  <thead>\n",
       "    <tr style=\"text-align: right;\">\n",
       "      <th></th>\n",
       "      <th>Date</th>\n",
       "      <th>Location</th>\n",
       "      <th>Incident</th>\n",
       "      <th>Category</th>\n",
       "      <th>Numbers of Direct Deaths</th>\n",
       "      <th>Numbers of InDirect Deaths</th>\n",
       "      <th>INES LEVEL</th>\n",
       "      <th>Latitude</th>\n",
       "      <th>Longitude</th>\n",
       "    </tr>\n",
       "  </thead>\n",
       "  <tbody>\n",
       "    <tr>\n",
       "      <th>0</th>\n",
       "      <td>29/09/1957</td>\n",
       "      <td>Mayak, Kyshtym, Soviet Union</td>\n",
       "      <td>Kyshtym disaster</td>\n",
       "      <td>Storage/Handling</td>\n",
       "      <td>NaN</td>\n",
       "      <td>200</td>\n",
       "      <td>6.0</td>\n",
       "      <td>55.7131</td>\n",
       "      <td>60.8526</td>\n",
       "    </tr>\n",
       "    <tr>\n",
       "      <th>1</th>\n",
       "      <td>10/10/1957</td>\n",
       "      <td>Sellafield, Cumberland, United Kingdom</td>\n",
       "      <td>Windscale fire</td>\n",
       "      <td>Operational/Safety Measures</td>\n",
       "      <td>0.0</td>\n",
       "      <td>240</td>\n",
       "      <td>5.0</td>\n",
       "      <td>54.4167</td>\n",
       "      <td>-3.4833</td>\n",
       "    </tr>\n",
       "    <tr>\n",
       "      <th>2</th>\n",
       "      <td>03/01/1961</td>\n",
       "      <td>Idaho Falls, Idaho, United States</td>\n",
       "      <td>SL-1 prototype explosion</td>\n",
       "      <td>Operator Error</td>\n",
       "      <td>3.0</td>\n",
       "      <td>NaN</td>\n",
       "      <td>4.0</td>\n",
       "      <td>43.4920</td>\n",
       "      <td>-112.0401</td>\n",
       "    </tr>\n",
       "    <tr>\n",
       "      <th>3</th>\n",
       "      <td>05/10/1966</td>\n",
       "      <td>Frenchtown Charter Township, Michigan, United ...</td>\n",
       "      <td>Fermi 1 Reactor meltdown</td>\n",
       "      <td>Technical Flaws</td>\n",
       "      <td>0.0</td>\n",
       "      <td>NaN</td>\n",
       "      <td>4.0</td>\n",
       "      <td>41.9562</td>\n",
       "      <td>-83.6639</td>\n",
       "    </tr>\n",
       "    <tr>\n",
       "      <th>4</th>\n",
       "      <td>21/01/1969</td>\n",
       "      <td>Lucens reactor, Vaud, Switzerland</td>\n",
       "      <td>Loss-of-Coolant Accident (January 21, 1969)</td>\n",
       "      <td>Operator Error</td>\n",
       "      <td>0.0</td>\n",
       "      <td>NaN</td>\n",
       "      <td>4.0</td>\n",
       "      <td>46.6772</td>\n",
       "      <td>6.8750</td>\n",
       "    </tr>\n",
       "  </tbody>\n",
       "</table>\n",
       "</div>"
      ],
      "text/plain": [
       "         Date                                          Location   \\\n",
       "0  29/09/1957                       Mayak, Kyshtym, Soviet Union   \n",
       "1  10/10/1957             Sellafield, Cumberland, United Kingdom   \n",
       "2  03/01/1961                  Idaho Falls, Idaho, United States   \n",
       "3  05/10/1966  Frenchtown Charter Township, Michigan, United ...   \n",
       "4  21/01/1969                  Lucens reactor, Vaud, Switzerland   \n",
       "\n",
       "                                      Incident                     Category  \\\n",
       "0                             Kyshtym disaster             Storage/Handling   \n",
       "1                               Windscale fire  Operational/Safety Measures   \n",
       "2                     SL-1 prototype explosion               Operator Error   \n",
       "3                     Fermi 1 Reactor meltdown              Technical Flaws   \n",
       "4  Loss-of-Coolant Accident (January 21, 1969)               Operator Error   \n",
       "\n",
       "   Numbers of Direct Deaths Numbers of InDirect Deaths  INES LEVEL  Latitude  \\\n",
       "0                       NaN                        200         6.0   55.7131   \n",
       "1                       0.0                        240         5.0   54.4167   \n",
       "2                       3.0                        NaN         4.0   43.4920   \n",
       "3                       0.0                        NaN         4.0   41.9562   \n",
       "4                       0.0                        NaN         4.0   46.6772   \n",
       "\n",
       "   Longitude  \n",
       "0    60.8526  \n",
       "1    -3.4833  \n",
       "2  -112.0401  \n",
       "3   -83.6639  \n",
       "4     6.8750  "
      ]
     },
     "execution_count": 6,
     "metadata": {},
     "output_type": "execute_result"
    }
   ],
   "source": [
    "df.rename(columns={\"INES\\nlevel\": \"INES LEVEL\"},inplace = True)\n",
    "df.head()"
   ]
  },
  {
   "cell_type": "code",
   "execution_count": 7,
   "id": "d3d602dd",
   "metadata": {
    "execution": {
     "iopub.execute_input": "2023-11-25T14:06:08.660502Z",
     "iopub.status.busy": "2023-11-25T14:06:08.659976Z",
     "iopub.status.idle": "2023-11-25T14:06:08.675238Z",
     "shell.execute_reply": "2023-11-25T14:06:08.674041Z"
    },
    "papermill": {
     "duration": 0.02557,
     "end_time": "2023-11-25T14:06:08.677833",
     "exception": false,
     "start_time": "2023-11-25T14:06:08.652263",
     "status": "completed"
    },
    "tags": []
   },
   "outputs": [
    {
     "name": "stderr",
     "output_type": "stream",
     "text": [
      "/tmp/ipykernel_19/3035710072.py:1: UserWarning: Parsing dates in %d/%m/%Y format when dayfirst=False (the default) was specified. Pass `dayfirst=True` or specify a format to silence this warning.\n",
      "  df['Date'] = df['Date'].astype('datetime64[ns]')\n"
     ]
    }
   ],
   "source": [
    "df['Date'] = df['Date'].astype('datetime64[ns]')"
   ]
  },
  {
   "cell_type": "markdown",
   "id": "8ac03084",
   "metadata": {
    "papermill": {
     "duration": 0.005585,
     "end_time": "2023-11-25T14:06:08.689442",
     "exception": false,
     "start_time": "2023-11-25T14:06:08.683857",
     "status": "completed"
    },
    "tags": []
   },
   "source": [
    "## Global Map of Nuclear Incidents"
   ]
  },
  {
   "cell_type": "code",
   "execution_count": 8,
   "id": "b97805ac",
   "metadata": {
    "execution": {
     "iopub.execute_input": "2023-11-25T14:06:08.704520Z",
     "iopub.status.busy": "2023-11-25T14:06:08.703690Z",
     "iopub.status.idle": "2023-11-25T14:06:10.869157Z",
     "shell.execute_reply": "2023-11-25T14:06:10.867778Z"
    },
    "papermill": {
     "duration": 2.17716,
     "end_time": "2023-11-25T14:06:10.872450",
     "exception": false,
     "start_time": "2023-11-25T14:06:08.695290",
     "status": "completed"
    },
    "tags": []
   },
   "outputs": [
    {
     "name": "stdout",
     "output_type": "stream",
     "text": [
      "Hover on dots to see more infromation about nuclear plant incidents and scroll towards left-right to see whole map\n"
     ]
    },
    {
     "data": {
      "text/html": [
       "        <script type=\"text/javascript\">\n",
       "        window.PlotlyConfig = {MathJaxConfig: 'local'};\n",
       "        if (window.MathJax && window.MathJax.Hub && window.MathJax.Hub.Config) {window.MathJax.Hub.Config({SVG: {font: \"STIX-Web\"}});}\n",
       "        if (typeof require !== 'undefined') {\n",
       "        require.undef(\"plotly\");\n",
       "        requirejs.config({\n",
       "            paths: {\n",
       "                'plotly': ['https://cdn.plot.ly/plotly-2.25.2.min']\n",
       "            }\n",
       "        });\n",
       "        require(['plotly'], function(Plotly) {\n",
       "            window._Plotly = Plotly;\n",
       "        });\n",
       "        }\n",
       "        </script>\n",
       "        "
      ]
     },
     "metadata": {},
     "output_type": "display_data"
    },
    {
     "data": {
      "text/html": [
       "<div>                            <div id=\"3c4e4d1e-c951-45dc-b9ce-8c5d0a641198\" class=\"plotly-graph-div\" style=\"height:700px; width:100%;\"></div>            <script type=\"text/javascript\">                require([\"plotly\"], function(Plotly) {                    window.PLOTLYENV=window.PLOTLYENV || {};                                    if (document.getElementById(\"3c4e4d1e-c951-45dc-b9ce-8c5d0a641198\")) {                    Plotly.newPlot(                        \"3c4e4d1e-c951-45dc-b9ce-8c5d0a641198\",                        [{\"customdata\":[[\"1957-09-29T00:00:00\",\"Kyshtym disaster\",6.0],[\"1957-10-10T00:00:00\",\"Windscale fire\",5.0],[\"1961-01-03T00:00:00\",\"SL-1 prototype explosion\",4.0],[\"1966-10-05T00:00:00\",\"Fermi 1 Reactor meltdown\",4.0],[\"1969-01-21T00:00:00\",\"Loss-of-Coolant Accident (January 21, 1969)\",4.0],[\"1975-12-07T00:00:00\",\"Greifswald Nuclear Power Plant fire\",3.0],[\"1976-01-05T00:00:00\",\"Fuel Rod Ejection during Fuel Replacement\",4.0],[\"1979-03-28T00:00:00\",\"Partial Core Meltdown (Operator Errors)\",5.0],[\"1984-09-15T00:00:00\",\"Browns Ferry Unit 2 Outage (Six-Year\",null],[\"1985-03-09T00:00:00\",\"Browns Ferry Units Startup Malfunction\",null],[\"1986-04-11T00:00:00\",\"Pilgrim Nuclear Power Plant Emergency Shutdown\",null],[\"1986-04-26T00:00:00\",\"Chernobyl disaster\",7.0],[\"1986-05-04T00:00:00\",\"THTR-300 reactor\",null],[\"1986-12-09T00:00:00\",\"Surry Nuclear Power Plant pipe break\",null],[\"1987-03-31T00:00:00\",\"Peach Bottom units shutdown\",null],[\"1987-12-19T00:00:00\",\"Niagara Mohawk Power Corporation shutdown\",null],[\"1989-03-17T00:00:00\",\"Calvert Cliff Units extended shutdown\",null],[\"1989-10-19T00:00:00\",\"Vandellòs nuclear power plant accident\",3.0],[\"1992-03-01T00:00:00\",\"Sosnovy Bor nuclear plant accident\",null],[\"1996-02-20T00:00:00\",\"Millstone Nuclear Power Plant shutdown\",null],[\"1996-09-02T00:00:00\",\"Crystal River Unit 3 shutdown\",null],[\"1999-09-30T00:00:00\",\"Tokaimura nuclear accident\",4.0],[\"2002-02-16T00:00:00\",\"Davis-Besse reactor outage\",3.0],[\"2003-04-10T00:00:00\",\"Paks Nuclear Power Plant fuel rod collapse\",3.0],[\"2004-08-09T00:00:00\",\"Mihama Nuclear Power Plant explosion\",1.0],[\"2006-07-25T00:00:00\",\"Forsmark Nuclear Power Plant electrical fault\",2.0],[\"2011-03-11T00:00:00\",\"Fukushima nuclear disaster\",7.0],[\"2011-09-12T00:00:00\",\"Marcoule Nuclear Site blast\",null]],\"hovertemplate\":\"\\u003cb\\u003e%{hovertext}\\u003c\\u002fb\\u003e\\u003cbr\\u003e\\u003cbr\\u003eLatitude=%{lat}\\u003cbr\\u003eLongitude=%{lon}\\u003cbr\\u003eDate=%{customdata[0]}\\u003cbr\\u003eIncident=%{customdata[1]}\\u003cbr\\u003eINES LEVEL=%{customdata[2]}\\u003cextra\\u003e\\u003c\\u002fextra\\u003e\",\"hovertext\":[\"Mayak, Kyshtym, Soviet Union\",\"Sellafield, Cumberland, United Kingdom\",\"Idaho Falls, Idaho, United States\",\"Frenchtown Charter Township, Michigan, United States\",\"Lucens reactor, Vaud, Switzerland\",\"Greifswald, East Germany\",\"Jaslovské Bohunice, Czechoslovakia\",\"Three Mile Island, Pennsylvania, United States\",\"Athens, Alabama, United States\",\"Athens, Alabama, United States\",\"Plymouth, Massachusetts, United States\",\"Chernobyl, Chernobyl Raion (now Vyshhorod Raion), Kiev Oblast, Ukrainian SSR, Soviet Union\",\"Hamm-Uentrop, West Germany\",\"Surry, Virginia, United States\",\"Delta, Pennsylvania, United States\",\"Lycoming, New York, United States\",\"Lusby, Maryland, United States\",\"Vandellòs, Spain\",\"Sosnovy Bor, Leningrad Oblast, Russia\",\"Waterford, Connecticut, United States\",\"Crystal River, Florida, United States\",\"Ibaraki Prefecture, Japan\",\"Oak Harbor, Ohio, United States\",\"Paks, Hungary\",\"Fukui Prefecture, Japan\",\"Forsmark, Sweden\",\"Fukushima, Japan\",\"Marcoule, France\"],\"lat\":[55.7131,54.4167,43.492,41.9562,46.6772,54.0833,48.452,40.1575,34.8029,34.8029,41.9584,51.2763,51.6651,37.1508,39.9484,42.223,38.3589,41.0469,59.9043,41.3557,28.9744,36.3075,41.5145,46.5824,35.6581,60.4054,37.7749,44.1467],\"legendgroup\":\"\",\"lon\":[60.8526,-3.4833,-112.0401,-83.6639,6.875,13.3833,17.8197,-76.7022,-86.9717,-86.9717,-70.6673,30.2219,7.8768,-76.8164,-76.5684,-76.9957,-76.4331,0.891,29.0968,-72.1564,-82.648,140.3196,-83.146,18.8467,136.1267,18.2127,140.4694,4.7528],\"marker\":{\"color\":\"fuchsia\",\"size\":10},\"mode\":\"markers\",\"name\":\"\",\"showlegend\":false,\"subplot\":\"mapbox\",\"type\":\"scattermapbox\"}],                        {\"template\":{\"data\":{\"histogram2dcontour\":[{\"type\":\"histogram2dcontour\",\"colorbar\":{\"outlinewidth\":0,\"ticks\":\"\"},\"colorscale\":[[0.0,\"#0d0887\"],[0.1111111111111111,\"#46039f\"],[0.2222222222222222,\"#7201a8\"],[0.3333333333333333,\"#9c179e\"],[0.4444444444444444,\"#bd3786\"],[0.5555555555555556,\"#d8576b\"],[0.6666666666666666,\"#ed7953\"],[0.7777777777777778,\"#fb9f3a\"],[0.8888888888888888,\"#fdca26\"],[1.0,\"#f0f921\"]]}],\"choropleth\":[{\"type\":\"choropleth\",\"colorbar\":{\"outlinewidth\":0,\"ticks\":\"\"}}],\"histogram2d\":[{\"type\":\"histogram2d\",\"colorbar\":{\"outlinewidth\":0,\"ticks\":\"\"},\"colorscale\":[[0.0,\"#0d0887\"],[0.1111111111111111,\"#46039f\"],[0.2222222222222222,\"#7201a8\"],[0.3333333333333333,\"#9c179e\"],[0.4444444444444444,\"#bd3786\"],[0.5555555555555556,\"#d8576b\"],[0.6666666666666666,\"#ed7953\"],[0.7777777777777778,\"#fb9f3a\"],[0.8888888888888888,\"#fdca26\"],[1.0,\"#f0f921\"]]}],\"heatmap\":[{\"type\":\"heatmap\",\"colorbar\":{\"outlinewidth\":0,\"ticks\":\"\"},\"colorscale\":[[0.0,\"#0d0887\"],[0.1111111111111111,\"#46039f\"],[0.2222222222222222,\"#7201a8\"],[0.3333333333333333,\"#9c179e\"],[0.4444444444444444,\"#bd3786\"],[0.5555555555555556,\"#d8576b\"],[0.6666666666666666,\"#ed7953\"],[0.7777777777777778,\"#fb9f3a\"],[0.8888888888888888,\"#fdca26\"],[1.0,\"#f0f921\"]]}],\"heatmapgl\":[{\"type\":\"heatmapgl\",\"colorbar\":{\"outlinewidth\":0,\"ticks\":\"\"},\"colorscale\":[[0.0,\"#0d0887\"],[0.1111111111111111,\"#46039f\"],[0.2222222222222222,\"#7201a8\"],[0.3333333333333333,\"#9c179e\"],[0.4444444444444444,\"#bd3786\"],[0.5555555555555556,\"#d8576b\"],[0.6666666666666666,\"#ed7953\"],[0.7777777777777778,\"#fb9f3a\"],[0.8888888888888888,\"#fdca26\"],[1.0,\"#f0f921\"]]}],\"contourcarpet\":[{\"type\":\"contourcarpet\",\"colorbar\":{\"outlinewidth\":0,\"ticks\":\"\"}}],\"contour\":[{\"type\":\"contour\",\"colorbar\":{\"outlinewidth\":0,\"ticks\":\"\"},\"colorscale\":[[0.0,\"#0d0887\"],[0.1111111111111111,\"#46039f\"],[0.2222222222222222,\"#7201a8\"],[0.3333333333333333,\"#9c179e\"],[0.4444444444444444,\"#bd3786\"],[0.5555555555555556,\"#d8576b\"],[0.6666666666666666,\"#ed7953\"],[0.7777777777777778,\"#fb9f3a\"],[0.8888888888888888,\"#fdca26\"],[1.0,\"#f0f921\"]]}],\"surface\":[{\"type\":\"surface\",\"colorbar\":{\"outlinewidth\":0,\"ticks\":\"\"},\"colorscale\":[[0.0,\"#0d0887\"],[0.1111111111111111,\"#46039f\"],[0.2222222222222222,\"#7201a8\"],[0.3333333333333333,\"#9c179e\"],[0.4444444444444444,\"#bd3786\"],[0.5555555555555556,\"#d8576b\"],[0.6666666666666666,\"#ed7953\"],[0.7777777777777778,\"#fb9f3a\"],[0.8888888888888888,\"#fdca26\"],[1.0,\"#f0f921\"]]}],\"mesh3d\":[{\"type\":\"mesh3d\",\"colorbar\":{\"outlinewidth\":0,\"ticks\":\"\"}}],\"scatter\":[{\"fillpattern\":{\"fillmode\":\"overlay\",\"size\":10,\"solidity\":0.2},\"type\":\"scatter\"}],\"parcoords\":[{\"type\":\"parcoords\",\"line\":{\"colorbar\":{\"outlinewidth\":0,\"ticks\":\"\"}}}],\"scatterpolargl\":[{\"type\":\"scatterpolargl\",\"marker\":{\"colorbar\":{\"outlinewidth\":0,\"ticks\":\"\"}}}],\"bar\":[{\"error_x\":{\"color\":\"#2a3f5f\"},\"error_y\":{\"color\":\"#2a3f5f\"},\"marker\":{\"line\":{\"color\":\"#E5ECF6\",\"width\":0.5},\"pattern\":{\"fillmode\":\"overlay\",\"size\":10,\"solidity\":0.2}},\"type\":\"bar\"}],\"scattergeo\":[{\"type\":\"scattergeo\",\"marker\":{\"colorbar\":{\"outlinewidth\":0,\"ticks\":\"\"}}}],\"scatterpolar\":[{\"type\":\"scatterpolar\",\"marker\":{\"colorbar\":{\"outlinewidth\":0,\"ticks\":\"\"}}}],\"histogram\":[{\"marker\":{\"pattern\":{\"fillmode\":\"overlay\",\"size\":10,\"solidity\":0.2}},\"type\":\"histogram\"}],\"scattergl\":[{\"type\":\"scattergl\",\"marker\":{\"colorbar\":{\"outlinewidth\":0,\"ticks\":\"\"}}}],\"scatter3d\":[{\"type\":\"scatter3d\",\"line\":{\"colorbar\":{\"outlinewidth\":0,\"ticks\":\"\"}},\"marker\":{\"colorbar\":{\"outlinewidth\":0,\"ticks\":\"\"}}}],\"scattermapbox\":[{\"type\":\"scattermapbox\",\"marker\":{\"colorbar\":{\"outlinewidth\":0,\"ticks\":\"\"}}}],\"scatterternary\":[{\"type\":\"scatterternary\",\"marker\":{\"colorbar\":{\"outlinewidth\":0,\"ticks\":\"\"}}}],\"scattercarpet\":[{\"type\":\"scattercarpet\",\"marker\":{\"colorbar\":{\"outlinewidth\":0,\"ticks\":\"\"}}}],\"carpet\":[{\"aaxis\":{\"endlinecolor\":\"#2a3f5f\",\"gridcolor\":\"white\",\"linecolor\":\"white\",\"minorgridcolor\":\"white\",\"startlinecolor\":\"#2a3f5f\"},\"baxis\":{\"endlinecolor\":\"#2a3f5f\",\"gridcolor\":\"white\",\"linecolor\":\"white\",\"minorgridcolor\":\"white\",\"startlinecolor\":\"#2a3f5f\"},\"type\":\"carpet\"}],\"table\":[{\"cells\":{\"fill\":{\"color\":\"#EBF0F8\"},\"line\":{\"color\":\"white\"}},\"header\":{\"fill\":{\"color\":\"#C8D4E3\"},\"line\":{\"color\":\"white\"}},\"type\":\"table\"}],\"barpolar\":[{\"marker\":{\"line\":{\"color\":\"#E5ECF6\",\"width\":0.5},\"pattern\":{\"fillmode\":\"overlay\",\"size\":10,\"solidity\":0.2}},\"type\":\"barpolar\"}],\"pie\":[{\"automargin\":true,\"type\":\"pie\"}]},\"layout\":{\"autotypenumbers\":\"strict\",\"colorway\":[\"#636efa\",\"#EF553B\",\"#00cc96\",\"#ab63fa\",\"#FFA15A\",\"#19d3f3\",\"#FF6692\",\"#B6E880\",\"#FF97FF\",\"#FECB52\"],\"font\":{\"color\":\"#2a3f5f\"},\"hovermode\":\"closest\",\"hoverlabel\":{\"align\":\"left\"},\"paper_bgcolor\":\"white\",\"plot_bgcolor\":\"#E5ECF6\",\"polar\":{\"bgcolor\":\"#E5ECF6\",\"angularaxis\":{\"gridcolor\":\"white\",\"linecolor\":\"white\",\"ticks\":\"\"},\"radialaxis\":{\"gridcolor\":\"white\",\"linecolor\":\"white\",\"ticks\":\"\"}},\"ternary\":{\"bgcolor\":\"#E5ECF6\",\"aaxis\":{\"gridcolor\":\"white\",\"linecolor\":\"white\",\"ticks\":\"\"},\"baxis\":{\"gridcolor\":\"white\",\"linecolor\":\"white\",\"ticks\":\"\"},\"caxis\":{\"gridcolor\":\"white\",\"linecolor\":\"white\",\"ticks\":\"\"}},\"coloraxis\":{\"colorbar\":{\"outlinewidth\":0,\"ticks\":\"\"}},\"colorscale\":{\"sequential\":[[0.0,\"#0d0887\"],[0.1111111111111111,\"#46039f\"],[0.2222222222222222,\"#7201a8\"],[0.3333333333333333,\"#9c179e\"],[0.4444444444444444,\"#bd3786\"],[0.5555555555555556,\"#d8576b\"],[0.6666666666666666,\"#ed7953\"],[0.7777777777777778,\"#fb9f3a\"],[0.8888888888888888,\"#fdca26\"],[1.0,\"#f0f921\"]],\"sequentialminus\":[[0.0,\"#0d0887\"],[0.1111111111111111,\"#46039f\"],[0.2222222222222222,\"#7201a8\"],[0.3333333333333333,\"#9c179e\"],[0.4444444444444444,\"#bd3786\"],[0.5555555555555556,\"#d8576b\"],[0.6666666666666666,\"#ed7953\"],[0.7777777777777778,\"#fb9f3a\"],[0.8888888888888888,\"#fdca26\"],[1.0,\"#f0f921\"]],\"diverging\":[[0,\"#8e0152\"],[0.1,\"#c51b7d\"],[0.2,\"#de77ae\"],[0.3,\"#f1b6da\"],[0.4,\"#fde0ef\"],[0.5,\"#f7f7f7\"],[0.6,\"#e6f5d0\"],[0.7,\"#b8e186\"],[0.8,\"#7fbc41\"],[0.9,\"#4d9221\"],[1,\"#276419\"]]},\"xaxis\":{\"gridcolor\":\"white\",\"linecolor\":\"white\",\"ticks\":\"\",\"title\":{\"standoff\":15},\"zerolinecolor\":\"white\",\"automargin\":true,\"zerolinewidth\":2},\"yaxis\":{\"gridcolor\":\"white\",\"linecolor\":\"white\",\"ticks\":\"\",\"title\":{\"standoff\":15},\"zerolinecolor\":\"white\",\"automargin\":true,\"zerolinewidth\":2},\"scene\":{\"xaxis\":{\"backgroundcolor\":\"#E5ECF6\",\"gridcolor\":\"white\",\"linecolor\":\"white\",\"showbackground\":true,\"ticks\":\"\",\"zerolinecolor\":\"white\",\"gridwidth\":2},\"yaxis\":{\"backgroundcolor\":\"#E5ECF6\",\"gridcolor\":\"white\",\"linecolor\":\"white\",\"showbackground\":true,\"ticks\":\"\",\"zerolinecolor\":\"white\",\"gridwidth\":2},\"zaxis\":{\"backgroundcolor\":\"#E5ECF6\",\"gridcolor\":\"white\",\"linecolor\":\"white\",\"showbackground\":true,\"ticks\":\"\",\"zerolinecolor\":\"white\",\"gridwidth\":2}},\"shapedefaults\":{\"line\":{\"color\":\"#2a3f5f\"}},\"annotationdefaults\":{\"arrowcolor\":\"#2a3f5f\",\"arrowhead\":0,\"arrowwidth\":1},\"geo\":{\"bgcolor\":\"white\",\"landcolor\":\"#E5ECF6\",\"subunitcolor\":\"white\",\"showland\":true,\"showlakes\":true,\"lakecolor\":\"white\"},\"title\":{\"x\":0.05},\"mapbox\":{\"style\":\"light\"}}},\"mapbox\":{\"domain\":{\"x\":[0.0,1.0],\"y\":[0.0,1.0]},\"center\":{\"lat\":43.95733928571429,\"lon\":-15.697114285714282},\"zoom\":1,\"style\":\"open-street-map\"},\"legend\":{\"tracegroupgap\":0},\"title\":{\"text\":\"Nuclear Plant Incidents\"},\"height\":700,\"margin\":{\"r\":0,\"t\":0,\"l\":0,\"b\":0}},                        {\"responsive\": true}                    ).then(function(){\n",
       "                            \n",
       "var gd = document.getElementById('3c4e4d1e-c951-45dc-b9ce-8c5d0a641198');\n",
       "var x = new MutationObserver(function (mutations, observer) {{\n",
       "        var display = window.getComputedStyle(gd).display;\n",
       "        if (!display || display === 'none') {{\n",
       "            console.log([gd, 'removed!']);\n",
       "            Plotly.purge(gd);\n",
       "            observer.disconnect();\n",
       "        }}\n",
       "}});\n",
       "\n",
       "// Listen for the removal of the full notebook cells\n",
       "var notebookContainer = gd.closest('#notebook-container');\n",
       "if (notebookContainer) {{\n",
       "    x.observe(notebookContainer, {childList: true});\n",
       "}}\n",
       "\n",
       "// Listen for the clearing of the current output cell\n",
       "var outputEl = gd.closest('.output');\n",
       "if (outputEl) {{\n",
       "    x.observe(outputEl, {childList: true});\n",
       "}}\n",
       "\n",
       "                        })                };                });            </script>        </div>"
      ]
     },
     "metadata": {},
     "output_type": "display_data"
    }
   ],
   "source": [
    "print('Hover on dots to see more infromation about nuclear plant incidents and scroll towards left-right to see whole map')\n",
    "fig = px.scatter_mapbox(data_frame=df,lat=\"Latitude\", lon=\"Longitude\", hover_name=\"Location \", hover_data=['Date',\"Incident\",\"INES LEVEL\"],\n",
    "                        color_discrete_sequence=[\"fuchsia\"], zoom=1, height=700,title = 'Nuclear Plant Incidents')\n",
    "fig.update_layout(mapbox_style=\"open-street-map\")\n",
    "fig.update_traces(marker=dict(size=10))\n",
    "fig.update_layout(margin={\"r\":0,\"t\":0,\"l\":0,\"b\":0})\n",
    "fig.show()"
   ]
  }
 ],
 "metadata": {
  "kaggle": {
   "accelerator": "none",
   "dataSources": [
    {
     "datasetId": 4057485,
     "sourceId": 7050412,
     "sourceType": "datasetVersion"
    }
   ],
   "dockerImageVersionId": 30587,
   "isGpuEnabled": false,
   "isInternetEnabled": true,
   "language": "python",
   "sourceType": "notebook"
  },
  "kernelspec": {
   "display_name": "Python 3",
   "language": "python",
   "name": "python3"
  },
  "language_info": {
   "codemirror_mode": {
    "name": "ipython",
    "version": 3
   },
   "file_extension": ".py",
   "mimetype": "text/x-python",
   "name": "python",
   "nbconvert_exporter": "python",
   "pygments_lexer": "ipython3",
   "version": "3.10.12"
  },
  "papermill": {
   "default_parameters": {},
   "duration": 8.53978,
   "end_time": "2023-11-25T14:06:11.804585",
   "environment_variables": {},
   "exception": null,
   "input_path": "__notebook__.ipynb",
   "output_path": "__notebook__.ipynb",
   "parameters": {},
   "start_time": "2023-11-25T14:06:03.264805",
   "version": "2.4.0"
  }
 },
 "nbformat": 4,
 "nbformat_minor": 5
}
