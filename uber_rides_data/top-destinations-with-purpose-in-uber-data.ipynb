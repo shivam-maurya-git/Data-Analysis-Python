{
 "cells": [
  {
   "cell_type": "code",
   "execution_count": 1,
   "id": "b54c462e",
   "metadata": {
    "_cell_guid": "b1076dfc-b9ad-4769-8c92-a6c4dae69d19",
    "_uuid": "8f2839f25d086af736a60e9eeb907d3b93b6e0e5",
    "execution": {
     "iopub.execute_input": "2023-07-13T13:37:29.708396Z",
     "iopub.status.busy": "2023-07-13T13:37:29.707409Z",
     "iopub.status.idle": "2023-07-13T13:37:29.727590Z",
     "shell.execute_reply": "2023-07-13T13:37:29.726710Z"
    },
    "papermill": {
     "duration": 0.033492,
     "end_time": "2023-07-13T13:37:29.729519",
     "exception": false,
     "start_time": "2023-07-13T13:37:29.696027",
     "status": "completed"
    },
    "tags": []
   },
   "outputs": [
    {
     "name": "stdout",
     "output_type": "stream",
     "text": [
      "/kaggle/input/uber-data-analysis/UberDataset.csv\n"
     ]
    }
   ],
   "source": [
    "# This Python 3 environment comes with many helpful analytics libraries installed\n",
    "# It is defined by the kaggle/python Docker image: https://github.com/kaggle/docker-python\n",
    "# For example, here's several helpful packages to load\n",
    "\n",
    "import numpy as np # linear algebra\n",
    "import pandas as pd # data processing, CSV file I/O (e.g. pd.read_csv)\n",
    "\n",
    "# Input data files are available in the read-only \"../input/\" directory\n",
    "# For example, running this (by clicking run or pressing Shift+Enter) will list all files under the input directory\n",
    "\n",
    "import os\n",
    "for dirname, _, filenames in os.walk('/kaggle/input'):\n",
    "    for filename in filenames:\n",
    "        print(os.path.join(dirname, filename))\n",
    "\n",
    "# You can write up to 20GB to the current directory (/kaggle/working/) that gets preserved as output when you create a version using \"Save & Run All\" \n",
    "# You can also write temporary files to /kaggle/temp/, but they won't be saved outside of the current session"
   ]
  },
  {
   "cell_type": "markdown",
   "id": "b2b1b84c",
   "metadata": {
    "papermill": {
     "duration": 0.009154,
     "end_time": "2023-07-13T13:37:29.748810",
     "exception": false,
     "start_time": "2023-07-13T13:37:29.739656",
     "status": "completed"
    },
    "tags": []
   },
   "source": [
    "## Importing Libraries"
   ]
  },
  {
   "cell_type": "code",
   "execution_count": 2,
   "id": "c98f86a8",
   "metadata": {
    "execution": {
     "iopub.execute_input": "2023-07-13T13:37:29.769176Z",
     "iopub.status.busy": "2023-07-13T13:37:29.768541Z",
     "iopub.status.idle": "2023-07-13T13:37:31.064065Z",
     "shell.execute_reply": "2023-07-13T13:37:31.062945Z"
    },
    "papermill": {
     "duration": 1.308642,
     "end_time": "2023-07-13T13:37:31.066760",
     "exception": false,
     "start_time": "2023-07-13T13:37:29.758118",
     "status": "completed"
    },
    "tags": []
   },
   "outputs": [
    {
     "name": "stderr",
     "output_type": "stream",
     "text": [
      "/opt/conda/lib/python3.10/site-packages/scipy/__init__.py:146: UserWarning: A NumPy version >=1.16.5 and <1.23.0 is required for this version of SciPy (detected version 1.23.5\n",
      "  warnings.warn(f\"A NumPy version >={np_minversion} and <{np_maxversion}\"\n"
     ]
    }
   ],
   "source": [
    "import pandas as pd\n",
    "import matplotlib.pyplot as plt\n",
    "import seaborn as sns\n",
    "import numpy as np"
   ]
  },
  {
   "cell_type": "markdown",
   "id": "a43e7919",
   "metadata": {
    "papermill": {
     "duration": 0.009003,
     "end_time": "2023-07-13T13:37:31.085199",
     "exception": false,
     "start_time": "2023-07-13T13:37:31.076196",
     "status": "completed"
    },
    "tags": []
   },
   "source": [
    "## Loading Dataset"
   ]
  },
  {
   "cell_type": "code",
   "execution_count": 3,
   "id": "48354810",
   "metadata": {
    "execution": {
     "iopub.execute_input": "2023-07-13T13:37:31.106005Z",
     "iopub.status.busy": "2023-07-13T13:37:31.105647Z",
     "iopub.status.idle": "2023-07-13T13:37:31.128688Z",
     "shell.execute_reply": "2023-07-13T13:37:31.127949Z"
    },
    "papermill": {
     "duration": 0.035365,
     "end_time": "2023-07-13T13:37:31.130781",
     "exception": false,
     "start_time": "2023-07-13T13:37:31.095416",
     "status": "completed"
    },
    "tags": []
   },
   "outputs": [],
   "source": [
    "df = pd.read_csv('/kaggle/input/uber-data-analysis/UberDataset.csv')\n",
    "pd.set_option('mode.chained_assignment',None) #"
   ]
  },
  {
   "cell_type": "code",
   "execution_count": 4,
   "id": "3f2e3bf5",
   "metadata": {
    "execution": {
     "iopub.execute_input": "2023-07-13T13:37:31.151016Z",
     "iopub.status.busy": "2023-07-13T13:37:31.150450Z",
     "iopub.status.idle": "2023-07-13T13:37:31.176122Z",
     "shell.execute_reply": "2023-07-13T13:37:31.175426Z"
    },
    "papermill": {
     "duration": 0.037785,
     "end_time": "2023-07-13T13:37:31.177962",
     "exception": false,
     "start_time": "2023-07-13T13:37:31.140177",
     "status": "completed"
    },
    "tags": []
   },
   "outputs": [
    {
     "data": {
      "text/html": [
       "<div>\n",
       "<style scoped>\n",
       "    .dataframe tbody tr th:only-of-type {\n",
       "        vertical-align: middle;\n",
       "    }\n",
       "\n",
       "    .dataframe tbody tr th {\n",
       "        vertical-align: top;\n",
       "    }\n",
       "\n",
       "    .dataframe thead th {\n",
       "        text-align: right;\n",
       "    }\n",
       "</style>\n",
       "<table border=\"1\" class=\"dataframe\">\n",
       "  <thead>\n",
       "    <tr style=\"text-align: right;\">\n",
       "      <th></th>\n",
       "      <th>START_DATE</th>\n",
       "      <th>END_DATE</th>\n",
       "      <th>CATEGORY</th>\n",
       "      <th>START</th>\n",
       "      <th>STOP</th>\n",
       "      <th>MILES</th>\n",
       "      <th>PURPOSE</th>\n",
       "    </tr>\n",
       "  </thead>\n",
       "  <tbody>\n",
       "    <tr>\n",
       "      <th>0</th>\n",
       "      <td>01-01-2016 21:11</td>\n",
       "      <td>01-01-2016 21:17</td>\n",
       "      <td>Business</td>\n",
       "      <td>Fort Pierce</td>\n",
       "      <td>Fort Pierce</td>\n",
       "      <td>5.1</td>\n",
       "      <td>Meal/Entertain</td>\n",
       "    </tr>\n",
       "    <tr>\n",
       "      <th>1</th>\n",
       "      <td>01-02-2016 01:25</td>\n",
       "      <td>01-02-2016 01:37</td>\n",
       "      <td>Business</td>\n",
       "      <td>Fort Pierce</td>\n",
       "      <td>Fort Pierce</td>\n",
       "      <td>5.0</td>\n",
       "      <td>NaN</td>\n",
       "    </tr>\n",
       "    <tr>\n",
       "      <th>2</th>\n",
       "      <td>01-02-2016 20:25</td>\n",
       "      <td>01-02-2016 20:38</td>\n",
       "      <td>Business</td>\n",
       "      <td>Fort Pierce</td>\n",
       "      <td>Fort Pierce</td>\n",
       "      <td>4.8</td>\n",
       "      <td>Errand/Supplies</td>\n",
       "    </tr>\n",
       "    <tr>\n",
       "      <th>3</th>\n",
       "      <td>01-05-2016 17:31</td>\n",
       "      <td>01-05-2016 17:45</td>\n",
       "      <td>Business</td>\n",
       "      <td>Fort Pierce</td>\n",
       "      <td>Fort Pierce</td>\n",
       "      <td>4.7</td>\n",
       "      <td>Meeting</td>\n",
       "    </tr>\n",
       "    <tr>\n",
       "      <th>4</th>\n",
       "      <td>01-06-2016 14:42</td>\n",
       "      <td>01-06-2016 15:49</td>\n",
       "      <td>Business</td>\n",
       "      <td>Fort Pierce</td>\n",
       "      <td>West Palm Beach</td>\n",
       "      <td>63.7</td>\n",
       "      <td>Customer Visit</td>\n",
       "    </tr>\n",
       "    <tr>\n",
       "      <th>...</th>\n",
       "      <td>...</td>\n",
       "      <td>...</td>\n",
       "      <td>...</td>\n",
       "      <td>...</td>\n",
       "      <td>...</td>\n",
       "      <td>...</td>\n",
       "      <td>...</td>\n",
       "    </tr>\n",
       "    <tr>\n",
       "      <th>1151</th>\n",
       "      <td>12/31/2016 13:24</td>\n",
       "      <td>12/31/2016 13:42</td>\n",
       "      <td>Business</td>\n",
       "      <td>Kar?chi</td>\n",
       "      <td>Unknown Location</td>\n",
       "      <td>3.9</td>\n",
       "      <td>Temporary Site</td>\n",
       "    </tr>\n",
       "    <tr>\n",
       "      <th>1152</th>\n",
       "      <td>12/31/2016 15:03</td>\n",
       "      <td>12/31/2016 15:38</td>\n",
       "      <td>Business</td>\n",
       "      <td>Unknown Location</td>\n",
       "      <td>Unknown Location</td>\n",
       "      <td>16.2</td>\n",
       "      <td>Meeting</td>\n",
       "    </tr>\n",
       "    <tr>\n",
       "      <th>1153</th>\n",
       "      <td>12/31/2016 21:32</td>\n",
       "      <td>12/31/2016 21:50</td>\n",
       "      <td>Business</td>\n",
       "      <td>Katunayake</td>\n",
       "      <td>Gampaha</td>\n",
       "      <td>6.4</td>\n",
       "      <td>Temporary Site</td>\n",
       "    </tr>\n",
       "    <tr>\n",
       "      <th>1154</th>\n",
       "      <td>12/31/2016 22:08</td>\n",
       "      <td>12/31/2016 23:51</td>\n",
       "      <td>Business</td>\n",
       "      <td>Gampaha</td>\n",
       "      <td>Ilukwatta</td>\n",
       "      <td>48.2</td>\n",
       "      <td>Temporary Site</td>\n",
       "    </tr>\n",
       "    <tr>\n",
       "      <th>1155</th>\n",
       "      <td>Totals</td>\n",
       "      <td>NaN</td>\n",
       "      <td>NaN</td>\n",
       "      <td>NaN</td>\n",
       "      <td>NaN</td>\n",
       "      <td>12204.7</td>\n",
       "      <td>NaN</td>\n",
       "    </tr>\n",
       "  </tbody>\n",
       "</table>\n",
       "<p>1156 rows × 7 columns</p>\n",
       "</div>"
      ],
      "text/plain": [
       "            START_DATE          END_DATE  CATEGORY             START  \\\n",
       "0     01-01-2016 21:11  01-01-2016 21:17  Business       Fort Pierce   \n",
       "1     01-02-2016 01:25  01-02-2016 01:37  Business       Fort Pierce   \n",
       "2     01-02-2016 20:25  01-02-2016 20:38  Business       Fort Pierce   \n",
       "3     01-05-2016 17:31  01-05-2016 17:45  Business       Fort Pierce   \n",
       "4     01-06-2016 14:42  01-06-2016 15:49  Business       Fort Pierce   \n",
       "...                ...               ...       ...               ...   \n",
       "1151  12/31/2016 13:24  12/31/2016 13:42  Business           Kar?chi   \n",
       "1152  12/31/2016 15:03  12/31/2016 15:38  Business  Unknown Location   \n",
       "1153  12/31/2016 21:32  12/31/2016 21:50  Business        Katunayake   \n",
       "1154  12/31/2016 22:08  12/31/2016 23:51  Business           Gampaha   \n",
       "1155            Totals               NaN       NaN               NaN   \n",
       "\n",
       "                  STOP    MILES          PURPOSE  \n",
       "0          Fort Pierce      5.1   Meal/Entertain  \n",
       "1          Fort Pierce      5.0              NaN  \n",
       "2          Fort Pierce      4.8  Errand/Supplies  \n",
       "3          Fort Pierce      4.7          Meeting  \n",
       "4      West Palm Beach     63.7   Customer Visit  \n",
       "...                ...      ...              ...  \n",
       "1151  Unknown Location      3.9   Temporary Site  \n",
       "1152  Unknown Location     16.2          Meeting  \n",
       "1153           Gampaha      6.4   Temporary Site  \n",
       "1154         Ilukwatta     48.2   Temporary Site  \n",
       "1155               NaN  12204.7              NaN  \n",
       "\n",
       "[1156 rows x 7 columns]"
      ]
     },
     "execution_count": 4,
     "metadata": {},
     "output_type": "execute_result"
    }
   ],
   "source": [
    "df"
   ]
  },
  {
   "cell_type": "code",
   "execution_count": 5,
   "id": "cc806c3b",
   "metadata": {
    "execution": {
     "iopub.execute_input": "2023-07-13T13:37:31.198694Z",
     "iopub.status.busy": "2023-07-13T13:37:31.197924Z",
     "iopub.status.idle": "2023-07-13T13:37:31.202825Z",
     "shell.execute_reply": "2023-07-13T13:37:31.202230Z"
    },
    "papermill": {
     "duration": 0.017029,
     "end_time": "2023-07-13T13:37:31.204745",
     "exception": false,
     "start_time": "2023-07-13T13:37:31.187716",
     "status": "completed"
    },
    "tags": []
   },
   "outputs": [],
   "source": [
    "# Removing last row\n",
    "df.drop(1155,inplace = True)"
   ]
  },
  {
   "cell_type": "markdown",
   "id": "8a29c284",
   "metadata": {
    "papermill": {
     "duration": 0.009103,
     "end_time": "2023-07-13T13:37:31.223201",
     "exception": false,
     "start_time": "2023-07-13T13:37:31.214098",
     "status": "completed"
    },
    "tags": []
   },
   "source": [
    "## Data Formatting : Checking Data Types"
   ]
  },
  {
   "cell_type": "code",
   "execution_count": 6,
   "id": "42dd390d",
   "metadata": {
    "execution": {
     "iopub.execute_input": "2023-07-13T13:37:31.243658Z",
     "iopub.status.busy": "2023-07-13T13:37:31.243061Z",
     "iopub.status.idle": "2023-07-13T13:37:31.249433Z",
     "shell.execute_reply": "2023-07-13T13:37:31.248546Z"
    },
    "papermill": {
     "duration": 0.019065,
     "end_time": "2023-07-13T13:37:31.251438",
     "exception": false,
     "start_time": "2023-07-13T13:37:31.232373",
     "status": "completed"
    },
    "tags": []
   },
   "outputs": [
    {
     "data": {
      "text/plain": [
       "START_DATE     object\n",
       "END_DATE       object\n",
       "CATEGORY       object\n",
       "START          object\n",
       "STOP           object\n",
       "MILES         float64\n",
       "PURPOSE        object\n",
       "dtype: object"
      ]
     },
     "execution_count": 6,
     "metadata": {},
     "output_type": "execute_result"
    }
   ],
   "source": [
    "df.dtypes"
   ]
  },
  {
   "cell_type": "code",
   "execution_count": 7,
   "id": "8fbbc6f9",
   "metadata": {
    "execution": {
     "iopub.execute_input": "2023-07-13T13:37:31.273057Z",
     "iopub.status.busy": "2023-07-13T13:37:31.272032Z",
     "iopub.status.idle": "2023-07-13T13:37:31.281013Z",
     "shell.execute_reply": "2023-07-13T13:37:31.279999Z"
    },
    "papermill": {
     "duration": 0.022017,
     "end_time": "2023-07-13T13:37:31.283092",
     "exception": false,
     "start_time": "2023-07-13T13:37:31.261075",
     "status": "completed"
    },
    "tags": []
   },
   "outputs": [],
   "source": [
    "#Replacing '/' from date columns\n",
    "df.loc[:,'START_DATE'] = df.loc[:,'START_DATE'].str.replace('/','-',regex=False)\n",
    "df.loc[:,'END_DATE'] = df.loc[:,'END_DATE'].str.replace('/','-',regex=False)"
   ]
  },
  {
   "cell_type": "code",
   "execution_count": 8,
   "id": "d4814bc3",
   "metadata": {
    "execution": {
     "iopub.execute_input": "2023-07-13T13:37:31.303893Z",
     "iopub.status.busy": "2023-07-13T13:37:31.303374Z",
     "iopub.status.idle": "2023-07-13T13:37:31.320271Z",
     "shell.execute_reply": "2023-07-13T13:37:31.319238Z"
    },
    "papermill": {
     "duration": 0.029326,
     "end_time": "2023-07-13T13:37:31.322321",
     "exception": false,
     "start_time": "2023-07-13T13:37:31.292995",
     "status": "completed"
    },
    "tags": []
   },
   "outputs": [
    {
     "data": {
      "text/html": [
       "<div>\n",
       "<style scoped>\n",
       "    .dataframe tbody tr th:only-of-type {\n",
       "        vertical-align: middle;\n",
       "    }\n",
       "\n",
       "    .dataframe tbody tr th {\n",
       "        vertical-align: top;\n",
       "    }\n",
       "\n",
       "    .dataframe thead th {\n",
       "        text-align: right;\n",
       "    }\n",
       "</style>\n",
       "<table border=\"1\" class=\"dataframe\">\n",
       "  <thead>\n",
       "    <tr style=\"text-align: right;\">\n",
       "      <th></th>\n",
       "      <th>START_DATE</th>\n",
       "      <th>END_DATE</th>\n",
       "      <th>CATEGORY</th>\n",
       "      <th>START</th>\n",
       "      <th>STOP</th>\n",
       "      <th>MILES</th>\n",
       "      <th>PURPOSE</th>\n",
       "    </tr>\n",
       "  </thead>\n",
       "  <tbody>\n",
       "    <tr>\n",
       "      <th>0</th>\n",
       "      <td>01-01-2016 21:11</td>\n",
       "      <td>01-01-2016 21:17</td>\n",
       "      <td>Business</td>\n",
       "      <td>Fort Pierce</td>\n",
       "      <td>Fort Pierce</td>\n",
       "      <td>5.1</td>\n",
       "      <td>Meal/Entertain</td>\n",
       "    </tr>\n",
       "    <tr>\n",
       "      <th>1</th>\n",
       "      <td>01-02-2016 01:25</td>\n",
       "      <td>01-02-2016 01:37</td>\n",
       "      <td>Business</td>\n",
       "      <td>Fort Pierce</td>\n",
       "      <td>Fort Pierce</td>\n",
       "      <td>5.0</td>\n",
       "      <td>NaN</td>\n",
       "    </tr>\n",
       "    <tr>\n",
       "      <th>2</th>\n",
       "      <td>01-02-2016 20:25</td>\n",
       "      <td>01-02-2016 20:38</td>\n",
       "      <td>Business</td>\n",
       "      <td>Fort Pierce</td>\n",
       "      <td>Fort Pierce</td>\n",
       "      <td>4.8</td>\n",
       "      <td>Errand/Supplies</td>\n",
       "    </tr>\n",
       "    <tr>\n",
       "      <th>3</th>\n",
       "      <td>01-05-2016 17:31</td>\n",
       "      <td>01-05-2016 17:45</td>\n",
       "      <td>Business</td>\n",
       "      <td>Fort Pierce</td>\n",
       "      <td>Fort Pierce</td>\n",
       "      <td>4.7</td>\n",
       "      <td>Meeting</td>\n",
       "    </tr>\n",
       "    <tr>\n",
       "      <th>4</th>\n",
       "      <td>01-06-2016 14:42</td>\n",
       "      <td>01-06-2016 15:49</td>\n",
       "      <td>Business</td>\n",
       "      <td>Fort Pierce</td>\n",
       "      <td>West Palm Beach</td>\n",
       "      <td>63.7</td>\n",
       "      <td>Customer Visit</td>\n",
       "    </tr>\n",
       "    <tr>\n",
       "      <th>...</th>\n",
       "      <td>...</td>\n",
       "      <td>...</td>\n",
       "      <td>...</td>\n",
       "      <td>...</td>\n",
       "      <td>...</td>\n",
       "      <td>...</td>\n",
       "      <td>...</td>\n",
       "    </tr>\n",
       "    <tr>\n",
       "      <th>1150</th>\n",
       "      <td>12-31-2016 1:07</td>\n",
       "      <td>12-31-2016 1:14</td>\n",
       "      <td>Business</td>\n",
       "      <td>Kar?chi</td>\n",
       "      <td>Kar?chi</td>\n",
       "      <td>0.7</td>\n",
       "      <td>Meeting</td>\n",
       "    </tr>\n",
       "    <tr>\n",
       "      <th>1151</th>\n",
       "      <td>12-31-2016 13:24</td>\n",
       "      <td>12-31-2016 13:42</td>\n",
       "      <td>Business</td>\n",
       "      <td>Kar?chi</td>\n",
       "      <td>Unknown Location</td>\n",
       "      <td>3.9</td>\n",
       "      <td>Temporary Site</td>\n",
       "    </tr>\n",
       "    <tr>\n",
       "      <th>1152</th>\n",
       "      <td>12-31-2016 15:03</td>\n",
       "      <td>12-31-2016 15:38</td>\n",
       "      <td>Business</td>\n",
       "      <td>Unknown Location</td>\n",
       "      <td>Unknown Location</td>\n",
       "      <td>16.2</td>\n",
       "      <td>Meeting</td>\n",
       "    </tr>\n",
       "    <tr>\n",
       "      <th>1153</th>\n",
       "      <td>12-31-2016 21:32</td>\n",
       "      <td>12-31-2016 21:50</td>\n",
       "      <td>Business</td>\n",
       "      <td>Katunayake</td>\n",
       "      <td>Gampaha</td>\n",
       "      <td>6.4</td>\n",
       "      <td>Temporary Site</td>\n",
       "    </tr>\n",
       "    <tr>\n",
       "      <th>1154</th>\n",
       "      <td>12-31-2016 22:08</td>\n",
       "      <td>12-31-2016 23:51</td>\n",
       "      <td>Business</td>\n",
       "      <td>Gampaha</td>\n",
       "      <td>Ilukwatta</td>\n",
       "      <td>48.2</td>\n",
       "      <td>Temporary Site</td>\n",
       "    </tr>\n",
       "  </tbody>\n",
       "</table>\n",
       "<p>1155 rows × 7 columns</p>\n",
       "</div>"
      ],
      "text/plain": [
       "            START_DATE          END_DATE  CATEGORY             START  \\\n",
       "0     01-01-2016 21:11  01-01-2016 21:17  Business       Fort Pierce   \n",
       "1     01-02-2016 01:25  01-02-2016 01:37  Business       Fort Pierce   \n",
       "2     01-02-2016 20:25  01-02-2016 20:38  Business       Fort Pierce   \n",
       "3     01-05-2016 17:31  01-05-2016 17:45  Business       Fort Pierce   \n",
       "4     01-06-2016 14:42  01-06-2016 15:49  Business       Fort Pierce   \n",
       "...                ...               ...       ...               ...   \n",
       "1150   12-31-2016 1:07   12-31-2016 1:14  Business           Kar?chi   \n",
       "1151  12-31-2016 13:24  12-31-2016 13:42  Business           Kar?chi   \n",
       "1152  12-31-2016 15:03  12-31-2016 15:38  Business  Unknown Location   \n",
       "1153  12-31-2016 21:32  12-31-2016 21:50  Business        Katunayake   \n",
       "1154  12-31-2016 22:08  12-31-2016 23:51  Business           Gampaha   \n",
       "\n",
       "                  STOP  MILES          PURPOSE  \n",
       "0          Fort Pierce    5.1   Meal/Entertain  \n",
       "1          Fort Pierce    5.0              NaN  \n",
       "2          Fort Pierce    4.8  Errand/Supplies  \n",
       "3          Fort Pierce    4.7          Meeting  \n",
       "4      West Palm Beach   63.7   Customer Visit  \n",
       "...                ...    ...              ...  \n",
       "1150           Kar?chi    0.7          Meeting  \n",
       "1151  Unknown Location    3.9   Temporary Site  \n",
       "1152  Unknown Location   16.2          Meeting  \n",
       "1153           Gampaha    6.4   Temporary Site  \n",
       "1154         Ilukwatta   48.2   Temporary Site  \n",
       "\n",
       "[1155 rows x 7 columns]"
      ]
     },
     "execution_count": 8,
     "metadata": {},
     "output_type": "execute_result"
    }
   ],
   "source": [
    "df"
   ]
  },
  {
   "cell_type": "code",
   "execution_count": 9,
   "id": "4b3e4fff",
   "metadata": {
    "execution": {
     "iopub.execute_input": "2023-07-13T13:37:31.343441Z",
     "iopub.status.busy": "2023-07-13T13:37:31.343133Z",
     "iopub.status.idle": "2023-07-13T13:37:31.363685Z",
     "shell.execute_reply": "2023-07-13T13:37:31.362999Z"
    },
    "papermill": {
     "duration": 0.033267,
     "end_time": "2023-07-13T13:37:31.365397",
     "exception": false,
     "start_time": "2023-07-13T13:37:31.332130",
     "status": "completed"
    },
    "tags": []
   },
   "outputs": [],
   "source": [
    "# Converting 'START_DATE' and 'END_DATE' to datetime\n",
    "df['START_DATE'] = pd.to_datetime(df['START_DATE'],format = '%m-%d-%Y %H:%M')\n",
    "df['END_DATE'] = pd.to_datetime(df['END_DATE'],format = '%m-%d-%Y %H:%M')"
   ]
  },
  {
   "cell_type": "markdown",
   "id": "2792a6eb",
   "metadata": {
    "papermill": {
     "duration": 0.009681,
     "end_time": "2023-07-13T13:37:31.385140",
     "exception": false,
     "start_time": "2023-07-13T13:37:31.375459",
     "status": "completed"
    },
    "tags": []
   },
   "source": [
    "## Data Formatting :missing values"
   ]
  },
  {
   "cell_type": "code",
   "execution_count": 10,
   "id": "47cff08f",
   "metadata": {
    "execution": {
     "iopub.execute_input": "2023-07-13T13:37:31.407298Z",
     "iopub.status.busy": "2023-07-13T13:37:31.406938Z",
     "iopub.status.idle": "2023-07-13T13:37:31.417182Z",
     "shell.execute_reply": "2023-07-13T13:37:31.416214Z"
    },
    "papermill": {
     "duration": 0.023671,
     "end_time": "2023-07-13T13:37:31.419184",
     "exception": false,
     "start_time": "2023-07-13T13:37:31.395513",
     "status": "completed"
    },
    "tags": []
   },
   "outputs": [
    {
     "data": {
      "text/plain": [
       "START_DATE      0\n",
       "END_DATE        0\n",
       "CATEGORY        0\n",
       "START           0\n",
       "STOP            0\n",
       "MILES           0\n",
       "PURPOSE       502\n",
       "dtype: int64"
      ]
     },
     "execution_count": 10,
     "metadata": {},
     "output_type": "execute_result"
    }
   ],
   "source": [
    "# Checking for missing values\n",
    "df.isna().sum()"
   ]
  },
  {
   "cell_type": "markdown",
   "id": "eda65e17",
   "metadata": {
    "papermill": {
     "duration": 0.010336,
     "end_time": "2023-07-13T13:37:31.440061",
     "exception": false,
     "start_time": "2023-07-13T13:37:31.429725",
     "status": "completed"
    },
    "tags": []
   },
   "source": [
    "## Analyzing Data"
   ]
  },
  {
   "cell_type": "markdown",
   "id": "236e6559",
   "metadata": {
    "papermill": {
     "duration": 0.009604,
     "end_time": "2023-07-13T13:37:31.459910",
     "exception": false,
     "start_time": "2023-07-13T13:37:31.450306",
     "status": "completed"
    },
    "tags": []
   },
   "source": [
    "**Checking For Time Range**"
   ]
  },
  {
   "cell_type": "code",
   "execution_count": 11,
   "id": "4584213c",
   "metadata": {
    "execution": {
     "iopub.execute_input": "2023-07-13T13:37:31.481080Z",
     "iopub.status.busy": "2023-07-13T13:37:31.480723Z",
     "iopub.status.idle": "2023-07-13T13:37:31.486778Z",
     "shell.execute_reply": "2023-07-13T13:37:31.485636Z"
    },
    "papermill": {
     "duration": 0.019078,
     "end_time": "2023-07-13T13:37:31.488827",
     "exception": false,
     "start_time": "2023-07-13T13:37:31.469749",
     "status": "completed"
    },
    "tags": []
   },
   "outputs": [
    {
     "name": "stdout",
     "output_type": "stream",
     "text": [
      "Start Time range is from  2016-01-01 21:11:00  to  2016-12-31 22:08:00\n"
     ]
    }
   ],
   "source": [
    "min_time_start = df['START_DATE'].min()\n",
    "max_time_start = df['START_DATE'].max()\n",
    "print(\"Start Time range is from \",min_time_start,\" to \",max_time_start)"
   ]
  },
  {
   "cell_type": "code",
   "execution_count": 12,
   "id": "15601a53",
   "metadata": {
    "execution": {
     "iopub.execute_input": "2023-07-13T13:37:31.510041Z",
     "iopub.status.busy": "2023-07-13T13:37:31.509746Z",
     "iopub.status.idle": "2023-07-13T13:37:31.515162Z",
     "shell.execute_reply": "2023-07-13T13:37:31.514078Z"
    },
    "papermill": {
     "duration": 0.01862,
     "end_time": "2023-07-13T13:37:31.517364",
     "exception": false,
     "start_time": "2023-07-13T13:37:31.498744",
     "status": "completed"
    },
    "tags": []
   },
   "outputs": [
    {
     "name": "stdout",
     "output_type": "stream",
     "text": [
      "End Time range is from  2016-01-01 21:17:00  to  2016-12-31 23:51:00\n"
     ]
    }
   ],
   "source": [
    "min_time_end = df['END_DATE'].min()\n",
    "max_time_end = df['END_DATE'].max()\n",
    "print(\"End Time range is from \",min_time_end,\" to \",max_time_end)"
   ]
  },
  {
   "cell_type": "markdown",
   "id": "7353c38c",
   "metadata": {
    "papermill": {
     "duration": 0.009677,
     "end_time": "2023-07-13T13:37:31.537263",
     "exception": false,
     "start_time": "2023-07-13T13:37:31.527586",
     "status": "completed"
    },
    "tags": []
   },
   "source": [
    "<h4> Question 1: Average speed of Each Category </h4>"
   ]
  },
  {
   "cell_type": "code",
   "execution_count": 13,
   "id": "0217018a",
   "metadata": {
    "execution": {
     "iopub.execute_input": "2023-07-13T13:37:31.558306Z",
     "iopub.status.busy": "2023-07-13T13:37:31.558005Z",
     "iopub.status.idle": "2023-07-13T13:37:31.568627Z",
     "shell.execute_reply": "2023-07-13T13:37:31.567604Z"
    },
    "papermill": {
     "duration": 0.023446,
     "end_time": "2023-07-13T13:37:31.570571",
     "exception": false,
     "start_time": "2023-07-13T13:37:31.547125",
     "status": "completed"
    },
    "tags": []
   },
   "outputs": [
    {
     "data": {
      "text/plain": [
       "0      0 days 00:06:00\n",
       "1      0 days 00:12:00\n",
       "2      0 days 00:13:00\n",
       "3      0 days 00:14:00\n",
       "4      0 days 01:07:00\n",
       "             ...      \n",
       "1150   0 days 00:07:00\n",
       "1151   0 days 00:18:00\n",
       "1152   0 days 00:35:00\n",
       "1153   0 days 00:18:00\n",
       "1154   0 days 01:43:00\n",
       "Name: time_ride, Length: 1155, dtype: timedelta64[ns]"
      ]
     },
     "execution_count": 13,
     "metadata": {},
     "output_type": "execute_result"
    }
   ],
   "source": [
    "# Calculating time taken for each ride\n",
    "df['time_ride'] = df['END_DATE'] - df['START_DATE']\n",
    "df['time_ride']"
   ]
  },
  {
   "cell_type": "code",
   "execution_count": 14,
   "id": "6982de42",
   "metadata": {
    "execution": {
     "iopub.execute_input": "2023-07-13T13:37:31.591759Z",
     "iopub.status.busy": "2023-07-13T13:37:31.591468Z",
     "iopub.status.idle": "2023-07-13T13:37:31.627827Z",
     "shell.execute_reply": "2023-07-13T13:37:31.627012Z"
    },
    "papermill": {
     "duration": 0.049324,
     "end_time": "2023-07-13T13:37:31.629782",
     "exception": false,
     "start_time": "2023-07-13T13:37:31.580458",
     "status": "completed"
    },
    "tags": []
   },
   "outputs": [
    {
     "data": {
      "text/plain": [
       "0       0.101667\n",
       "1       0.203333\n",
       "2       0.220278\n",
       "3       0.237222\n",
       "4       1.118611\n",
       "          ...   \n",
       "1150    0.118611\n",
       "1151    0.305000\n",
       "1152    0.593056\n",
       "1153    0.305000\n",
       "1154    1.728611\n",
       "Name: hours_ride, Length: 1155, dtype: float64"
      ]
     },
     "execution_count": 14,
     "metadata": {},
     "output_type": "execute_result"
    }
   ],
   "source": [
    "# hours taken for each ride\n",
    "df['hours_ride'] = df['time_ride'].dt.components['hours'] + df['time_ride'].dt.components['minutes']/60 + df['time_ride'].dt.components['minutes']/3600\n",
    "df['hours_ride'] "
   ]
  },
  {
   "cell_type": "code",
   "execution_count": 15,
   "id": "ce7854e0",
   "metadata": {
    "execution": {
     "iopub.execute_input": "2023-07-13T13:37:31.651867Z",
     "iopub.status.busy": "2023-07-13T13:37:31.651576Z",
     "iopub.status.idle": "2023-07-13T13:37:31.660508Z",
     "shell.execute_reply": "2023-07-13T13:37:31.659551Z"
    },
    "papermill": {
     "duration": 0.022437,
     "end_time": "2023-07-13T13:37:31.662669",
     "exception": false,
     "start_time": "2023-07-13T13:37:31.640232",
     "status": "completed"
    },
    "tags": []
   },
   "outputs": [
    {
     "data": {
      "text/plain": [
       "0         8.16\n",
       "1         8.00\n",
       "2         7.68\n",
       "3         7.52\n",
       "4       101.92\n",
       "         ...  \n",
       "1150      1.12\n",
       "1151      6.24\n",
       "1152     25.92\n",
       "1153     10.24\n",
       "1154     77.12\n",
       "Name: Kms, Length: 1155, dtype: float64"
      ]
     },
     "execution_count": 15,
     "metadata": {},
     "output_type": "execute_result"
    }
   ],
   "source": [
    "# Converting distance covered in each ride in Kms\n",
    "distance_in_km = df['MILES']*1.6\n",
    "df['Kms'] = distance_in_km\n",
    "df['Kms']"
   ]
  },
  {
   "cell_type": "code",
   "execution_count": 16,
   "id": "c326ec70",
   "metadata": {
    "execution": {
     "iopub.execute_input": "2023-07-13T13:37:31.684373Z",
     "iopub.status.busy": "2023-07-13T13:37:31.684105Z",
     "iopub.status.idle": "2023-07-13T13:37:31.689239Z",
     "shell.execute_reply": "2023-07-13T13:37:31.688440Z"
    },
    "papermill": {
     "duration": 0.017814,
     "end_time": "2023-07-13T13:37:31.691076",
     "exception": false,
     "start_time": "2023-07-13T13:37:31.673262",
     "status": "completed"
    },
    "tags": []
   },
   "outputs": [],
   "source": [
    "# Average speed in Km/hour\n",
    "df['avg_speed(Km/hour)'] = df['Kms']/df['hours_ride']"
   ]
  },
  {
   "cell_type": "code",
   "execution_count": 17,
   "id": "b2126716",
   "metadata": {
    "execution": {
     "iopub.execute_input": "2023-07-13T13:37:31.713436Z",
     "iopub.status.busy": "2023-07-13T13:37:31.713124Z",
     "iopub.status.idle": "2023-07-13T13:37:31.731556Z",
     "shell.execute_reply": "2023-07-13T13:37:31.730559Z"
    },
    "papermill": {
     "duration": 0.032138,
     "end_time": "2023-07-13T13:37:31.733553",
     "exception": false,
     "start_time": "2023-07-13T13:37:31.701415",
     "status": "completed"
    },
    "tags": []
   },
   "outputs": [],
   "source": [
    "#Removing infinte values from column 'avg_speed(Km/hour)' because for some rides time taken is zero\n",
    "row_index = 0\n",
    "for i in df['avg_speed(Km/hour)']:\n",
    "    if np.isfinite(i) == False:\n",
    "        df.drop(row_index,inplace = True)\n",
    "    row_index = row_index+1"
   ]
  },
  {
   "cell_type": "code",
   "execution_count": 18,
   "id": "4a87246a",
   "metadata": {
    "execution": {
     "iopub.execute_input": "2023-07-13T13:37:31.756013Z",
     "iopub.status.busy": "2023-07-13T13:37:31.755678Z",
     "iopub.status.idle": "2023-07-13T13:37:32.164302Z",
     "shell.execute_reply": "2023-07-13T13:37:32.163295Z"
    },
    "papermill": {
     "duration": 0.422406,
     "end_time": "2023-07-13T13:37:32.166631",
     "exception": false,
     "start_time": "2023-07-13T13:37:31.744225",
     "status": "completed"
    },
    "tags": []
   },
   "outputs": [
    {
     "name": "stderr",
     "output_type": "stream",
     "text": [
      "/opt/conda/lib/python3.10/site-packages/seaborn/axisgrid.py:118: UserWarning: The figure layout has changed to tight\n",
      "  self._figure.tight_layout(*args, **kwargs)\n"
     ]
    },
    {
     "data": {
      "image/png": "[encoded data removed]",
      "text/plain": [
       "<Figure size 500x500 with 1 Axes>"
      ]
     },
     "metadata": {},
     "output_type": "display_data"
    }
   ],
   "source": [
    "# Average speed in Km/hour for each category\n",
    "sns.catplot(x = 'CATEGORY', y = 'avg_speed(Km/hour)', data = df, kind ='bar')\n",
    "plt.show()"
   ]
  },
  {
   "cell_type": "markdown",
   "id": "d698dd0a",
   "metadata": {
    "papermill": {
     "duration": 0.010902,
     "end_time": "2023-07-13T13:37:32.188618",
     "exception": false,
     "start_time": "2023-07-13T13:37:32.177716",
     "status": "completed"
    },
    "tags": []
   },
   "source": [
    "<h3> Observation 1</h3>\n",
    "<h4> Average speed of Business category is more than 40 Kmph and that of Personal category is approx 30 Kmph. </h4>"
   ]
  },
  {
   "cell_type": "markdown",
   "id": "99a4083b",
   "metadata": {
    "papermill": {
     "duration": 0.01077,
     "end_time": "2023-07-13T13:37:32.210187",
     "exception": false,
     "start_time": "2023-07-13T13:37:32.199417",
     "status": "completed"
    },
    "tags": []
   },
   "source": [
    "<h4> Question 2 : Finding Top destination and departures. </h4>"
   ]
  },
  {
   "cell_type": "code",
   "execution_count": 19,
   "id": "32b59b76",
   "metadata": {
    "execution": {
     "iopub.execute_input": "2023-07-13T13:37:32.233711Z",
     "iopub.status.busy": "2023-07-13T13:37:32.233368Z",
     "iopub.status.idle": "2023-07-13T13:37:32.249001Z",
     "shell.execute_reply": "2023-07-13T13:37:32.248357Z"
    },
    "papermill": {
     "duration": 0.029611,
     "end_time": "2023-07-13T13:37:32.250705",
     "exception": false,
     "start_time": "2023-07-13T13:37:32.221094",
     "status": "completed"
    },
    "tags": []
   },
   "outputs": [
    {
     "data": {
      "text/html": [
       "<div>\n",
       "<style scoped>\n",
       "    .dataframe tbody tr th:only-of-type {\n",
       "        vertical-align: middle;\n",
       "    }\n",
       "\n",
       "    .dataframe tbody tr th {\n",
       "        vertical-align: top;\n",
       "    }\n",
       "\n",
       "    .dataframe thead th {\n",
       "        text-align: right;\n",
       "    }\n",
       "</style>\n",
       "<table border=\"1\" class=\"dataframe\">\n",
       "  <thead>\n",
       "    <tr style=\"text-align: right;\">\n",
       "      <th></th>\n",
       "      <th>Departure - Destination</th>\n",
       "      <th>No of rides</th>\n",
       "    </tr>\n",
       "  </thead>\n",
       "  <tbody>\n",
       "    <tr>\n",
       "      <th>0</th>\n",
       "      <td>Unknown Location - Unknown Location</td>\n",
       "      <td>84</td>\n",
       "    </tr>\n",
       "    <tr>\n",
       "      <th>1</th>\n",
       "      <td>Morrisville - Cary</td>\n",
       "      <td>75</td>\n",
       "    </tr>\n",
       "    <tr>\n",
       "      <th>2</th>\n",
       "      <td>Cary - Morrisville</td>\n",
       "      <td>67</td>\n",
       "    </tr>\n",
       "    <tr>\n",
       "      <th>3</th>\n",
       "      <td>Cary - Cary</td>\n",
       "      <td>53</td>\n",
       "    </tr>\n",
       "    <tr>\n",
       "      <th>4</th>\n",
       "      <td>Cary - Durham</td>\n",
       "      <td>36</td>\n",
       "    </tr>\n",
       "    <tr>\n",
       "      <th>5</th>\n",
       "      <td>Durham - Cary</td>\n",
       "      <td>32</td>\n",
       "    </tr>\n",
       "    <tr>\n",
       "      <th>6</th>\n",
       "      <td>Islamabad - Unknown Location</td>\n",
       "      <td>28</td>\n",
       "    </tr>\n",
       "    <tr>\n",
       "      <th>7</th>\n",
       "      <td>Unknown Location - Islamabad</td>\n",
       "      <td>28</td>\n",
       "    </tr>\n",
       "    <tr>\n",
       "      <th>8</th>\n",
       "      <td>Lahore - Lahore</td>\n",
       "      <td>27</td>\n",
       "    </tr>\n",
       "    <tr>\n",
       "      <th>9</th>\n",
       "      <td>Islamabad - Islamabad</td>\n",
       "      <td>24</td>\n",
       "    </tr>\n",
       "    <tr>\n",
       "      <th>10</th>\n",
       "      <td>Cary - Raleigh</td>\n",
       "      <td>23</td>\n",
       "    </tr>\n",
       "    <tr>\n",
       "      <th>11</th>\n",
       "      <td>Raleigh - Cary</td>\n",
       "      <td>21</td>\n",
       "    </tr>\n",
       "    <tr>\n",
       "      <th>12</th>\n",
       "      <td>Kar?chi - Kar?chi</td>\n",
       "      <td>20</td>\n",
       "    </tr>\n",
       "  </tbody>\n",
       "</table>\n",
       "</div>"
      ],
      "text/plain": [
       "                Departure - Destination  No of rides\n",
       "0   Unknown Location - Unknown Location           84\n",
       "1                    Morrisville - Cary           75\n",
       "2                    Cary - Morrisville           67\n",
       "3                           Cary - Cary           53\n",
       "4                         Cary - Durham           36\n",
       "5                         Durham - Cary           32\n",
       "6          Islamabad - Unknown Location           28\n",
       "7          Unknown Location - Islamabad           28\n",
       "8                       Lahore - Lahore           27\n",
       "9                 Islamabad - Islamabad           24\n",
       "10                       Cary - Raleigh           23\n",
       "11                       Raleigh - Cary           21\n",
       "12                    Kar?chi - Kar?chi           20"
      ]
     },
     "execution_count": 19,
     "metadata": {},
     "output_type": "execute_result"
    }
   ],
   "source": [
    "# Analyzing Departure - Destination for rides\n",
    "departure_destination = df['START'] +\" - \" + df ['STOP']\n",
    "departure_destination_df = pd.DataFrame(departure_destination.value_counts())\n",
    "departure_destination_df.reset_index(inplace = True)\n",
    "departure_destination_df.rename(columns = {'index':'Departure - Destination',0:'No of rides'},inplace = True)\n",
    "\n",
    "# listing top departure - destination pair\n",
    "departure_destination_df_top = departure_destination_df.sort_values('No of rides',ascending = False).head(13)\n",
    "departure_destination_df_top"
   ]
  },
  {
   "cell_type": "code",
   "execution_count": 20,
   "id": "2cab271f",
   "metadata": {
    "execution": {
     "iopub.execute_input": "2023-07-13T13:37:32.274462Z",
     "iopub.status.busy": "2023-07-13T13:37:32.274115Z",
     "iopub.status.idle": "2023-07-13T13:37:32.795845Z",
     "shell.execute_reply": "2023-07-13T13:37:32.794643Z"
    },
    "papermill": {
     "duration": 0.537111,
     "end_time": "2023-07-13T13:37:32.798657",
     "exception": false,
     "start_time": "2023-07-13T13:37:32.261546",
     "status": "completed"
    },
    "tags": []
   },
   "outputs": [
    {
     "name": "stderr",
     "output_type": "stream",
     "text": [
      "/opt/conda/lib/python3.10/site-packages/seaborn/axisgrid.py:118: UserWarning: The figure layout has changed to tight\n",
      "  self._figure.tight_layout(*args, **kwargs)\n"
     ]
    },
    {
     "data": {
      "image/png": "[encoded data removed]",
      "text/plain": [
       "<Figure size 1500x500 with 1 Axes>"
      ]
     },
     "metadata": {},
     "output_type": "display_data"
    }
   ],
   "source": [
    "sns.catplot(x = 'Departure - Destination',y ='No of rides',data = departure_destination_df_top,kind='bar',height = 5 , aspect =3)\n",
    "plt.xticks(rotation = 90)\n",
    "plt.show()"
   ]
  },
  {
   "cell_type": "markdown",
   "id": "8e8b3658",
   "metadata": {
    "papermill": {
     "duration": 0.011701,
     "end_time": "2023-07-13T13:37:32.822935",
     "exception": false,
     "start_time": "2023-07-13T13:37:32.811234",
     "status": "completed"
    },
    "tags": []
   },
   "source": [
    "<h3> Observation 2 </h3>\n",
    "<h4> Morrisvile and Cary are Top destinations and departures.</h4>"
   ]
  },
  {
   "cell_type": "markdown",
   "id": "30182c8f",
   "metadata": {
    "papermill": {
     "duration": 0.012819,
     "end_time": "2023-07-13T13:37:32.848453",
     "exception": false,
     "start_time": "2023-07-13T13:37:32.835634",
     "status": "completed"
    },
    "tags": []
   },
   "source": [
    "<h4>Question 3 : Finding top purpose with top destinations.</h4>"
   ]
  },
  {
   "cell_type": "code",
   "execution_count": 21,
   "id": "1a9dfaf2",
   "metadata": {
    "execution": {
     "iopub.execute_input": "2023-07-13T13:37:32.877047Z",
     "iopub.status.busy": "2023-07-13T13:37:32.876629Z",
     "iopub.status.idle": "2023-07-13T13:37:32.886056Z",
     "shell.execute_reply": "2023-07-13T13:37:32.885156Z"
    },
    "papermill": {
     "duration": 0.026929,
     "end_time": "2023-07-13T13:37:32.888541",
     "exception": false,
     "start_time": "2023-07-13T13:37:32.861612",
     "status": "completed"
    },
    "tags": []
   },
   "outputs": [],
   "source": [
    "# Creating new dataframe which contains no NaN\n",
    "df_non_na = df.copy()\n",
    "df_non_na.dropna(inplace = True)\n",
    "df_non_na.reset_index(inplace = True,drop = True)"
   ]
  },
  {
   "cell_type": "code",
   "execution_count": 22,
   "id": "cdd4a1bf",
   "metadata": {
    "execution": {
     "iopub.execute_input": "2023-07-13T13:37:32.917622Z",
     "iopub.status.busy": "2023-07-13T13:37:32.917222Z",
     "iopub.status.idle": "2023-07-13T13:37:32.942743Z",
     "shell.execute_reply": "2023-07-13T13:37:32.941836Z"
    },
    "papermill": {
     "duration": 0.042457,
     "end_time": "2023-07-13T13:37:32.944725",
     "exception": false,
     "start_time": "2023-07-13T13:37:32.902268",
     "status": "completed"
    },
    "tags": []
   },
   "outputs": [
    {
     "data": {
      "text/html": [
       "<div>\n",
       "<style scoped>\n",
       "    .dataframe tbody tr th:only-of-type {\n",
       "        vertical-align: middle;\n",
       "    }\n",
       "\n",
       "    .dataframe tbody tr th {\n",
       "        vertical-align: top;\n",
       "    }\n",
       "\n",
       "    .dataframe thead th {\n",
       "        text-align: right;\n",
       "    }\n",
       "</style>\n",
       "<table border=\"1\" class=\"dataframe\">\n",
       "  <thead>\n",
       "    <tr style=\"text-align: right;\">\n",
       "      <th></th>\n",
       "      <th>START_DATE</th>\n",
       "      <th>END_DATE</th>\n",
       "      <th>CATEGORY</th>\n",
       "      <th>START</th>\n",
       "      <th>STOP</th>\n",
       "      <th>MILES</th>\n",
       "      <th>PURPOSE</th>\n",
       "      <th>time_ride</th>\n",
       "      <th>hours_ride</th>\n",
       "      <th>Kms</th>\n",
       "      <th>avg_speed(Km/hour)</th>\n",
       "    </tr>\n",
       "  </thead>\n",
       "  <tbody>\n",
       "    <tr>\n",
       "      <th>0</th>\n",
       "      <td>2016-01-01 21:11:00</td>\n",
       "      <td>2016-01-01 21:17:00</td>\n",
       "      <td>Business</td>\n",
       "      <td>Fort Pierce</td>\n",
       "      <td>Fort Pierce</td>\n",
       "      <td>5.1</td>\n",
       "      <td>Meal/Entertain</td>\n",
       "      <td>0 days 00:06:00</td>\n",
       "      <td>0.101667</td>\n",
       "      <td>8.16</td>\n",
       "      <td>80.262295</td>\n",
       "    </tr>\n",
       "    <tr>\n",
       "      <th>1</th>\n",
       "      <td>2016-01-02 20:25:00</td>\n",
       "      <td>2016-01-02 20:38:00</td>\n",
       "      <td>Business</td>\n",
       "      <td>Fort Pierce</td>\n",
       "      <td>Fort Pierce</td>\n",
       "      <td>4.8</td>\n",
       "      <td>Errand/Supplies</td>\n",
       "      <td>0 days 00:13:00</td>\n",
       "      <td>0.220278</td>\n",
       "      <td>7.68</td>\n",
       "      <td>34.865069</td>\n",
       "    </tr>\n",
       "    <tr>\n",
       "      <th>2</th>\n",
       "      <td>2016-01-05 17:31:00</td>\n",
       "      <td>2016-01-05 17:45:00</td>\n",
       "      <td>Business</td>\n",
       "      <td>Fort Pierce</td>\n",
       "      <td>Fort Pierce</td>\n",
       "      <td>4.7</td>\n",
       "      <td>Meeting</td>\n",
       "      <td>0 days 00:14:00</td>\n",
       "      <td>0.237222</td>\n",
       "      <td>7.52</td>\n",
       "      <td>31.700234</td>\n",
       "    </tr>\n",
       "    <tr>\n",
       "      <th>3</th>\n",
       "      <td>2016-01-06 14:42:00</td>\n",
       "      <td>2016-01-06 15:49:00</td>\n",
       "      <td>Business</td>\n",
       "      <td>Fort Pierce</td>\n",
       "      <td>West Palm Beach</td>\n",
       "      <td>63.7</td>\n",
       "      <td>Customer Visit</td>\n",
       "      <td>0 days 01:07:00</td>\n",
       "      <td>1.118611</td>\n",
       "      <td>101.92</td>\n",
       "      <td>91.112987</td>\n",
       "    </tr>\n",
       "    <tr>\n",
       "      <th>4</th>\n",
       "      <td>2016-01-06 17:15:00</td>\n",
       "      <td>2016-01-06 17:19:00</td>\n",
       "      <td>Business</td>\n",
       "      <td>West Palm Beach</td>\n",
       "      <td>West Palm Beach</td>\n",
       "      <td>4.3</td>\n",
       "      <td>Meal/Entertain</td>\n",
       "      <td>0 days 00:04:00</td>\n",
       "      <td>0.067778</td>\n",
       "      <td>6.88</td>\n",
       "      <td>101.508197</td>\n",
       "    </tr>\n",
       "    <tr>\n",
       "      <th>...</th>\n",
       "      <td>...</td>\n",
       "      <td>...</td>\n",
       "      <td>...</td>\n",
       "      <td>...</td>\n",
       "      <td>...</td>\n",
       "      <td>...</td>\n",
       "      <td>...</td>\n",
       "      <td>...</td>\n",
       "      <td>...</td>\n",
       "      <td>...</td>\n",
       "      <td>...</td>\n",
       "    </tr>\n",
       "    <tr>\n",
       "      <th>648</th>\n",
       "      <td>2016-12-31 01:07:00</td>\n",
       "      <td>2016-12-31 01:14:00</td>\n",
       "      <td>Business</td>\n",
       "      <td>Kar?chi</td>\n",
       "      <td>Kar?chi</td>\n",
       "      <td>0.7</td>\n",
       "      <td>Meeting</td>\n",
       "      <td>0 days 00:07:00</td>\n",
       "      <td>0.118611</td>\n",
       "      <td>1.12</td>\n",
       "      <td>9.442623</td>\n",
       "    </tr>\n",
       "    <tr>\n",
       "      <th>649</th>\n",
       "      <td>2016-12-31 13:24:00</td>\n",
       "      <td>2016-12-31 13:42:00</td>\n",
       "      <td>Business</td>\n",
       "      <td>Kar?chi</td>\n",
       "      <td>Unknown Location</td>\n",
       "      <td>3.9</td>\n",
       "      <td>Temporary Site</td>\n",
       "      <td>0 days 00:18:00</td>\n",
       "      <td>0.305000</td>\n",
       "      <td>6.24</td>\n",
       "      <td>20.459016</td>\n",
       "    </tr>\n",
       "    <tr>\n",
       "      <th>650</th>\n",
       "      <td>2016-12-31 15:03:00</td>\n",
       "      <td>2016-12-31 15:38:00</td>\n",
       "      <td>Business</td>\n",
       "      <td>Unknown Location</td>\n",
       "      <td>Unknown Location</td>\n",
       "      <td>16.2</td>\n",
       "      <td>Meeting</td>\n",
       "      <td>0 days 00:35:00</td>\n",
       "      <td>0.593056</td>\n",
       "      <td>25.92</td>\n",
       "      <td>43.705855</td>\n",
       "    </tr>\n",
       "    <tr>\n",
       "      <th>651</th>\n",
       "      <td>2016-12-31 21:32:00</td>\n",
       "      <td>2016-12-31 21:50:00</td>\n",
       "      <td>Business</td>\n",
       "      <td>Katunayake</td>\n",
       "      <td>Gampaha</td>\n",
       "      <td>6.4</td>\n",
       "      <td>Temporary Site</td>\n",
       "      <td>0 days 00:18:00</td>\n",
       "      <td>0.305000</td>\n",
       "      <td>10.24</td>\n",
       "      <td>33.573770</td>\n",
       "    </tr>\n",
       "    <tr>\n",
       "      <th>652</th>\n",
       "      <td>2016-12-31 22:08:00</td>\n",
       "      <td>2016-12-31 23:51:00</td>\n",
       "      <td>Business</td>\n",
       "      <td>Gampaha</td>\n",
       "      <td>Ilukwatta</td>\n",
       "      <td>48.2</td>\n",
       "      <td>Temporary Site</td>\n",
       "      <td>0 days 01:43:00</td>\n",
       "      <td>1.728611</td>\n",
       "      <td>77.12</td>\n",
       "      <td>44.613852</td>\n",
       "    </tr>\n",
       "  </tbody>\n",
       "</table>\n",
       "<p>653 rows × 11 columns</p>\n",
       "</div>"
      ],
      "text/plain": [
       "             START_DATE            END_DATE  CATEGORY             START  \\\n",
       "0   2016-01-01 21:11:00 2016-01-01 21:17:00  Business       Fort Pierce   \n",
       "1   2016-01-02 20:25:00 2016-01-02 20:38:00  Business       Fort Pierce   \n",
       "2   2016-01-05 17:31:00 2016-01-05 17:45:00  Business       Fort Pierce   \n",
       "3   2016-01-06 14:42:00 2016-01-06 15:49:00  Business       Fort Pierce   \n",
       "4   2016-01-06 17:15:00 2016-01-06 17:19:00  Business   West Palm Beach   \n",
       "..                  ...                 ...       ...               ...   \n",
       "648 2016-12-31 01:07:00 2016-12-31 01:14:00  Business           Kar?chi   \n",
       "649 2016-12-31 13:24:00 2016-12-31 13:42:00  Business           Kar?chi   \n",
       "650 2016-12-31 15:03:00 2016-12-31 15:38:00  Business  Unknown Location   \n",
       "651 2016-12-31 21:32:00 2016-12-31 21:50:00  Business        Katunayake   \n",
       "652 2016-12-31 22:08:00 2016-12-31 23:51:00  Business           Gampaha   \n",
       "\n",
       "                 STOP  MILES          PURPOSE       time_ride  hours_ride  \\\n",
       "0         Fort Pierce    5.1   Meal/Entertain 0 days 00:06:00    0.101667   \n",
       "1         Fort Pierce    4.8  Errand/Supplies 0 days 00:13:00    0.220278   \n",
       "2         Fort Pierce    4.7          Meeting 0 days 00:14:00    0.237222   \n",
       "3     West Palm Beach   63.7   Customer Visit 0 days 01:07:00    1.118611   \n",
       "4     West Palm Beach    4.3   Meal/Entertain 0 days 00:04:00    0.067778   \n",
       "..                ...    ...              ...             ...         ...   \n",
       "648           Kar?chi    0.7          Meeting 0 days 00:07:00    0.118611   \n",
       "649  Unknown Location    3.9   Temporary Site 0 days 00:18:00    0.305000   \n",
       "650  Unknown Location   16.2          Meeting 0 days 00:35:00    0.593056   \n",
       "651           Gampaha    6.4   Temporary Site 0 days 00:18:00    0.305000   \n",
       "652         Ilukwatta   48.2   Temporary Site 0 days 01:43:00    1.728611   \n",
       "\n",
       "        Kms  avg_speed(Km/hour)  \n",
       "0      8.16           80.262295  \n",
       "1      7.68           34.865069  \n",
       "2      7.52           31.700234  \n",
       "3    101.92           91.112987  \n",
       "4      6.88          101.508197  \n",
       "..      ...                 ...  \n",
       "648    1.12            9.442623  \n",
       "649    6.24           20.459016  \n",
       "650   25.92           43.705855  \n",
       "651   10.24           33.573770  \n",
       "652   77.12           44.613852  \n",
       "\n",
       "[653 rows x 11 columns]"
      ]
     },
     "execution_count": 22,
     "metadata": {},
     "output_type": "execute_result"
    }
   ],
   "source": [
    "df_non_na"
   ]
  },
  {
   "cell_type": "code",
   "execution_count": 23,
   "id": "d1761c5d",
   "metadata": {
    "execution": {
     "iopub.execute_input": "2023-07-13T13:37:32.972645Z",
     "iopub.status.busy": "2023-07-13T13:37:32.972092Z",
     "iopub.status.idle": "2023-07-13T13:37:32.991385Z",
     "shell.execute_reply": "2023-07-13T13:37:32.990378Z"
    },
    "papermill": {
     "duration": 0.035397,
     "end_time": "2023-07-13T13:37:32.993394",
     "exception": false,
     "start_time": "2023-07-13T13:37:32.957997",
     "status": "completed"
    },
    "tags": []
   },
   "outputs": [
    {
     "data": {
      "text/html": [
       "<div>\n",
       "<style scoped>\n",
       "    .dataframe tbody tr th:only-of-type {\n",
       "        vertical-align: middle;\n",
       "    }\n",
       "\n",
       "    .dataframe tbody tr th {\n",
       "        vertical-align: top;\n",
       "    }\n",
       "\n",
       "    .dataframe thead th {\n",
       "        text-align: right;\n",
       "    }\n",
       "</style>\n",
       "<table border=\"1\" class=\"dataframe\">\n",
       "  <thead>\n",
       "    <tr style=\"text-align: right;\">\n",
       "      <th></th>\n",
       "      <th>STOP</th>\n",
       "      <th>PURPOSE</th>\n",
       "      <th>No of rides</th>\n",
       "    </tr>\n",
       "  </thead>\n",
       "  <tbody>\n",
       "    <tr>\n",
       "      <th>0</th>\n",
       "      <td>Cary</td>\n",
       "      <td>Meeting</td>\n",
       "      <td>52</td>\n",
       "    </tr>\n",
       "    <tr>\n",
       "      <th>1</th>\n",
       "      <td>Cary</td>\n",
       "      <td>Meal/Entertain</td>\n",
       "      <td>36</td>\n",
       "    </tr>\n",
       "    <tr>\n",
       "      <th>2</th>\n",
       "      <td>Cary</td>\n",
       "      <td>Customer Visit</td>\n",
       "      <td>33</td>\n",
       "    </tr>\n",
       "    <tr>\n",
       "      <th>3</th>\n",
       "      <td>Morrisville</td>\n",
       "      <td>Meal/Entertain</td>\n",
       "      <td>28</td>\n",
       "    </tr>\n",
       "    <tr>\n",
       "      <th>4</th>\n",
       "      <td>Durham</td>\n",
       "      <td>Meeting</td>\n",
       "      <td>27</td>\n",
       "    </tr>\n",
       "    <tr>\n",
       "      <th>5</th>\n",
       "      <td>Cary</td>\n",
       "      <td>Errand/Supplies</td>\n",
       "      <td>24</td>\n",
       "    </tr>\n",
       "    <tr>\n",
       "      <th>6</th>\n",
       "      <td>Unknown Location</td>\n",
       "      <td>Meeting</td>\n",
       "      <td>15</td>\n",
       "    </tr>\n",
       "    <tr>\n",
       "      <th>7</th>\n",
       "      <td>Whitebridge</td>\n",
       "      <td>Errand/Supplies</td>\n",
       "      <td>14</td>\n",
       "    </tr>\n",
       "    <tr>\n",
       "      <th>8</th>\n",
       "      <td>Unknown Location</td>\n",
       "      <td>Temporary Site</td>\n",
       "      <td>14</td>\n",
       "    </tr>\n",
       "    <tr>\n",
       "      <th>9</th>\n",
       "      <td>Whitebridge</td>\n",
       "      <td>Meal/Entertain</td>\n",
       "      <td>13</td>\n",
       "    </tr>\n",
       "  </tbody>\n",
       "</table>\n",
       "</div>"
      ],
      "text/plain": [
       "               STOP          PURPOSE  No of rides\n",
       "0              Cary          Meeting           52\n",
       "1              Cary   Meal/Entertain           36\n",
       "2              Cary   Customer Visit           33\n",
       "3       Morrisville   Meal/Entertain           28\n",
       "4            Durham          Meeting           27\n",
       "5              Cary  Errand/Supplies           24\n",
       "6  Unknown Location          Meeting           15\n",
       "7       Whitebridge  Errand/Supplies           14\n",
       "8  Unknown Location   Temporary Site           14\n",
       "9       Whitebridge   Meal/Entertain           13"
      ]
     },
     "execution_count": 23,
     "metadata": {},
     "output_type": "execute_result"
    }
   ],
   "source": [
    "destination_purpose = df_non_na[['STOP','PURPOSE']].value_counts()\n",
    "destination_purpose = pd.DataFrame(destination_purpose)\n",
    "destination_purpose.reset_index(inplace = True)\n",
    "destination_purpose.rename(columns = {0:'No of rides'},inplace = True)\n",
    "destination_purpose_top = destination_purpose.sort_values('No of rides',ascending = False).head(10)\n",
    "destination_purpose_top"
   ]
  },
  {
   "cell_type": "markdown",
   "id": "25cbe916",
   "metadata": {
    "papermill": {
     "duration": 0.01281,
     "end_time": "2023-07-13T13:37:33.019121",
     "exception": false,
     "start_time": "2023-07-13T13:37:33.006311",
     "status": "completed"
    },
    "tags": []
   },
   "source": [
    "<h3> Observation 3<h3>\n",
    "<h4> Top pourpose with top destinations are Meeting, Meal, Entertainment, Customer visit in Cary. </h4>"
   ]
  }
 ],
 "metadata": {
  "kernelspec": {
   "display_name": "Python 3",
   "language": "python",
   "name": "python3"
  },
  "language_info": {
   "codemirror_mode": {
    "name": "ipython",
    "version": 3
   },
   "file_extension": ".py",
   "mimetype": "text/x-python",
   "name": "python",
   "nbconvert_exporter": "python",
   "pygments_lexer": "ipython3",
   "version": "3.10.12"
  },
  "papermill": {
   "default_parameters": {},
   "duration": 14.030895,
   "end_time": "2023-07-13T13:37:33.854024",
   "environment_variables": {},
   "exception": null,
   "input_path": "__notebook__.ipynb",
   "output_path": "__notebook__.ipynb",
   "parameters": {},
   "start_time": "2023-07-13T13:37:19.823129",
   "version": "2.4.0"
  }
 },
 "nbformat": 4,
 "nbformat_minor": 5
}
