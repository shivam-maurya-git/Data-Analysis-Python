{
 "cells": [
  {
   "cell_type": "code",
   "execution_count": 1,
   "id": "46f2abab",
   "metadata": {
    "_cell_guid": "b1076dfc-b9ad-4769-8c92-a6c4dae69d19",
    "_uuid": "8f2839f25d086af736a60e9eeb907d3b93b6e0e5",
    "execution": {
     "iopub.execute_input": "2023-07-05T12:07:39.146348Z",
     "iopub.status.busy": "2023-07-05T12:07:39.145899Z",
     "iopub.status.idle": "2023-07-05T12:07:39.167000Z",
     "shell.execute_reply": "2023-07-05T12:07:39.164912Z"
    },
    "papermill": {
     "duration": 0.037231,
     "end_time": "2023-07-05T12:07:39.170804",
     "exception": false,
     "start_time": "2023-07-05T12:07:39.133573",
     "status": "completed"
    },
    "tags": []
   },
   "outputs": [
    {
     "name": "stdout",
     "output_type": "stream",
     "text": [
      "/kaggle/input/largest-malls/Largest-Malls.csv\n"
     ]
    }
   ],
   "source": [
    "# This Python 3 environment comes with many helpful analytics libraries installed\n",
    "# It is defined by the kaggle/python Docker image: https://github.com/kaggle/docker-python\n",
    "# For example, here's several helpful packages to load\n",
    "\n",
    "import numpy as np # linear algebra\n",
    "import pandas as pd # data processing, CSV file I/O (e.g. pd.read_csv)\n",
    "\n",
    "# Input data files are available in the read-only \"../input/\" directory\n",
    "# For example, running this (by clicking run or pressing Shift+Enter) will list all files under the input directory\n",
    "\n",
    "import os\n",
    "for dirname, _, filenames in os.walk('/kaggle/input'):\n",
    "    for filename in filenames:\n",
    "        print(os.path.join(dirname, filename))\n",
    "\n",
    "# You can write up to 20GB to the current directory (/kaggle/working/) that gets preserved as output when you create a version using \"Save & Run All\" \n",
    "# You can also write temporary files to /kaggle/temp/, but they won't be saved outside of the current session"
   ]
  },
  {
   "cell_type": "markdown",
   "id": "0a72f805",
   "metadata": {
    "papermill": {
     "duration": 0.008001,
     "end_time": "2023-07-05T12:07:39.187261",
     "exception": false,
     "start_time": "2023-07-05T12:07:39.179260",
     "status": "completed"
    },
    "tags": []
   },
   "source": [
    "## Importing Libraries"
   ]
  },
  {
   "cell_type": "code",
   "execution_count": 2,
   "id": "4b95b9e4",
   "metadata": {
    "execution": {
     "iopub.execute_input": "2023-07-05T12:07:39.205547Z",
     "iopub.status.busy": "2023-07-05T12:07:39.205103Z",
     "iopub.status.idle": "2023-07-05T12:07:39.209781Z",
     "shell.execute_reply": "2023-07-05T12:07:39.208904Z"
    },
    "papermill": {
     "duration": 0.016517,
     "end_time": "2023-07-05T12:07:39.212120",
     "exception": false,
     "start_time": "2023-07-05T12:07:39.195603",
     "status": "completed"
    },
    "tags": []
   },
   "outputs": [],
   "source": [
    "import matplotlib.pyplot as plt\n",
    "import pandas as pd"
   ]
  },
  {
   "cell_type": "markdown",
   "id": "8f3e4404",
   "metadata": {
    "papermill": {
     "duration": 0.007416,
     "end_time": "2023-07-05T12:07:39.227383",
     "exception": false,
     "start_time": "2023-07-05T12:07:39.219967",
     "status": "completed"
    },
    "tags": []
   },
   "source": [
    "## Loading Dataset"
   ]
  },
  {
   "cell_type": "code",
   "execution_count": 3,
   "id": "0b049f69",
   "metadata": {
    "execution": {
     "iopub.execute_input": "2023-07-05T12:07:39.244682Z",
     "iopub.status.busy": "2023-07-05T12:07:39.244251Z",
     "iopub.status.idle": "2023-07-05T12:07:39.268749Z",
     "shell.execute_reply": "2023-07-05T12:07:39.267285Z"
    },
    "papermill": {
     "duration": 0.036681,
     "end_time": "2023-07-05T12:07:39.271908",
     "exception": false,
     "start_time": "2023-07-05T12:07:39.235227",
     "status": "completed"
    },
    "tags": []
   },
   "outputs": [],
   "source": [
    "df = pd.read_csv('/kaggle/input/largest-malls/Largest-Malls.csv')"
   ]
  },
  {
   "cell_type": "code",
   "execution_count": 4,
   "id": "776ae263",
   "metadata": {
    "execution": {
     "iopub.execute_input": "2023-07-05T12:07:39.290714Z",
     "iopub.status.busy": "2023-07-05T12:07:39.289472Z",
     "iopub.status.idle": "2023-07-05T12:07:39.294928Z",
     "shell.execute_reply": "2023-07-05T12:07:39.293972Z"
    },
    "papermill": {
     "duration": 0.017851,
     "end_time": "2023-07-05T12:07:39.297655",
     "exception": false,
     "start_time": "2023-07-05T12:07:39.279804",
     "status": "completed"
    },
    "tags": []
   },
   "outputs": [],
   "source": [
    "pd.set_option('display.max_rows',10)"
   ]
  },
  {
   "cell_type": "code",
   "execution_count": 5,
   "id": "01a9018e",
   "metadata": {
    "execution": {
     "iopub.execute_input": "2023-07-05T12:07:39.316803Z",
     "iopub.status.busy": "2023-07-05T12:07:39.315640Z",
     "iopub.status.idle": "2023-07-05T12:07:39.354096Z",
     "shell.execute_reply": "2023-07-05T12:07:39.352938Z"
    },
    "papermill": {
     "duration": 0.051009,
     "end_time": "2023-07-05T12:07:39.356846",
     "exception": false,
     "start_time": "2023-07-05T12:07:39.305837",
     "status": "completed"
    },
    "tags": []
   },
   "outputs": [
    {
     "data": {
      "text/html": [
       "<div>\n",
       "<style scoped>\n",
       "    .dataframe tbody tr th:only-of-type {\n",
       "        vertical-align: middle;\n",
       "    }\n",
       "\n",
       "    .dataframe tbody tr th {\n",
       "        vertical-align: top;\n",
       "    }\n",
       "\n",
       "    .dataframe thead th {\n",
       "        text-align: right;\n",
       "    }\n",
       "</style>\n",
       "<table border=\"1\" class=\"dataframe\">\n",
       "  <thead>\n",
       "    <tr style=\"text-align: right;\">\n",
       "      <th></th>\n",
       "      <th>Rank</th>\n",
       "      <th>Mall</th>\n",
       "      <th>Country</th>\n",
       "      <th>City (metropolitan area)</th>\n",
       "      <th>Year opened</th>\n",
       "      <th>Gross leasable area (GLA)</th>\n",
       "      <th>Shops</th>\n",
       "    </tr>\n",
       "  </thead>\n",
       "  <tbody>\n",
       "    <tr>\n",
       "      <th>0</th>\n",
       "      <td>1</td>\n",
       "      <td>Iran Mall</td>\n",
       "      <td>Iran</td>\n",
       "      <td>Tehran</td>\n",
       "      <td>2018</td>\n",
       "      <td>1,950,000 m2 (21,000,000 sq ft)</td>\n",
       "      <td>2,500</td>\n",
       "    </tr>\n",
       "    <tr>\n",
       "      <th>1</th>\n",
       "      <td>2</td>\n",
       "      <td>IOI City Mall</td>\n",
       "      <td>Malaysia</td>\n",
       "      <td>Putrajaya</td>\n",
       "      <td>2014</td>\n",
       "      <td>821,000 m2 (8,840,000 sq ft)</td>\n",
       "      <td>650</td>\n",
       "    </tr>\n",
       "    <tr>\n",
       "      <th>2</th>\n",
       "      <td>3</td>\n",
       "      <td>South China Mall</td>\n",
       "      <td>China</td>\n",
       "      <td>Dongguan</td>\n",
       "      <td>2005</td>\n",
       "      <td>659,612 m2 (7,100,000 sq ft)</td>\n",
       "      <td>2,350</td>\n",
       "    </tr>\n",
       "    <tr>\n",
       "      <th>3</th>\n",
       "      <td>4</td>\n",
       "      <td>Isfahan City Center</td>\n",
       "      <td>Iran</td>\n",
       "      <td>Isfahan</td>\n",
       "      <td>2012</td>\n",
       "      <td>650,000 m2 (7,000,000 sq ft)</td>\n",
       "      <td>350</td>\n",
       "    </tr>\n",
       "    <tr>\n",
       "      <th>4</th>\n",
       "      <td>5</td>\n",
       "      <td>SM Mall of Asia</td>\n",
       "      <td>Philippines</td>\n",
       "      <td>Pasay (Metro Manila)</td>\n",
       "      <td>2006</td>\n",
       "      <td>589,891 m2 (6,349,530 sq ft)</td>\n",
       "      <td>3,500</td>\n",
       "    </tr>\n",
       "    <tr>\n",
       "      <th>...</th>\n",
       "      <td>...</td>\n",
       "      <td>...</td>\n",
       "      <td>...</td>\n",
       "      <td>...</td>\n",
       "      <td>...</td>\n",
       "      <td>...</td>\n",
       "      <td>...</td>\n",
       "    </tr>\n",
       "    <tr>\n",
       "      <th>51</th>\n",
       "      <td>50</td>\n",
       "      <td>Aventura Mall</td>\n",
       "      <td>United States</td>\n",
       "      <td>Aventura (Miami area)</td>\n",
       "      <td>1983</td>\n",
       "      <td>250,000 m2 (2,700,000 sq ft)</td>\n",
       "      <td>300</td>\n",
       "    </tr>\n",
       "    <tr>\n",
       "      <th>52</th>\n",
       "      <td>50</td>\n",
       "      <td>Glorietta</td>\n",
       "      <td>Philippines</td>\n",
       "      <td>Makati (Metro Manila)</td>\n",
       "      <td>1991</td>\n",
       "      <td>250,000 m2 (2,700,000 sq ft)</td>\n",
       "      <td>300</td>\n",
       "    </tr>\n",
       "    <tr>\n",
       "      <th>53</th>\n",
       "      <td>50</td>\n",
       "      <td>Greenbelt</td>\n",
       "      <td>Philippines</td>\n",
       "      <td>Makati (Metro Manila)</td>\n",
       "      <td>1991</td>\n",
       "      <td>250,000 m2 (2,700,000 sq ft)</td>\n",
       "      <td>300</td>\n",
       "    </tr>\n",
       "    <tr>\n",
       "      <th>54</th>\n",
       "      <td>50</td>\n",
       "      <td>South Coast Plaza</td>\n",
       "      <td>United States</td>\n",
       "      <td>Costa Mesa (Greater Los Angeles)</td>\n",
       "      <td>1967</td>\n",
       "      <td>250,000 m2 (2,700,000 sq ft)</td>\n",
       "      <td>286</td>\n",
       "    </tr>\n",
       "    <tr>\n",
       "      <th>55</th>\n",
       "      <td>50</td>\n",
       "      <td>Centro Comercial Santafé</td>\n",
       "      <td>Colombia</td>\n",
       "      <td>Bogota</td>\n",
       "      <td>2006</td>\n",
       "      <td>250,000 m2 (2,700,000 sq ft)</td>\n",
       "      <td>150</td>\n",
       "    </tr>\n",
       "  </tbody>\n",
       "</table>\n",
       "<p>56 rows × 7 columns</p>\n",
       "</div>"
      ],
      "text/plain": [
       "    Rank                      Mall        Country  \\\n",
       "0      1                 Iran Mall           Iran   \n",
       "1      2             IOI City Mall       Malaysia   \n",
       "2      3          South China Mall          China   \n",
       "3      4       Isfahan City Center           Iran   \n",
       "4      5           SM Mall of Asia    Philippines   \n",
       "..   ...                       ...            ...   \n",
       "51    50             Aventura Mall  United States   \n",
       "52    50                 Glorietta    Philippines   \n",
       "53    50                 Greenbelt    Philippines   \n",
       "54    50         South Coast Plaza  United States   \n",
       "55    50  Centro Comercial Santafé       Colombia   \n",
       "\n",
       "            City (metropolitan area) Year opened  \\\n",
       "0                             Tehran        2018   \n",
       "1                          Putrajaya        2014   \n",
       "2                           Dongguan        2005   \n",
       "3                            Isfahan        2012   \n",
       "4               Pasay (Metro Manila)        2006   \n",
       "..                               ...         ...   \n",
       "51             Aventura (Miami area)        1983   \n",
       "52             Makati (Metro Manila)        1991   \n",
       "53             Makati (Metro Manila)        1991   \n",
       "54  Costa Mesa (Greater Los Angeles)        1967   \n",
       "55                            Bogota        2006   \n",
       "\n",
       "          Gross leasable area (GLA)  Shops  \n",
       "0   1,950,000 m2 (21,000,000 sq ft)  2,500  \n",
       "1      821,000 m2 (8,840,000 sq ft)    650  \n",
       "2      659,612 m2 (7,100,000 sq ft)  2,350  \n",
       "3      650,000 m2 (7,000,000 sq ft)    350  \n",
       "4      589,891 m2 (6,349,530 sq ft)  3,500  \n",
       "..                              ...    ...  \n",
       "51     250,000 m2 (2,700,000 sq ft)    300  \n",
       "52     250,000 m2 (2,700,000 sq ft)    300  \n",
       "53     250,000 m2 (2,700,000 sq ft)    300  \n",
       "54     250,000 m2 (2,700,000 sq ft)    286  \n",
       "55     250,000 m2 (2,700,000 sq ft)    150  \n",
       "\n",
       "[56 rows x 7 columns]"
      ]
     },
     "execution_count": 5,
     "metadata": {},
     "output_type": "execute_result"
    }
   ],
   "source": [
    "df"
   ]
  },
  {
   "cell_type": "markdown",
   "id": "c94f6f34",
   "metadata": {
    "papermill": {
     "duration": 0.007621,
     "end_time": "2023-07-05T12:07:39.372797",
     "exception": false,
     "start_time": "2023-07-05T12:07:39.365176",
     "status": "completed"
    },
    "tags": []
   },
   "source": [
    "## Formatting Dataset"
   ]
  },
  {
   "cell_type": "markdown",
   "id": "73835eab",
   "metadata": {
    "papermill": {
     "duration": 0.007728,
     "end_time": "2023-07-05T12:07:39.388490",
     "exception": false,
     "start_time": "2023-07-05T12:07:39.380762",
     "status": "completed"
    },
    "tags": []
   },
   "source": [
    "**Splitting GLA Column**"
   ]
  },
  {
   "cell_type": "code",
   "execution_count": 6,
   "id": "a2b7d2b8",
   "metadata": {
    "execution": {
     "iopub.execute_input": "2023-07-05T12:07:39.406467Z",
     "iopub.status.busy": "2023-07-05T12:07:39.406047Z",
     "iopub.status.idle": "2023-07-05T12:07:39.415711Z",
     "shell.execute_reply": "2023-07-05T12:07:39.414481Z"
    },
    "papermill": {
     "duration": 0.021799,
     "end_time": "2023-07-05T12:07:39.418312",
     "exception": false,
     "start_time": "2023-07-05T12:07:39.396513",
     "status": "completed"
    },
    "tags": []
   },
   "outputs": [],
   "source": [
    "df['Gross leasable area (GLA) in m2']=df['Gross leasable area (GLA)'].str.split(\"m2\",expand=True)[0]"
   ]
  },
  {
   "cell_type": "code",
   "execution_count": 7,
   "id": "029c6a6c",
   "metadata": {
    "execution": {
     "iopub.execute_input": "2023-07-05T12:07:39.436336Z",
     "iopub.status.busy": "2023-07-05T12:07:39.435940Z",
     "iopub.status.idle": "2023-07-05T12:07:39.442637Z",
     "shell.execute_reply": "2023-07-05T12:07:39.441394Z"
    },
    "papermill": {
     "duration": 0.018817,
     "end_time": "2023-07-05T12:07:39.445269",
     "exception": false,
     "start_time": "2023-07-05T12:07:39.426452",
     "status": "completed"
    },
    "tags": []
   },
   "outputs": [],
   "source": [
    "df['Gross leasable area (GLA) in sq ft']=df['Gross leasable area (GLA)'].str.split(\"m2\",expand=True)[1]"
   ]
  },
  {
   "cell_type": "code",
   "execution_count": 8,
   "id": "ea546820",
   "metadata": {
    "execution": {
     "iopub.execute_input": "2023-07-05T12:07:39.463143Z",
     "iopub.status.busy": "2023-07-05T12:07:39.462722Z",
     "iopub.status.idle": "2023-07-05T12:07:39.469281Z",
     "shell.execute_reply": "2023-07-05T12:07:39.467908Z"
    },
    "papermill": {
     "duration": 0.018512,
     "end_time": "2023-07-05T12:07:39.471682",
     "exception": false,
     "start_time": "2023-07-05T12:07:39.453170",
     "status": "completed"
    },
    "tags": []
   },
   "outputs": [],
   "source": [
    "new_value = list()\n",
    "for i in df['Gross leasable area (GLA) in sq ft']:\n",
    "    new_value.append(i[2:len(i)-8])\n",
    "df['Gross leasable area (GLA) in sq ft']=new_value"
   ]
  },
  {
   "cell_type": "code",
   "execution_count": 9,
   "id": "a634fab9",
   "metadata": {
    "execution": {
     "iopub.execute_input": "2023-07-05T12:07:39.489787Z",
     "iopub.status.busy": "2023-07-05T12:07:39.489365Z",
     "iopub.status.idle": "2023-07-05T12:07:39.508750Z",
     "shell.execute_reply": "2023-07-05T12:07:39.507195Z"
    },
    "papermill": {
     "duration": 0.031375,
     "end_time": "2023-07-05T12:07:39.511093",
     "exception": false,
     "start_time": "2023-07-05T12:07:39.479718",
     "status": "completed"
    },
    "tags": []
   },
   "outputs": [
    {
     "data": {
      "text/html": [
       "<div>\n",
       "<style scoped>\n",
       "    .dataframe tbody tr th:only-of-type {\n",
       "        vertical-align: middle;\n",
       "    }\n",
       "\n",
       "    .dataframe tbody tr th {\n",
       "        vertical-align: top;\n",
       "    }\n",
       "\n",
       "    .dataframe thead th {\n",
       "        text-align: right;\n",
       "    }\n",
       "</style>\n",
       "<table border=\"1\" class=\"dataframe\">\n",
       "  <thead>\n",
       "    <tr style=\"text-align: right;\">\n",
       "      <th></th>\n",
       "      <th>Rank</th>\n",
       "      <th>Mall</th>\n",
       "      <th>Country</th>\n",
       "      <th>City (metropolitan area)</th>\n",
       "      <th>Year opened</th>\n",
       "      <th>Gross leasable area (GLA)</th>\n",
       "      <th>Shops</th>\n",
       "      <th>Gross leasable area (GLA) in m2</th>\n",
       "      <th>Gross leasable area (GLA) in sq ft</th>\n",
       "    </tr>\n",
       "  </thead>\n",
       "  <tbody>\n",
       "    <tr>\n",
       "      <th>0</th>\n",
       "      <td>1</td>\n",
       "      <td>Iran Mall</td>\n",
       "      <td>Iran</td>\n",
       "      <td>Tehran</td>\n",
       "      <td>2018</td>\n",
       "      <td>1,950,000 m2 (21,000,000 sq ft)</td>\n",
       "      <td>2,500</td>\n",
       "      <td>1,950,000</td>\n",
       "      <td>21,000,00</td>\n",
       "    </tr>\n",
       "    <tr>\n",
       "      <th>1</th>\n",
       "      <td>2</td>\n",
       "      <td>IOI City Mall</td>\n",
       "      <td>Malaysia</td>\n",
       "      <td>Putrajaya</td>\n",
       "      <td>2014</td>\n",
       "      <td>821,000 m2 (8,840,000 sq ft)</td>\n",
       "      <td>650</td>\n",
       "      <td>821,000</td>\n",
       "      <td>8,840,00</td>\n",
       "    </tr>\n",
       "    <tr>\n",
       "      <th>2</th>\n",
       "      <td>3</td>\n",
       "      <td>South China Mall</td>\n",
       "      <td>China</td>\n",
       "      <td>Dongguan</td>\n",
       "      <td>2005</td>\n",
       "      <td>659,612 m2 (7,100,000 sq ft)</td>\n",
       "      <td>2,350</td>\n",
       "      <td>659,612</td>\n",
       "      <td>7,100,00</td>\n",
       "    </tr>\n",
       "    <tr>\n",
       "      <th>3</th>\n",
       "      <td>4</td>\n",
       "      <td>Isfahan City Center</td>\n",
       "      <td>Iran</td>\n",
       "      <td>Isfahan</td>\n",
       "      <td>2012</td>\n",
       "      <td>650,000 m2 (7,000,000 sq ft)</td>\n",
       "      <td>350</td>\n",
       "      <td>650,000</td>\n",
       "      <td>7,000,00</td>\n",
       "    </tr>\n",
       "    <tr>\n",
       "      <th>4</th>\n",
       "      <td>5</td>\n",
       "      <td>SM Mall of Asia</td>\n",
       "      <td>Philippines</td>\n",
       "      <td>Pasay (Metro Manila)</td>\n",
       "      <td>2006</td>\n",
       "      <td>589,891 m2 (6,349,530 sq ft)</td>\n",
       "      <td>3,500</td>\n",
       "      <td>589,891</td>\n",
       "      <td>6,349,53</td>\n",
       "    </tr>\n",
       "    <tr>\n",
       "      <th>...</th>\n",
       "      <td>...</td>\n",
       "      <td>...</td>\n",
       "      <td>...</td>\n",
       "      <td>...</td>\n",
       "      <td>...</td>\n",
       "      <td>...</td>\n",
       "      <td>...</td>\n",
       "      <td>...</td>\n",
       "      <td>...</td>\n",
       "    </tr>\n",
       "    <tr>\n",
       "      <th>51</th>\n",
       "      <td>50</td>\n",
       "      <td>Aventura Mall</td>\n",
       "      <td>United States</td>\n",
       "      <td>Aventura (Miami area)</td>\n",
       "      <td>1983</td>\n",
       "      <td>250,000 m2 (2,700,000 sq ft)</td>\n",
       "      <td>300</td>\n",
       "      <td>250,000</td>\n",
       "      <td>2,700,00</td>\n",
       "    </tr>\n",
       "    <tr>\n",
       "      <th>52</th>\n",
       "      <td>50</td>\n",
       "      <td>Glorietta</td>\n",
       "      <td>Philippines</td>\n",
       "      <td>Makati (Metro Manila)</td>\n",
       "      <td>1991</td>\n",
       "      <td>250,000 m2 (2,700,000 sq ft)</td>\n",
       "      <td>300</td>\n",
       "      <td>250,000</td>\n",
       "      <td>2,700,00</td>\n",
       "    </tr>\n",
       "    <tr>\n",
       "      <th>53</th>\n",
       "      <td>50</td>\n",
       "      <td>Greenbelt</td>\n",
       "      <td>Philippines</td>\n",
       "      <td>Makati (Metro Manila)</td>\n",
       "      <td>1991</td>\n",
       "      <td>250,000 m2 (2,700,000 sq ft)</td>\n",
       "      <td>300</td>\n",
       "      <td>250,000</td>\n",
       "      <td>2,700,00</td>\n",
       "    </tr>\n",
       "    <tr>\n",
       "      <th>54</th>\n",
       "      <td>50</td>\n",
       "      <td>South Coast Plaza</td>\n",
       "      <td>United States</td>\n",
       "      <td>Costa Mesa (Greater Los Angeles)</td>\n",
       "      <td>1967</td>\n",
       "      <td>250,000 m2 (2,700,000 sq ft)</td>\n",
       "      <td>286</td>\n",
       "      <td>250,000</td>\n",
       "      <td>2,700,00</td>\n",
       "    </tr>\n",
       "    <tr>\n",
       "      <th>55</th>\n",
       "      <td>50</td>\n",
       "      <td>Centro Comercial Santafé</td>\n",
       "      <td>Colombia</td>\n",
       "      <td>Bogota</td>\n",
       "      <td>2006</td>\n",
       "      <td>250,000 m2 (2,700,000 sq ft)</td>\n",
       "      <td>150</td>\n",
       "      <td>250,000</td>\n",
       "      <td>2,700,00</td>\n",
       "    </tr>\n",
       "  </tbody>\n",
       "</table>\n",
       "<p>56 rows × 9 columns</p>\n",
       "</div>"
      ],
      "text/plain": [
       "    Rank                      Mall        Country  \\\n",
       "0      1                 Iran Mall           Iran   \n",
       "1      2             IOI City Mall       Malaysia   \n",
       "2      3          South China Mall          China   \n",
       "3      4       Isfahan City Center           Iran   \n",
       "4      5           SM Mall of Asia    Philippines   \n",
       "..   ...                       ...            ...   \n",
       "51    50             Aventura Mall  United States   \n",
       "52    50                 Glorietta    Philippines   \n",
       "53    50                 Greenbelt    Philippines   \n",
       "54    50         South Coast Plaza  United States   \n",
       "55    50  Centro Comercial Santafé       Colombia   \n",
       "\n",
       "            City (metropolitan area) Year opened  \\\n",
       "0                             Tehran        2018   \n",
       "1                          Putrajaya        2014   \n",
       "2                           Dongguan        2005   \n",
       "3                            Isfahan        2012   \n",
       "4               Pasay (Metro Manila)        2006   \n",
       "..                               ...         ...   \n",
       "51             Aventura (Miami area)        1983   \n",
       "52             Makati (Metro Manila)        1991   \n",
       "53             Makati (Metro Manila)        1991   \n",
       "54  Costa Mesa (Greater Los Angeles)        1967   \n",
       "55                            Bogota        2006   \n",
       "\n",
       "          Gross leasable area (GLA)  Shops Gross leasable area (GLA) in m2  \\\n",
       "0   1,950,000 m2 (21,000,000 sq ft)  2,500                      1,950,000    \n",
       "1      821,000 m2 (8,840,000 sq ft)    650                        821,000    \n",
       "2      659,612 m2 (7,100,000 sq ft)  2,350                        659,612    \n",
       "3      650,000 m2 (7,000,000 sq ft)    350                        650,000    \n",
       "4      589,891 m2 (6,349,530 sq ft)  3,500                        589,891    \n",
       "..                              ...    ...                             ...   \n",
       "51     250,000 m2 (2,700,000 sq ft)    300                        250,000    \n",
       "52     250,000 m2 (2,700,000 sq ft)    300                        250,000    \n",
       "53     250,000 m2 (2,700,000 sq ft)    300                        250,000    \n",
       "54     250,000 m2 (2,700,000 sq ft)    286                        250,000    \n",
       "55     250,000 m2 (2,700,000 sq ft)    150                        250,000    \n",
       "\n",
       "   Gross leasable area (GLA) in sq ft  \n",
       "0                           21,000,00  \n",
       "1                            8,840,00  \n",
       "2                            7,100,00  \n",
       "3                            7,000,00  \n",
       "4                            6,349,53  \n",
       "..                                ...  \n",
       "51                           2,700,00  \n",
       "52                           2,700,00  \n",
       "53                           2,700,00  \n",
       "54                           2,700,00  \n",
       "55                           2,700,00  \n",
       "\n",
       "[56 rows x 9 columns]"
      ]
     },
     "execution_count": 9,
     "metadata": {},
     "output_type": "execute_result"
    }
   ],
   "source": [
    "df"
   ]
  },
  {
   "cell_type": "code",
   "execution_count": 10,
   "id": "0783f003",
   "metadata": {
    "execution": {
     "iopub.execute_input": "2023-07-05T12:07:39.529935Z",
     "iopub.status.busy": "2023-07-05T12:07:39.529514Z",
     "iopub.status.idle": "2023-07-05T12:07:39.542382Z",
     "shell.execute_reply": "2023-07-05T12:07:39.541340Z"
    },
    "papermill": {
     "duration": 0.025845,
     "end_time": "2023-07-05T12:07:39.545558",
     "exception": false,
     "start_time": "2023-07-05T12:07:39.519713",
     "status": "completed"
    },
    "tags": []
   },
   "outputs": [],
   "source": [
    "df.drop('Gross leasable area (GLA)',axis=1,inplace=True)"
   ]
  },
  {
   "cell_type": "code",
   "execution_count": 11,
   "id": "39a3f83a",
   "metadata": {
    "execution": {
     "iopub.execute_input": "2023-07-05T12:07:39.564675Z",
     "iopub.status.busy": "2023-07-05T12:07:39.563880Z",
     "iopub.status.idle": "2023-07-05T12:07:39.581201Z",
     "shell.execute_reply": "2023-07-05T12:07:39.579944Z"
    },
    "papermill": {
     "duration": 0.029533,
     "end_time": "2023-07-05T12:07:39.583569",
     "exception": false,
     "start_time": "2023-07-05T12:07:39.554036",
     "status": "completed"
    },
    "tags": []
   },
   "outputs": [
    {
     "data": {
      "text/html": [
       "<div>\n",
       "<style scoped>\n",
       "    .dataframe tbody tr th:only-of-type {\n",
       "        vertical-align: middle;\n",
       "    }\n",
       "\n",
       "    .dataframe tbody tr th {\n",
       "        vertical-align: top;\n",
       "    }\n",
       "\n",
       "    .dataframe thead th {\n",
       "        text-align: right;\n",
       "    }\n",
       "</style>\n",
       "<table border=\"1\" class=\"dataframe\">\n",
       "  <thead>\n",
       "    <tr style=\"text-align: right;\">\n",
       "      <th></th>\n",
       "      <th>Rank</th>\n",
       "      <th>Mall</th>\n",
       "      <th>Country</th>\n",
       "      <th>City (metropolitan area)</th>\n",
       "      <th>Year opened</th>\n",
       "      <th>Shops</th>\n",
       "      <th>Gross leasable area (GLA) in m2</th>\n",
       "      <th>Gross leasable area (GLA) in sq ft</th>\n",
       "    </tr>\n",
       "  </thead>\n",
       "  <tbody>\n",
       "    <tr>\n",
       "      <th>0</th>\n",
       "      <td>1</td>\n",
       "      <td>Iran Mall</td>\n",
       "      <td>Iran</td>\n",
       "      <td>Tehran</td>\n",
       "      <td>2018</td>\n",
       "      <td>2,500</td>\n",
       "      <td>1,950,000</td>\n",
       "      <td>21,000,00</td>\n",
       "    </tr>\n",
       "    <tr>\n",
       "      <th>1</th>\n",
       "      <td>2</td>\n",
       "      <td>IOI City Mall</td>\n",
       "      <td>Malaysia</td>\n",
       "      <td>Putrajaya</td>\n",
       "      <td>2014</td>\n",
       "      <td>650</td>\n",
       "      <td>821,000</td>\n",
       "      <td>8,840,00</td>\n",
       "    </tr>\n",
       "    <tr>\n",
       "      <th>2</th>\n",
       "      <td>3</td>\n",
       "      <td>South China Mall</td>\n",
       "      <td>China</td>\n",
       "      <td>Dongguan</td>\n",
       "      <td>2005</td>\n",
       "      <td>2,350</td>\n",
       "      <td>659,612</td>\n",
       "      <td>7,100,00</td>\n",
       "    </tr>\n",
       "    <tr>\n",
       "      <th>3</th>\n",
       "      <td>4</td>\n",
       "      <td>Isfahan City Center</td>\n",
       "      <td>Iran</td>\n",
       "      <td>Isfahan</td>\n",
       "      <td>2012</td>\n",
       "      <td>350</td>\n",
       "      <td>650,000</td>\n",
       "      <td>7,000,00</td>\n",
       "    </tr>\n",
       "    <tr>\n",
       "      <th>4</th>\n",
       "      <td>5</td>\n",
       "      <td>SM Mall of Asia</td>\n",
       "      <td>Philippines</td>\n",
       "      <td>Pasay (Metro Manila)</td>\n",
       "      <td>2006</td>\n",
       "      <td>3,500</td>\n",
       "      <td>589,891</td>\n",
       "      <td>6,349,53</td>\n",
       "    </tr>\n",
       "    <tr>\n",
       "      <th>...</th>\n",
       "      <td>...</td>\n",
       "      <td>...</td>\n",
       "      <td>...</td>\n",
       "      <td>...</td>\n",
       "      <td>...</td>\n",
       "      <td>...</td>\n",
       "      <td>...</td>\n",
       "      <td>...</td>\n",
       "    </tr>\n",
       "    <tr>\n",
       "      <th>51</th>\n",
       "      <td>50</td>\n",
       "      <td>Aventura Mall</td>\n",
       "      <td>United States</td>\n",
       "      <td>Aventura (Miami area)</td>\n",
       "      <td>1983</td>\n",
       "      <td>300</td>\n",
       "      <td>250,000</td>\n",
       "      <td>2,700,00</td>\n",
       "    </tr>\n",
       "    <tr>\n",
       "      <th>52</th>\n",
       "      <td>50</td>\n",
       "      <td>Glorietta</td>\n",
       "      <td>Philippines</td>\n",
       "      <td>Makati (Metro Manila)</td>\n",
       "      <td>1991</td>\n",
       "      <td>300</td>\n",
       "      <td>250,000</td>\n",
       "      <td>2,700,00</td>\n",
       "    </tr>\n",
       "    <tr>\n",
       "      <th>53</th>\n",
       "      <td>50</td>\n",
       "      <td>Greenbelt</td>\n",
       "      <td>Philippines</td>\n",
       "      <td>Makati (Metro Manila)</td>\n",
       "      <td>1991</td>\n",
       "      <td>300</td>\n",
       "      <td>250,000</td>\n",
       "      <td>2,700,00</td>\n",
       "    </tr>\n",
       "    <tr>\n",
       "      <th>54</th>\n",
       "      <td>50</td>\n",
       "      <td>South Coast Plaza</td>\n",
       "      <td>United States</td>\n",
       "      <td>Costa Mesa (Greater Los Angeles)</td>\n",
       "      <td>1967</td>\n",
       "      <td>286</td>\n",
       "      <td>250,000</td>\n",
       "      <td>2,700,00</td>\n",
       "    </tr>\n",
       "    <tr>\n",
       "      <th>55</th>\n",
       "      <td>50</td>\n",
       "      <td>Centro Comercial Santafé</td>\n",
       "      <td>Colombia</td>\n",
       "      <td>Bogota</td>\n",
       "      <td>2006</td>\n",
       "      <td>150</td>\n",
       "      <td>250,000</td>\n",
       "      <td>2,700,00</td>\n",
       "    </tr>\n",
       "  </tbody>\n",
       "</table>\n",
       "<p>56 rows × 8 columns</p>\n",
       "</div>"
      ],
      "text/plain": [
       "    Rank                      Mall        Country  \\\n",
       "0      1                 Iran Mall           Iran   \n",
       "1      2             IOI City Mall       Malaysia   \n",
       "2      3          South China Mall          China   \n",
       "3      4       Isfahan City Center           Iran   \n",
       "4      5           SM Mall of Asia    Philippines   \n",
       "..   ...                       ...            ...   \n",
       "51    50             Aventura Mall  United States   \n",
       "52    50                 Glorietta    Philippines   \n",
       "53    50                 Greenbelt    Philippines   \n",
       "54    50         South Coast Plaza  United States   \n",
       "55    50  Centro Comercial Santafé       Colombia   \n",
       "\n",
       "            City (metropolitan area) Year opened  Shops  \\\n",
       "0                             Tehran        2018  2,500   \n",
       "1                          Putrajaya        2014    650   \n",
       "2                           Dongguan        2005  2,350   \n",
       "3                            Isfahan        2012    350   \n",
       "4               Pasay (Metro Manila)        2006  3,500   \n",
       "..                               ...         ...    ...   \n",
       "51             Aventura (Miami area)        1983    300   \n",
       "52             Makati (Metro Manila)        1991    300   \n",
       "53             Makati (Metro Manila)        1991    300   \n",
       "54  Costa Mesa (Greater Los Angeles)        1967    286   \n",
       "55                            Bogota        2006    150   \n",
       "\n",
       "   Gross leasable area (GLA) in m2 Gross leasable area (GLA) in sq ft  \n",
       "0                       1,950,000                           21,000,00  \n",
       "1                         821,000                            8,840,00  \n",
       "2                         659,612                            7,100,00  \n",
       "3                         650,000                            7,000,00  \n",
       "4                         589,891                            6,349,53  \n",
       "..                             ...                                ...  \n",
       "51                        250,000                            2,700,00  \n",
       "52                        250,000                            2,700,00  \n",
       "53                        250,000                            2,700,00  \n",
       "54                        250,000                            2,700,00  \n",
       "55                        250,000                            2,700,00  \n",
       "\n",
       "[56 rows x 8 columns]"
      ]
     },
     "execution_count": 11,
     "metadata": {},
     "output_type": "execute_result"
    }
   ],
   "source": [
    "df"
   ]
  },
  {
   "cell_type": "markdown",
   "id": "a9e29d57",
   "metadata": {
    "papermill": {
     "duration": 0.008626,
     "end_time": "2023-07-05T12:07:39.600663",
     "exception": false,
     "start_time": "2023-07-05T12:07:39.592037",
     "status": "completed"
    },
    "tags": []
   },
   "source": [
    "## Dealing With Data Types"
   ]
  },
  {
   "cell_type": "code",
   "execution_count": 12,
   "id": "d535b5ad",
   "metadata": {
    "execution": {
     "iopub.execute_input": "2023-07-05T12:07:39.619780Z",
     "iopub.status.busy": "2023-07-05T12:07:39.619370Z",
     "iopub.status.idle": "2023-07-05T12:07:39.628598Z",
     "shell.execute_reply": "2023-07-05T12:07:39.627212Z"
    },
    "papermill": {
     "duration": 0.0217,
     "end_time": "2023-07-05T12:07:39.630996",
     "exception": false,
     "start_time": "2023-07-05T12:07:39.609296",
     "status": "completed"
    },
    "tags": []
   },
   "outputs": [
    {
     "data": {
      "text/plain": [
       "Rank                                   int64\n",
       "Mall                                  object\n",
       "Country                               object\n",
       "City (metropolitan area)              object\n",
       "Year opened                           object\n",
       "Shops                                 object\n",
       "Gross leasable area (GLA) in m2       object\n",
       "Gross leasable area (GLA) in sq ft    object\n",
       "dtype: object"
      ]
     },
     "execution_count": 12,
     "metadata": {},
     "output_type": "execute_result"
    }
   ],
   "source": [
    "df.dtypes"
   ]
  },
  {
   "cell_type": "markdown",
   "id": "7fcf6579",
   "metadata": {
    "papermill": {
     "duration": 0.008792,
     "end_time": "2023-07-05T12:07:39.648484",
     "exception": false,
     "start_time": "2023-07-05T12:07:39.639692",
     "status": "completed"
    },
    "tags": []
   },
   "source": [
    "**Removing ',' from numeric values**"
   ]
  },
  {
   "cell_type": "code",
   "execution_count": 13,
   "id": "df8cc0c7",
   "metadata": {
    "execution": {
     "iopub.execute_input": "2023-07-05T12:07:39.669171Z",
     "iopub.status.busy": "2023-07-05T12:07:39.668748Z",
     "iopub.status.idle": "2023-07-05T12:07:39.676089Z",
     "shell.execute_reply": "2023-07-05T12:07:39.674966Z"
    },
    "papermill": {
     "duration": 0.020748,
     "end_time": "2023-07-05T12:07:39.678654",
     "exception": false,
     "start_time": "2023-07-05T12:07:39.657906",
     "status": "completed"
    },
    "tags": []
   },
   "outputs": [],
   "source": [
    "col_list = ['Shops','Gross leasable area (GLA) in m2','Gross leasable area (GLA) in sq ft']\n",
    "new_col = list()\n",
    "for i in col_list:\n",
    "    for j in df[i]:\n",
    "        new_col.append(j.replace(',',''))\n",
    "    df[i]=new_col\n",
    "    new_col =[]"
   ]
  },
  {
   "cell_type": "code",
   "execution_count": 14,
   "id": "3dde909d",
   "metadata": {
    "execution": {
     "iopub.execute_input": "2023-07-05T12:07:39.698280Z",
     "iopub.status.busy": "2023-07-05T12:07:39.697535Z",
     "iopub.status.idle": "2023-07-05T12:07:39.715636Z",
     "shell.execute_reply": "2023-07-05T12:07:39.714439Z"
    },
    "papermill": {
     "duration": 0.030872,
     "end_time": "2023-07-05T12:07:39.718393",
     "exception": false,
     "start_time": "2023-07-05T12:07:39.687521",
     "status": "completed"
    },
    "tags": []
   },
   "outputs": [
    {
     "data": {
      "text/html": [
       "<div>\n",
       "<style scoped>\n",
       "    .dataframe tbody tr th:only-of-type {\n",
       "        vertical-align: middle;\n",
       "    }\n",
       "\n",
       "    .dataframe tbody tr th {\n",
       "        vertical-align: top;\n",
       "    }\n",
       "\n",
       "    .dataframe thead th {\n",
       "        text-align: right;\n",
       "    }\n",
       "</style>\n",
       "<table border=\"1\" class=\"dataframe\">\n",
       "  <thead>\n",
       "    <tr style=\"text-align: right;\">\n",
       "      <th></th>\n",
       "      <th>Rank</th>\n",
       "      <th>Mall</th>\n",
       "      <th>Country</th>\n",
       "      <th>City (metropolitan area)</th>\n",
       "      <th>Year opened</th>\n",
       "      <th>Shops</th>\n",
       "      <th>Gross leasable area (GLA) in m2</th>\n",
       "      <th>Gross leasable area (GLA) in sq ft</th>\n",
       "    </tr>\n",
       "  </thead>\n",
       "  <tbody>\n",
       "    <tr>\n",
       "      <th>0</th>\n",
       "      <td>1</td>\n",
       "      <td>Iran Mall</td>\n",
       "      <td>Iran</td>\n",
       "      <td>Tehran</td>\n",
       "      <td>2018</td>\n",
       "      <td>2500</td>\n",
       "      <td>1950000</td>\n",
       "      <td>2100000</td>\n",
       "    </tr>\n",
       "    <tr>\n",
       "      <th>1</th>\n",
       "      <td>2</td>\n",
       "      <td>IOI City Mall</td>\n",
       "      <td>Malaysia</td>\n",
       "      <td>Putrajaya</td>\n",
       "      <td>2014</td>\n",
       "      <td>650</td>\n",
       "      <td>821000</td>\n",
       "      <td>884000</td>\n",
       "    </tr>\n",
       "    <tr>\n",
       "      <th>2</th>\n",
       "      <td>3</td>\n",
       "      <td>South China Mall</td>\n",
       "      <td>China</td>\n",
       "      <td>Dongguan</td>\n",
       "      <td>2005</td>\n",
       "      <td>2350</td>\n",
       "      <td>659612</td>\n",
       "      <td>710000</td>\n",
       "    </tr>\n",
       "    <tr>\n",
       "      <th>3</th>\n",
       "      <td>4</td>\n",
       "      <td>Isfahan City Center</td>\n",
       "      <td>Iran</td>\n",
       "      <td>Isfahan</td>\n",
       "      <td>2012</td>\n",
       "      <td>350</td>\n",
       "      <td>650000</td>\n",
       "      <td>700000</td>\n",
       "    </tr>\n",
       "    <tr>\n",
       "      <th>4</th>\n",
       "      <td>5</td>\n",
       "      <td>SM Mall of Asia</td>\n",
       "      <td>Philippines</td>\n",
       "      <td>Pasay (Metro Manila)</td>\n",
       "      <td>2006</td>\n",
       "      <td>3500</td>\n",
       "      <td>589891</td>\n",
       "      <td>634953</td>\n",
       "    </tr>\n",
       "    <tr>\n",
       "      <th>...</th>\n",
       "      <td>...</td>\n",
       "      <td>...</td>\n",
       "      <td>...</td>\n",
       "      <td>...</td>\n",
       "      <td>...</td>\n",
       "      <td>...</td>\n",
       "      <td>...</td>\n",
       "      <td>...</td>\n",
       "    </tr>\n",
       "    <tr>\n",
       "      <th>51</th>\n",
       "      <td>50</td>\n",
       "      <td>Aventura Mall</td>\n",
       "      <td>United States</td>\n",
       "      <td>Aventura (Miami area)</td>\n",
       "      <td>1983</td>\n",
       "      <td>300</td>\n",
       "      <td>250000</td>\n",
       "      <td>270000</td>\n",
       "    </tr>\n",
       "    <tr>\n",
       "      <th>52</th>\n",
       "      <td>50</td>\n",
       "      <td>Glorietta</td>\n",
       "      <td>Philippines</td>\n",
       "      <td>Makati (Metro Manila)</td>\n",
       "      <td>1991</td>\n",
       "      <td>300</td>\n",
       "      <td>250000</td>\n",
       "      <td>270000</td>\n",
       "    </tr>\n",
       "    <tr>\n",
       "      <th>53</th>\n",
       "      <td>50</td>\n",
       "      <td>Greenbelt</td>\n",
       "      <td>Philippines</td>\n",
       "      <td>Makati (Metro Manila)</td>\n",
       "      <td>1991</td>\n",
       "      <td>300</td>\n",
       "      <td>250000</td>\n",
       "      <td>270000</td>\n",
       "    </tr>\n",
       "    <tr>\n",
       "      <th>54</th>\n",
       "      <td>50</td>\n",
       "      <td>South Coast Plaza</td>\n",
       "      <td>United States</td>\n",
       "      <td>Costa Mesa (Greater Los Angeles)</td>\n",
       "      <td>1967</td>\n",
       "      <td>286</td>\n",
       "      <td>250000</td>\n",
       "      <td>270000</td>\n",
       "    </tr>\n",
       "    <tr>\n",
       "      <th>55</th>\n",
       "      <td>50</td>\n",
       "      <td>Centro Comercial Santafé</td>\n",
       "      <td>Colombia</td>\n",
       "      <td>Bogota</td>\n",
       "      <td>2006</td>\n",
       "      <td>150</td>\n",
       "      <td>250000</td>\n",
       "      <td>270000</td>\n",
       "    </tr>\n",
       "  </tbody>\n",
       "</table>\n",
       "<p>56 rows × 8 columns</p>\n",
       "</div>"
      ],
      "text/plain": [
       "    Rank                      Mall        Country  \\\n",
       "0      1                 Iran Mall           Iran   \n",
       "1      2             IOI City Mall       Malaysia   \n",
       "2      3          South China Mall          China   \n",
       "3      4       Isfahan City Center           Iran   \n",
       "4      5           SM Mall of Asia    Philippines   \n",
       "..   ...                       ...            ...   \n",
       "51    50             Aventura Mall  United States   \n",
       "52    50                 Glorietta    Philippines   \n",
       "53    50                 Greenbelt    Philippines   \n",
       "54    50         South Coast Plaza  United States   \n",
       "55    50  Centro Comercial Santafé       Colombia   \n",
       "\n",
       "            City (metropolitan area) Year opened Shops  \\\n",
       "0                             Tehran        2018  2500   \n",
       "1                          Putrajaya        2014   650   \n",
       "2                           Dongguan        2005  2350   \n",
       "3                            Isfahan        2012   350   \n",
       "4               Pasay (Metro Manila)        2006  3500   \n",
       "..                               ...         ...   ...   \n",
       "51             Aventura (Miami area)        1983   300   \n",
       "52             Makati (Metro Manila)        1991   300   \n",
       "53             Makati (Metro Manila)        1991   300   \n",
       "54  Costa Mesa (Greater Los Angeles)        1967   286   \n",
       "55                            Bogota        2006   150   \n",
       "\n",
       "   Gross leasable area (GLA) in m2 Gross leasable area (GLA) in sq ft  \n",
       "0                         1950000                             2100000  \n",
       "1                          821000                              884000  \n",
       "2                          659612                              710000  \n",
       "3                          650000                              700000  \n",
       "4                          589891                              634953  \n",
       "..                             ...                                ...  \n",
       "51                         250000                              270000  \n",
       "52                         250000                              270000  \n",
       "53                         250000                              270000  \n",
       "54                         250000                              270000  \n",
       "55                         250000                              270000  \n",
       "\n",
       "[56 rows x 8 columns]"
      ]
     },
     "execution_count": 14,
     "metadata": {},
     "output_type": "execute_result"
    }
   ],
   "source": [
    "df"
   ]
  },
  {
   "cell_type": "markdown",
   "id": "cbaa3e96",
   "metadata": {
    "papermill": {
     "duration": 0.009002,
     "end_time": "2023-07-05T12:07:39.736463",
     "exception": false,
     "start_time": "2023-07-05T12:07:39.727461",
     "status": "completed"
    },
    "tags": []
   },
   "source": [
    "**Converting numeric values into int type**"
   ]
  },
  {
   "cell_type": "code",
   "execution_count": 15,
   "id": "4444c8f7",
   "metadata": {
    "execution": {
     "iopub.execute_input": "2023-07-05T12:07:39.756620Z",
     "iopub.status.busy": "2023-07-05T12:07:39.756226Z",
     "iopub.status.idle": "2023-07-05T12:07:39.764548Z",
     "shell.execute_reply": "2023-07-05T12:07:39.763654Z"
    },
    "papermill": {
     "duration": 0.021562,
     "end_time": "2023-07-05T12:07:39.767099",
     "exception": false,
     "start_time": "2023-07-05T12:07:39.745537",
     "status": "completed"
    },
    "tags": []
   },
   "outputs": [],
   "source": [
    "df[['Shops','Gross leasable area (GLA) in m2','Gross leasable area (GLA) in sq ft']]=df[['Shops','Gross leasable area (GLA) in m2','Gross leasable area (GLA) in sq ft']].astype('int')"
   ]
  },
  {
   "cell_type": "code",
   "execution_count": 16,
   "id": "f6dff483",
   "metadata": {
    "execution": {
     "iopub.execute_input": "2023-07-05T12:07:39.789018Z",
     "iopub.status.busy": "2023-07-05T12:07:39.788385Z",
     "iopub.status.idle": "2023-07-05T12:07:39.804310Z",
     "shell.execute_reply": "2023-07-05T12:07:39.803152Z"
    },
    "papermill": {
     "duration": 0.029605,
     "end_time": "2023-07-05T12:07:39.806936",
     "exception": false,
     "start_time": "2023-07-05T12:07:39.777331",
     "status": "completed"
    },
    "tags": []
   },
   "outputs": [
    {
     "data": {
      "text/html": [
       "<div>\n",
       "<style scoped>\n",
       "    .dataframe tbody tr th:only-of-type {\n",
       "        vertical-align: middle;\n",
       "    }\n",
       "\n",
       "    .dataframe tbody tr th {\n",
       "        vertical-align: top;\n",
       "    }\n",
       "\n",
       "    .dataframe thead th {\n",
       "        text-align: right;\n",
       "    }\n",
       "</style>\n",
       "<table border=\"1\" class=\"dataframe\">\n",
       "  <thead>\n",
       "    <tr style=\"text-align: right;\">\n",
       "      <th></th>\n",
       "      <th>Rank</th>\n",
       "      <th>Mall</th>\n",
       "      <th>Country</th>\n",
       "      <th>City (metropolitan area)</th>\n",
       "      <th>Year opened</th>\n",
       "      <th>Shops</th>\n",
       "      <th>Gross leasable area (GLA) in m2</th>\n",
       "      <th>Gross leasable area (GLA) in sq ft</th>\n",
       "    </tr>\n",
       "  </thead>\n",
       "  <tbody>\n",
       "    <tr>\n",
       "      <th>0</th>\n",
       "      <td>1</td>\n",
       "      <td>Iran Mall</td>\n",
       "      <td>Iran</td>\n",
       "      <td>Tehran</td>\n",
       "      <td>2018</td>\n",
       "      <td>2500</td>\n",
       "      <td>1950000</td>\n",
       "      <td>2100000</td>\n",
       "    </tr>\n",
       "    <tr>\n",
       "      <th>1</th>\n",
       "      <td>2</td>\n",
       "      <td>IOI City Mall</td>\n",
       "      <td>Malaysia</td>\n",
       "      <td>Putrajaya</td>\n",
       "      <td>2014</td>\n",
       "      <td>650</td>\n",
       "      <td>821000</td>\n",
       "      <td>884000</td>\n",
       "    </tr>\n",
       "    <tr>\n",
       "      <th>2</th>\n",
       "      <td>3</td>\n",
       "      <td>South China Mall</td>\n",
       "      <td>China</td>\n",
       "      <td>Dongguan</td>\n",
       "      <td>2005</td>\n",
       "      <td>2350</td>\n",
       "      <td>659612</td>\n",
       "      <td>710000</td>\n",
       "    </tr>\n",
       "    <tr>\n",
       "      <th>3</th>\n",
       "      <td>4</td>\n",
       "      <td>Isfahan City Center</td>\n",
       "      <td>Iran</td>\n",
       "      <td>Isfahan</td>\n",
       "      <td>2012</td>\n",
       "      <td>350</td>\n",
       "      <td>650000</td>\n",
       "      <td>700000</td>\n",
       "    </tr>\n",
       "    <tr>\n",
       "      <th>4</th>\n",
       "      <td>5</td>\n",
       "      <td>SM Mall of Asia</td>\n",
       "      <td>Philippines</td>\n",
       "      <td>Pasay (Metro Manila)</td>\n",
       "      <td>2006</td>\n",
       "      <td>3500</td>\n",
       "      <td>589891</td>\n",
       "      <td>634953</td>\n",
       "    </tr>\n",
       "    <tr>\n",
       "      <th>...</th>\n",
       "      <td>...</td>\n",
       "      <td>...</td>\n",
       "      <td>...</td>\n",
       "      <td>...</td>\n",
       "      <td>...</td>\n",
       "      <td>...</td>\n",
       "      <td>...</td>\n",
       "      <td>...</td>\n",
       "    </tr>\n",
       "    <tr>\n",
       "      <th>51</th>\n",
       "      <td>50</td>\n",
       "      <td>Aventura Mall</td>\n",
       "      <td>United States</td>\n",
       "      <td>Aventura (Miami area)</td>\n",
       "      <td>1983</td>\n",
       "      <td>300</td>\n",
       "      <td>250000</td>\n",
       "      <td>270000</td>\n",
       "    </tr>\n",
       "    <tr>\n",
       "      <th>52</th>\n",
       "      <td>50</td>\n",
       "      <td>Glorietta</td>\n",
       "      <td>Philippines</td>\n",
       "      <td>Makati (Metro Manila)</td>\n",
       "      <td>1991</td>\n",
       "      <td>300</td>\n",
       "      <td>250000</td>\n",
       "      <td>270000</td>\n",
       "    </tr>\n",
       "    <tr>\n",
       "      <th>53</th>\n",
       "      <td>50</td>\n",
       "      <td>Greenbelt</td>\n",
       "      <td>Philippines</td>\n",
       "      <td>Makati (Metro Manila)</td>\n",
       "      <td>1991</td>\n",
       "      <td>300</td>\n",
       "      <td>250000</td>\n",
       "      <td>270000</td>\n",
       "    </tr>\n",
       "    <tr>\n",
       "      <th>54</th>\n",
       "      <td>50</td>\n",
       "      <td>South Coast Plaza</td>\n",
       "      <td>United States</td>\n",
       "      <td>Costa Mesa (Greater Los Angeles)</td>\n",
       "      <td>1967</td>\n",
       "      <td>286</td>\n",
       "      <td>250000</td>\n",
       "      <td>270000</td>\n",
       "    </tr>\n",
       "    <tr>\n",
       "      <th>55</th>\n",
       "      <td>50</td>\n",
       "      <td>Centro Comercial Santafé</td>\n",
       "      <td>Colombia</td>\n",
       "      <td>Bogota</td>\n",
       "      <td>2006</td>\n",
       "      <td>150</td>\n",
       "      <td>250000</td>\n",
       "      <td>270000</td>\n",
       "    </tr>\n",
       "  </tbody>\n",
       "</table>\n",
       "<p>56 rows × 8 columns</p>\n",
       "</div>"
      ],
      "text/plain": [
       "    Rank                      Mall        Country  \\\n",
       "0      1                 Iran Mall           Iran   \n",
       "1      2             IOI City Mall       Malaysia   \n",
       "2      3          South China Mall          China   \n",
       "3      4       Isfahan City Center           Iran   \n",
       "4      5           SM Mall of Asia    Philippines   \n",
       "..   ...                       ...            ...   \n",
       "51    50             Aventura Mall  United States   \n",
       "52    50                 Glorietta    Philippines   \n",
       "53    50                 Greenbelt    Philippines   \n",
       "54    50         South Coast Plaza  United States   \n",
       "55    50  Centro Comercial Santafé       Colombia   \n",
       "\n",
       "            City (metropolitan area) Year opened  Shops  \\\n",
       "0                             Tehran        2018   2500   \n",
       "1                          Putrajaya        2014    650   \n",
       "2                           Dongguan        2005   2350   \n",
       "3                            Isfahan        2012    350   \n",
       "4               Pasay (Metro Manila)        2006   3500   \n",
       "..                               ...         ...    ...   \n",
       "51             Aventura (Miami area)        1983    300   \n",
       "52             Makati (Metro Manila)        1991    300   \n",
       "53             Makati (Metro Manila)        1991    300   \n",
       "54  Costa Mesa (Greater Los Angeles)        1967    286   \n",
       "55                            Bogota        2006    150   \n",
       "\n",
       "    Gross leasable area (GLA) in m2  Gross leasable area (GLA) in sq ft  \n",
       "0                           1950000                             2100000  \n",
       "1                            821000                              884000  \n",
       "2                            659612                              710000  \n",
       "3                            650000                              700000  \n",
       "4                            589891                              634953  \n",
       "..                              ...                                 ...  \n",
       "51                           250000                              270000  \n",
       "52                           250000                              270000  \n",
       "53                           250000                              270000  \n",
       "54                           250000                              270000  \n",
       "55                           250000                              270000  \n",
       "\n",
       "[56 rows x 8 columns]"
      ]
     },
     "execution_count": 16,
     "metadata": {},
     "output_type": "execute_result"
    }
   ],
   "source": [
    "df"
   ]
  },
  {
   "cell_type": "markdown",
   "id": "d09af039",
   "metadata": {
    "papermill": {
     "duration": 0.00924,
     "end_time": "2023-07-05T12:07:39.825682",
     "exception": false,
     "start_time": "2023-07-05T12:07:39.816442",
     "status": "completed"
    },
    "tags": []
   },
   "source": [
    "## Data Analysis : Best Performing Country : Largest-Malls Dataset"
   ]
  },
  {
   "cell_type": "code",
   "execution_count": 17,
   "id": "f21d8ef5",
   "metadata": {
    "execution": {
     "iopub.execute_input": "2023-07-05T12:07:39.847118Z",
     "iopub.status.busy": "2023-07-05T12:07:39.846646Z",
     "iopub.status.idle": "2023-07-05T12:07:39.873590Z",
     "shell.execute_reply": "2023-07-05T12:07:39.872402Z"
    },
    "papermill": {
     "duration": 0.040368,
     "end_time": "2023-07-05T12:07:39.876058",
     "exception": false,
     "start_time": "2023-07-05T12:07:39.835690",
     "status": "completed"
    },
    "tags": []
   },
   "outputs": [
    {
     "data": {
      "text/html": [
       "<div>\n",
       "<style scoped>\n",
       "    .dataframe tbody tr th:only-of-type {\n",
       "        vertical-align: middle;\n",
       "    }\n",
       "\n",
       "    .dataframe tbody tr th {\n",
       "        vertical-align: top;\n",
       "    }\n",
       "\n",
       "    .dataframe thead th {\n",
       "        text-align: right;\n",
       "    }\n",
       "</style>\n",
       "<table border=\"1\" class=\"dataframe\">\n",
       "  <thead>\n",
       "    <tr style=\"text-align: right;\">\n",
       "      <th></th>\n",
       "      <th>Count of Malls in Largest 50 World</th>\n",
       "    </tr>\n",
       "    <tr>\n",
       "      <th>Country</th>\n",
       "      <th></th>\n",
       "    </tr>\n",
       "  </thead>\n",
       "  <tbody>\n",
       "    <tr>\n",
       "      <th>Philippines</th>\n",
       "      <td>10</td>\n",
       "    </tr>\n",
       "    <tr>\n",
       "      <th>China</th>\n",
       "      <td>7</td>\n",
       "    </tr>\n",
       "    <tr>\n",
       "      <th>Thailand</th>\n",
       "      <td>6</td>\n",
       "    </tr>\n",
       "    <tr>\n",
       "      <th>United States</th>\n",
       "      <td>5</td>\n",
       "    </tr>\n",
       "    <tr>\n",
       "      <th>Indonesia</th>\n",
       "      <td>5</td>\n",
       "    </tr>\n",
       "    <tr>\n",
       "      <th>...</th>\n",
       "      <td>...</td>\n",
       "    </tr>\n",
       "    <tr>\n",
       "      <th>Russia</th>\n",
       "      <td>1</td>\n",
       "    </tr>\n",
       "    <tr>\n",
       "      <th>Bangladesh</th>\n",
       "      <td>1</td>\n",
       "    </tr>\n",
       "    <tr>\n",
       "      <th>Kuwait</th>\n",
       "      <td>1</td>\n",
       "    </tr>\n",
       "    <tr>\n",
       "      <th>Canada</th>\n",
       "      <td>1</td>\n",
       "    </tr>\n",
       "    <tr>\n",
       "      <th>Venezuela</th>\n",
       "      <td>1</td>\n",
       "    </tr>\n",
       "  </tbody>\n",
       "</table>\n",
       "<p>20 rows × 1 columns</p>\n",
       "</div>"
      ],
      "text/plain": [
       "               Count of Malls in Largest 50 World\n",
       "Country                                          \n",
       "Philippines                                    10\n",
       "China                                           7\n",
       "Thailand                                        6\n",
       "United States                                   5\n",
       "Indonesia                                       5\n",
       "...                                           ...\n",
       "Russia                                          1\n",
       "Bangladesh                                      1\n",
       "Kuwait                                          1\n",
       "Canada                                          1\n",
       "Venezuela                                       1\n",
       "\n",
       "[20 rows x 1 columns]"
      ]
     },
     "execution_count": 17,
     "metadata": {},
     "output_type": "execute_result"
    }
   ],
   "source": [
    "malls_country = df.pivot_table(values='Gross leasable area (GLA) in m2',index='Country',aggfunc=np.count_nonzero).sort_values('Gross leasable area (GLA) in m2',ascending=False)\n",
    "malls_country.rename(columns={'Gross leasable area (GLA) in m2':'Count of Malls in Largest 50 World'},inplace=True)\n",
    "malls_country"
   ]
  },
  {
   "cell_type": "code",
   "execution_count": 18,
   "id": "71cfed24",
   "metadata": {
    "execution": {
     "iopub.execute_input": "2023-07-05T12:07:39.897355Z",
     "iopub.status.busy": "2023-07-05T12:07:39.896952Z",
     "iopub.status.idle": "2023-07-05T12:07:40.405340Z",
     "shell.execute_reply": "2023-07-05T12:07:40.404023Z"
    },
    "papermill": {
     "duration": 0.522271,
     "end_time": "2023-07-05T12:07:40.408257",
     "exception": false,
     "start_time": "2023-07-05T12:07:39.885986",
     "status": "completed"
    },
    "tags": []
   },
   "outputs": [
    {
     "data": {
      "image/png": "[encoded data removed]",
      "text/plain": [
       "<Figure size 640x480 with 1 Axes>"
      ]
     },
     "metadata": {},
     "output_type": "display_data"
    }
   ],
   "source": [
    "malls_country.plot(kind='bar',title='No of malls fall in largest 50 malls of World',xlabel='Country',ylabel='No of Malls',grid=True)\n",
    "plt.show()"
   ]
  },
  {
   "cell_type": "markdown",
   "id": "1bf48f6b",
   "metadata": {
    "papermill": {
     "duration": 0.010164,
     "end_time": "2023-07-05T12:07:40.429096",
     "exception": false,
     "start_time": "2023-07-05T12:07:40.418932",
     "status": "completed"
    },
    "tags": []
   },
   "source": [
    "## Observations 1\n",
    "\n",
    "<h4>Main Contributors according to no of malls are Philippines, China, Thiland, United States, Indonesia,   Malaysia, Iran, Pakistan, Columbia.</h4>\n",
    "\n",
    " <h4>But, we need to check mean area of malls country wise to get more insights.</h4>"
   ]
  },
  {
   "cell_type": "code",
   "execution_count": 19,
   "id": "9ce6c121",
   "metadata": {
    "execution": {
     "iopub.execute_input": "2023-07-05T12:07:40.451893Z",
     "iopub.status.busy": "2023-07-05T12:07:40.451475Z",
     "iopub.status.idle": "2023-07-05T12:07:40.479227Z",
     "shell.execute_reply": "2023-07-05T12:07:40.477575Z"
    },
    "papermill": {
     "duration": 0.042365,
     "end_time": "2023-07-05T12:07:40.482043",
     "exception": false,
     "start_time": "2023-07-05T12:07:40.439678",
     "status": "completed"
    },
    "tags": []
   },
   "outputs": [
    {
     "data": {
      "text/html": [
       "<div>\n",
       "<style scoped>\n",
       "    .dataframe tbody tr th:only-of-type {\n",
       "        vertical-align: middle;\n",
       "    }\n",
       "\n",
       "    .dataframe tbody tr th {\n",
       "        vertical-align: top;\n",
       "    }\n",
       "\n",
       "    .dataframe thead th {\n",
       "        text-align: right;\n",
       "    }\n",
       "</style>\n",
       "<table border=\"1\" class=\"dataframe\">\n",
       "  <thead>\n",
       "    <tr style=\"text-align: right;\">\n",
       "      <th></th>\n",
       "      <th>Mean Area in m2</th>\n",
       "    </tr>\n",
       "    <tr>\n",
       "      <th>Country</th>\n",
       "      <th></th>\n",
       "    </tr>\n",
       "  </thead>\n",
       "  <tbody>\n",
       "    <tr>\n",
       "      <th>Iran</th>\n",
       "      <td>1.016667e+06</td>\n",
       "    </tr>\n",
       "    <tr>\n",
       "      <th>Malaysia</th>\n",
       "      <td>5.150820e+05</td>\n",
       "    </tr>\n",
       "    <tr>\n",
       "      <th>Thailand</th>\n",
       "      <td>4.625463e+05</td>\n",
       "    </tr>\n",
       "    <tr>\n",
       "      <th>China</th>\n",
       "      <td>4.602901e+05</td>\n",
       "    </tr>\n",
       "    <tr>\n",
       "      <th>Kuwait</th>\n",
       "      <td>4.250000e+05</td>\n",
       "    </tr>\n",
       "    <tr>\n",
       "      <th>...</th>\n",
       "      <td>...</td>\n",
       "    </tr>\n",
       "    <tr>\n",
       "      <th>Bahrain</th>\n",
       "      <td>2.730000e+05</td>\n",
       "    </tr>\n",
       "    <tr>\n",
       "      <th>Colombia</th>\n",
       "      <td>2.650000e+05</td>\n",
       "    </tr>\n",
       "    <tr>\n",
       "      <th>Saudi Arabia</th>\n",
       "      <td>2.610000e+05</td>\n",
       "    </tr>\n",
       "    <tr>\n",
       "      <th>Russia</th>\n",
       "      <td>2.586730e+05</td>\n",
       "    </tr>\n",
       "    <tr>\n",
       "      <th>Venezuela</th>\n",
       "      <td>2.500000e+05</td>\n",
       "    </tr>\n",
       "  </tbody>\n",
       "</table>\n",
       "<p>20 rows × 1 columns</p>\n",
       "</div>"
      ],
      "text/plain": [
       "              Mean Area in m2\n",
       "Country                      \n",
       "Iran             1.016667e+06\n",
       "Malaysia         5.150820e+05\n",
       "Thailand         4.625463e+05\n",
       "China            4.602901e+05\n",
       "Kuwait           4.250000e+05\n",
       "...                       ...\n",
       "Bahrain          2.730000e+05\n",
       "Colombia         2.650000e+05\n",
       "Saudi Arabia     2.610000e+05\n",
       "Russia           2.586730e+05\n",
       "Venezuela        2.500000e+05\n",
       "\n",
       "[20 rows x 1 columns]"
      ]
     },
     "execution_count": 19,
     "metadata": {},
     "output_type": "execute_result"
    }
   ],
   "source": [
    "malls_country_area = df.pivot_table(values='Gross leasable area (GLA) in m2',index='Country',aggfunc=np.mean).sort_values('Gross leasable area (GLA) in m2',ascending=False)\n",
    "malls_country_area.rename(columns={'Gross leasable area (GLA) in m2':'Mean Area in m2'},inplace=True)\n",
    "malls_country_area"
   ]
  },
  {
   "cell_type": "code",
   "execution_count": 20,
   "id": "0c31ad98",
   "metadata": {
    "execution": {
     "iopub.execute_input": "2023-07-05T12:07:40.504992Z",
     "iopub.status.busy": "2023-07-05T12:07:40.504519Z",
     "iopub.status.idle": "2023-07-05T12:07:41.056742Z",
     "shell.execute_reply": "2023-07-05T12:07:41.055336Z"
    },
    "papermill": {
     "duration": 0.566743,
     "end_time": "2023-07-05T12:07:41.059388",
     "exception": false,
     "start_time": "2023-07-05T12:07:40.492645",
     "status": "completed"
    },
    "tags": []
   },
   "outputs": [
    {
     "data": {
      "image/png": "[encoded data removed]",
      "text/plain": [
       "<Figure size 640x480 with 1 Axes>"
      ]
     },
     "metadata": {},
     "output_type": "display_data"
    }
   ],
   "source": [
    "malls_country_area.plot(kind='bar',title='mean area of malls country wise',xlabel='Country',ylabel='mean area',grid=True)\n",
    "plt.show()"
   ]
  },
  {
   "cell_type": "markdown",
   "id": "8ac87100",
   "metadata": {
    "papermill": {
     "duration": 0.010858,
     "end_time": "2023-07-05T12:07:41.081642",
     "exception": false,
     "start_time": "2023-07-05T12:07:41.070784",
     "status": "completed"
    },
    "tags": []
   },
   "source": [
    "## Observations 2\n",
    "\n",
    "<h4>Main Contributors according to mean area  are Iran, Malaysia, Thailand, China, Kuwait,Taiwan. I am not including other countries becuause they have almost same mean area.</h4>\n",
    "\n",
    " <h4>But, we need to check another factor \"Average No of Shops\".</h4>"
   ]
  },
  {
   "cell_type": "code",
   "execution_count": 21,
   "id": "fa32ffaf",
   "metadata": {
    "execution": {
     "iopub.execute_input": "2023-07-05T12:07:41.106516Z",
     "iopub.status.busy": "2023-07-05T12:07:41.105718Z",
     "iopub.status.idle": "2023-07-05T12:07:41.126797Z",
     "shell.execute_reply": "2023-07-05T12:07:41.125664Z"
    },
    "papermill": {
     "duration": 0.03607,
     "end_time": "2023-07-05T12:07:41.129190",
     "exception": false,
     "start_time": "2023-07-05T12:07:41.093120",
     "status": "completed"
    },
    "tags": []
   },
   "outputs": [
    {
     "data": {
      "text/html": [
       "<div>\n",
       "<style scoped>\n",
       "    .dataframe tbody tr th:only-of-type {\n",
       "        vertical-align: middle;\n",
       "    }\n",
       "\n",
       "    .dataframe tbody tr th {\n",
       "        vertical-align: top;\n",
       "    }\n",
       "\n",
       "    .dataframe thead th {\n",
       "        text-align: right;\n",
       "    }\n",
       "</style>\n",
       "<table border=\"1\" class=\"dataframe\">\n",
       "  <thead>\n",
       "    <tr style=\"text-align: right;\">\n",
       "      <th></th>\n",
       "      <th>Average number of Shops</th>\n",
       "    </tr>\n",
       "    <tr>\n",
       "      <th>Country</th>\n",
       "      <th></th>\n",
       "    </tr>\n",
       "  </thead>\n",
       "  <tbody>\n",
       "    <tr>\n",
       "      <th>Kuwait</th>\n",
       "      <td>1100.000000</td>\n",
       "    </tr>\n",
       "    <tr>\n",
       "      <th>Iran</th>\n",
       "      <td>1068.333333</td>\n",
       "    </tr>\n",
       "    <tr>\n",
       "      <th>China</th>\n",
       "      <td>1032.857143</td>\n",
       "    </tr>\n",
       "    <tr>\n",
       "      <th>Philippines</th>\n",
       "      <td>833.000000</td>\n",
       "    </tr>\n",
       "    <tr>\n",
       "      <th>Canada</th>\n",
       "      <td>800.000000</td>\n",
       "    </tr>\n",
       "    <tr>\n",
       "      <th>...</th>\n",
       "      <td>...</td>\n",
       "    </tr>\n",
       "    <tr>\n",
       "      <th>Bangladesh</th>\n",
       "      <td>200.000000</td>\n",
       "    </tr>\n",
       "    <tr>\n",
       "      <th>Colombia</th>\n",
       "      <td>200.000000</td>\n",
       "    </tr>\n",
       "    <tr>\n",
       "      <th>Panama</th>\n",
       "      <td>200.000000</td>\n",
       "    </tr>\n",
       "    <tr>\n",
       "      <th>Saudi Arabia</th>\n",
       "      <td>187.000000</td>\n",
       "    </tr>\n",
       "    <tr>\n",
       "      <th>Pakistan</th>\n",
       "      <td>133.333333</td>\n",
       "    </tr>\n",
       "  </tbody>\n",
       "</table>\n",
       "<p>20 rows × 1 columns</p>\n",
       "</div>"
      ],
      "text/plain": [
       "              Average number of Shops\n",
       "Country                              \n",
       "Kuwait                    1100.000000\n",
       "Iran                      1068.333333\n",
       "China                     1032.857143\n",
       "Philippines                833.000000\n",
       "Canada                     800.000000\n",
       "...                               ...\n",
       "Bangladesh                 200.000000\n",
       "Colombia                   200.000000\n",
       "Panama                     200.000000\n",
       "Saudi Arabia               187.000000\n",
       "Pakistan                   133.333333\n",
       "\n",
       "[20 rows x 1 columns]"
      ]
     },
     "execution_count": 21,
     "metadata": {},
     "output_type": "execute_result"
    }
   ],
   "source": [
    "shops_country = df.pivot_table(values='Shops',index='Country',aggfunc=np.mean).sort_values('Shops',ascending=False)\n",
    "shops_country.rename(columns={'Shops':'Average number of Shops'},inplace=True)\n",
    "shops_country"
   ]
  },
  {
   "cell_type": "code",
   "execution_count": 22,
   "id": "4374067b",
   "metadata": {
    "execution": {
     "iopub.execute_input": "2023-07-05T12:07:41.153814Z",
     "iopub.status.busy": "2023-07-05T12:07:41.153411Z",
     "iopub.status.idle": "2023-07-05T12:07:41.566554Z",
     "shell.execute_reply": "2023-07-05T12:07:41.565163Z"
    },
    "papermill": {
     "duration": 0.428675,
     "end_time": "2023-07-05T12:07:41.569322",
     "exception": false,
     "start_time": "2023-07-05T12:07:41.140647",
     "status": "completed"
    },
    "tags": []
   },
   "outputs": [
    {
     "data": {
      "image/png": "[encoded data removed]",
      "text/plain": [
       "<Figure size 640x480 with 1 Axes>"
      ]
     },
     "metadata": {},
     "output_type": "display_data"
    }
   ],
   "source": [
    "shops_country.plot(kind='bar',title='Average no of Shops in malls in World Largest 50 Malls',xlabel='country',ylabel='averge no of shops',grid=True)\n",
    "plt.show()"
   ]
  },
  {
   "cell_type": "markdown",
   "id": "7ba86bf2",
   "metadata": {
    "papermill": {
     "duration": 0.011907,
     "end_time": "2023-07-05T12:07:41.594372",
     "exception": false,
     "start_time": "2023-07-05T12:07:41.582465",
     "status": "completed"
    },
    "tags": []
   },
   "source": [
    "## Observations 3\n",
    "\n",
    "<h4>Main Contributors according to  average number of shops are Kuwait, Iran , China, Philippines, Canada , Bahrain, Malaysia.</h4>"
   ]
  },
  {
   "cell_type": "markdown",
   "id": "42088a07",
   "metadata": {
    "papermill": {
     "duration": 0.012099,
     "end_time": "2023-07-05T12:07:41.619244",
     "exception": false,
     "start_time": "2023-07-05T12:07:41.607145",
     "status": "completed"
    },
    "tags": []
   },
   "source": [
    "## Best Performing Country"
   ]
  },
  {
   "cell_type": "code",
   "execution_count": 23,
   "id": "74345a36",
   "metadata": {
    "execution": {
     "iopub.execute_input": "2023-07-05T12:07:41.647111Z",
     "iopub.status.busy": "2023-07-05T12:07:41.645757Z",
     "iopub.status.idle": "2023-07-05T12:07:41.657399Z",
     "shell.execute_reply": "2023-07-05T12:07:41.656206Z"
    },
    "papermill": {
     "duration": 0.028652,
     "end_time": "2023-07-05T12:07:41.660339",
     "exception": false,
     "start_time": "2023-07-05T12:07:41.631687",
     "status": "completed"
    },
    "tags": []
   },
   "outputs": [
    {
     "name": "stdout",
     "output_type": "stream",
     "text": [
      "          Mean Area in m2\n",
      "Country                  \n",
      "Iran         1.016667e+06\n",
      "Malaysia     5.150820e+05\n",
      "Thailand     4.625463e+05\n",
      "China        4.602901e+05\n",
      "Kuwait       4.250000e+05\n",
      "               Count of Malls in Largest 50 World\n",
      "Country                                          \n",
      "Philippines                                    10\n",
      "China                                           7\n",
      "Thailand                                        6\n",
      "United States                                   5\n",
      "Indonesia                                       5\n",
      "             Average number of Shops\n",
      "Country                             \n",
      "Kuwait                   1100.000000\n",
      "Iran                     1068.333333\n",
      "China                    1032.857143\n",
      "Philippines               833.000000\n",
      "Canada                    800.000000\n"
     ]
    }
   ],
   "source": [
    "print(malls_country_area[0:5])\n",
    "print(malls_country[0:5])\n",
    "print(shops_country[0:5])"
   ]
  },
  {
   "cell_type": "markdown",
   "id": "8bb3c7fc",
   "metadata": {
    "papermill": {
     "duration": 0.012147,
     "end_time": "2023-07-05T12:07:41.684995",
     "exception": false,
     "start_time": "2023-07-05T12:07:41.672848",
     "status": "completed"
    },
    "tags": []
   },
   "source": [
    "**As we can see , China is 4th in Mean Area of Malls, 2nd in Count of Malls, 3rd in Average number of Shops. So we can say Best Performing Country in World Largest 50 malls is China.**\n"
   ]
  }
 ],
 "metadata": {
  "kernelspec": {
   "display_name": "Python 3",
   "language": "python",
   "name": "python3"
  },
  "language_info": {
   "codemirror_mode": {
    "name": "ipython",
    "version": 3
   },
   "file_extension": ".py",
   "mimetype": "text/x-python",
   "name": "python",
   "nbconvert_exporter": "python",
   "pygments_lexer": "ipython3",
   "version": "3.10.10"
  },
  "papermill": {
   "default_parameters": {},
   "duration": 16.355227,
   "end_time": "2023-07-05T12:07:42.721548",
   "environment_variables": {},
   "exception": null,
   "input_path": "__notebook__.ipynb",
   "output_path": "__notebook__.ipynb",
   "parameters": {},
   "start_time": "2023-07-05T12:07:26.366321",
   "version": "2.4.0"
  }
 },
 "nbformat": 4,
 "nbformat_minor": 5
}
